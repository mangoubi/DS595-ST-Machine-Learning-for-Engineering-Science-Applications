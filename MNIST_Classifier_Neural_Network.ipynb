{
  "nbformat": 4,
  "nbformat_minor": 0,
  "metadata": {
    "colab": {
      "provenance": [],
      "collapsed_sections": [],
      "include_colab_link": true
    },
    "kernelspec": {
      "name": "python3",
      "display_name": "Python 3"
    },
    "widgets": {
      "application/vnd.jupyter.widget-state+json": {
        "74f8fd76f04347bb9d66e339acb8c7e8": {
          "model_module": "@jupyter-widgets/controls",
          "model_name": "HBoxModel",
          "model_module_version": "1.5.0",
          "state": {
            "_dom_classes": [],
            "_model_module": "@jupyter-widgets/controls",
            "_model_module_version": "1.5.0",
            "_model_name": "HBoxModel",
            "_view_count": null,
            "_view_module": "@jupyter-widgets/controls",
            "_view_module_version": "1.5.0",
            "_view_name": "HBoxView",
            "box_style": "",
            "children": [
              "IPY_MODEL_678b90b4a6c041c59045752838f203e1",
              "IPY_MODEL_b17197523edb4ec795f7121d36988d6c",
              "IPY_MODEL_3cb922525f4c476da16f3b46de989930"
            ],
            "layout": "IPY_MODEL_7bd7753b2cb442128459524309de5a4b"
          }
        },
        "678b90b4a6c041c59045752838f203e1": {
          "model_module": "@jupyter-widgets/controls",
          "model_name": "HTMLModel",
          "model_module_version": "1.5.0",
          "state": {
            "_dom_classes": [],
            "_model_module": "@jupyter-widgets/controls",
            "_model_module_version": "1.5.0",
            "_model_name": "HTMLModel",
            "_view_count": null,
            "_view_module": "@jupyter-widgets/controls",
            "_view_module_version": "1.5.0",
            "_view_name": "HTMLView",
            "description": "",
            "description_tooltip": null,
            "layout": "IPY_MODEL_f7e5c48143a44d2dbd51e14ddab12ecd",
            "placeholder": "​",
            "style": "IPY_MODEL_3700244dd1684283bc77e4e333d8b31d",
            "value": "100%"
          }
        },
        "b17197523edb4ec795f7121d36988d6c": {
          "model_module": "@jupyter-widgets/controls",
          "model_name": "FloatProgressModel",
          "model_module_version": "1.5.0",
          "state": {
            "_dom_classes": [],
            "_model_module": "@jupyter-widgets/controls",
            "_model_module_version": "1.5.0",
            "_model_name": "FloatProgressModel",
            "_view_count": null,
            "_view_module": "@jupyter-widgets/controls",
            "_view_module_version": "1.5.0",
            "_view_name": "ProgressView",
            "bar_style": "success",
            "description": "",
            "description_tooltip": null,
            "layout": "IPY_MODEL_2e04ede320f24302bd33e8aa0fc7459f",
            "max": 9912422,
            "min": 0,
            "orientation": "horizontal",
            "style": "IPY_MODEL_0342dd0cdaad464086f55ed8048019a0",
            "value": 9912422
          }
        },
        "3cb922525f4c476da16f3b46de989930": {
          "model_module": "@jupyter-widgets/controls",
          "model_name": "HTMLModel",
          "model_module_version": "1.5.0",
          "state": {
            "_dom_classes": [],
            "_model_module": "@jupyter-widgets/controls",
            "_model_module_version": "1.5.0",
            "_model_name": "HTMLModel",
            "_view_count": null,
            "_view_module": "@jupyter-widgets/controls",
            "_view_module_version": "1.5.0",
            "_view_name": "HTMLView",
            "description": "",
            "description_tooltip": null,
            "layout": "IPY_MODEL_5c51d1dda6554c9fbe14ea16e2b4878c",
            "placeholder": "​",
            "style": "IPY_MODEL_eccfe158fd3742fe9c0a03a1a5e9a5b2",
            "value": " 9912422/9912422 [00:00&lt;00:00, 36731900.47it/s]"
          }
        },
        "7bd7753b2cb442128459524309de5a4b": {
          "model_module": "@jupyter-widgets/base",
          "model_name": "LayoutModel",
          "model_module_version": "1.2.0",
          "state": {
            "_model_module": "@jupyter-widgets/base",
            "_model_module_version": "1.2.0",
            "_model_name": "LayoutModel",
            "_view_count": null,
            "_view_module": "@jupyter-widgets/base",
            "_view_module_version": "1.2.0",
            "_view_name": "LayoutView",
            "align_content": null,
            "align_items": null,
            "align_self": null,
            "border": null,
            "bottom": null,
            "display": null,
            "flex": null,
            "flex_flow": null,
            "grid_area": null,
            "grid_auto_columns": null,
            "grid_auto_flow": null,
            "grid_auto_rows": null,
            "grid_column": null,
            "grid_gap": null,
            "grid_row": null,
            "grid_template_areas": null,
            "grid_template_columns": null,
            "grid_template_rows": null,
            "height": null,
            "justify_content": null,
            "justify_items": null,
            "left": null,
            "margin": null,
            "max_height": null,
            "max_width": null,
            "min_height": null,
            "min_width": null,
            "object_fit": null,
            "object_position": null,
            "order": null,
            "overflow": null,
            "overflow_x": null,
            "overflow_y": null,
            "padding": null,
            "right": null,
            "top": null,
            "visibility": null,
            "width": null
          }
        },
        "f7e5c48143a44d2dbd51e14ddab12ecd": {
          "model_module": "@jupyter-widgets/base",
          "model_name": "LayoutModel",
          "model_module_version": "1.2.0",
          "state": {
            "_model_module": "@jupyter-widgets/base",
            "_model_module_version": "1.2.0",
            "_model_name": "LayoutModel",
            "_view_count": null,
            "_view_module": "@jupyter-widgets/base",
            "_view_module_version": "1.2.0",
            "_view_name": "LayoutView",
            "align_content": null,
            "align_items": null,
            "align_self": null,
            "border": null,
            "bottom": null,
            "display": null,
            "flex": null,
            "flex_flow": null,
            "grid_area": null,
            "grid_auto_columns": null,
            "grid_auto_flow": null,
            "grid_auto_rows": null,
            "grid_column": null,
            "grid_gap": null,
            "grid_row": null,
            "grid_template_areas": null,
            "grid_template_columns": null,
            "grid_template_rows": null,
            "height": null,
            "justify_content": null,
            "justify_items": null,
            "left": null,
            "margin": null,
            "max_height": null,
            "max_width": null,
            "min_height": null,
            "min_width": null,
            "object_fit": null,
            "object_position": null,
            "order": null,
            "overflow": null,
            "overflow_x": null,
            "overflow_y": null,
            "padding": null,
            "right": null,
            "top": null,
            "visibility": null,
            "width": null
          }
        },
        "3700244dd1684283bc77e4e333d8b31d": {
          "model_module": "@jupyter-widgets/controls",
          "model_name": "DescriptionStyleModel",
          "model_module_version": "1.5.0",
          "state": {
            "_model_module": "@jupyter-widgets/controls",
            "_model_module_version": "1.5.0",
            "_model_name": "DescriptionStyleModel",
            "_view_count": null,
            "_view_module": "@jupyter-widgets/base",
            "_view_module_version": "1.2.0",
            "_view_name": "StyleView",
            "description_width": ""
          }
        },
        "2e04ede320f24302bd33e8aa0fc7459f": {
          "model_module": "@jupyter-widgets/base",
          "model_name": "LayoutModel",
          "model_module_version": "1.2.0",
          "state": {
            "_model_module": "@jupyter-widgets/base",
            "_model_module_version": "1.2.0",
            "_model_name": "LayoutModel",
            "_view_count": null,
            "_view_module": "@jupyter-widgets/base",
            "_view_module_version": "1.2.0",
            "_view_name": "LayoutView",
            "align_content": null,
            "align_items": null,
            "align_self": null,
            "border": null,
            "bottom": null,
            "display": null,
            "flex": null,
            "flex_flow": null,
            "grid_area": null,
            "grid_auto_columns": null,
            "grid_auto_flow": null,
            "grid_auto_rows": null,
            "grid_column": null,
            "grid_gap": null,
            "grid_row": null,
            "grid_template_areas": null,
            "grid_template_columns": null,
            "grid_template_rows": null,
            "height": null,
            "justify_content": null,
            "justify_items": null,
            "left": null,
            "margin": null,
            "max_height": null,
            "max_width": null,
            "min_height": null,
            "min_width": null,
            "object_fit": null,
            "object_position": null,
            "order": null,
            "overflow": null,
            "overflow_x": null,
            "overflow_y": null,
            "padding": null,
            "right": null,
            "top": null,
            "visibility": null,
            "width": null
          }
        },
        "0342dd0cdaad464086f55ed8048019a0": {
          "model_module": "@jupyter-widgets/controls",
          "model_name": "ProgressStyleModel",
          "model_module_version": "1.5.0",
          "state": {
            "_model_module": "@jupyter-widgets/controls",
            "_model_module_version": "1.5.0",
            "_model_name": "ProgressStyleModel",
            "_view_count": null,
            "_view_module": "@jupyter-widgets/base",
            "_view_module_version": "1.2.0",
            "_view_name": "StyleView",
            "bar_color": null,
            "description_width": ""
          }
        },
        "5c51d1dda6554c9fbe14ea16e2b4878c": {
          "model_module": "@jupyter-widgets/base",
          "model_name": "LayoutModel",
          "model_module_version": "1.2.0",
          "state": {
            "_model_module": "@jupyter-widgets/base",
            "_model_module_version": "1.2.0",
            "_model_name": "LayoutModel",
            "_view_count": null,
            "_view_module": "@jupyter-widgets/base",
            "_view_module_version": "1.2.0",
            "_view_name": "LayoutView",
            "align_content": null,
            "align_items": null,
            "align_self": null,
            "border": null,
            "bottom": null,
            "display": null,
            "flex": null,
            "flex_flow": null,
            "grid_area": null,
            "grid_auto_columns": null,
            "grid_auto_flow": null,
            "grid_auto_rows": null,
            "grid_column": null,
            "grid_gap": null,
            "grid_row": null,
            "grid_template_areas": null,
            "grid_template_columns": null,
            "grid_template_rows": null,
            "height": null,
            "justify_content": null,
            "justify_items": null,
            "left": null,
            "margin": null,
            "max_height": null,
            "max_width": null,
            "min_height": null,
            "min_width": null,
            "object_fit": null,
            "object_position": null,
            "order": null,
            "overflow": null,
            "overflow_x": null,
            "overflow_y": null,
            "padding": null,
            "right": null,
            "top": null,
            "visibility": null,
            "width": null
          }
        },
        "eccfe158fd3742fe9c0a03a1a5e9a5b2": {
          "model_module": "@jupyter-widgets/controls",
          "model_name": "DescriptionStyleModel",
          "model_module_version": "1.5.0",
          "state": {
            "_model_module": "@jupyter-widgets/controls",
            "_model_module_version": "1.5.0",
            "_model_name": "DescriptionStyleModel",
            "_view_count": null,
            "_view_module": "@jupyter-widgets/base",
            "_view_module_version": "1.2.0",
            "_view_name": "StyleView",
            "description_width": ""
          }
        },
        "d099b0a4341347da911789474fdf1d06": {
          "model_module": "@jupyter-widgets/controls",
          "model_name": "HBoxModel",
          "model_module_version": "1.5.0",
          "state": {
            "_dom_classes": [],
            "_model_module": "@jupyter-widgets/controls",
            "_model_module_version": "1.5.0",
            "_model_name": "HBoxModel",
            "_view_count": null,
            "_view_module": "@jupyter-widgets/controls",
            "_view_module_version": "1.5.0",
            "_view_name": "HBoxView",
            "box_style": "",
            "children": [
              "IPY_MODEL_b27750445870491594f0aba49354dee3",
              "IPY_MODEL_21d6c03e02a1484db1eb2270073a5e15",
              "IPY_MODEL_98a2d245a57a4f7f8083de792ab70846"
            ],
            "layout": "IPY_MODEL_cbaa5620c7094b55a340d46b124b2050"
          }
        },
        "b27750445870491594f0aba49354dee3": {
          "model_module": "@jupyter-widgets/controls",
          "model_name": "HTMLModel",
          "model_module_version": "1.5.0",
          "state": {
            "_dom_classes": [],
            "_model_module": "@jupyter-widgets/controls",
            "_model_module_version": "1.5.0",
            "_model_name": "HTMLModel",
            "_view_count": null,
            "_view_module": "@jupyter-widgets/controls",
            "_view_module_version": "1.5.0",
            "_view_name": "HTMLView",
            "description": "",
            "description_tooltip": null,
            "layout": "IPY_MODEL_9e79d8329a674b60aa7da5aa78eecb92",
            "placeholder": "​",
            "style": "IPY_MODEL_fdd809a029b2410c83d44e460f5a199d",
            "value": "100%"
          }
        },
        "21d6c03e02a1484db1eb2270073a5e15": {
          "model_module": "@jupyter-widgets/controls",
          "model_name": "FloatProgressModel",
          "model_module_version": "1.5.0",
          "state": {
            "_dom_classes": [],
            "_model_module": "@jupyter-widgets/controls",
            "_model_module_version": "1.5.0",
            "_model_name": "FloatProgressModel",
            "_view_count": null,
            "_view_module": "@jupyter-widgets/controls",
            "_view_module_version": "1.5.0",
            "_view_name": "ProgressView",
            "bar_style": "success",
            "description": "",
            "description_tooltip": null,
            "layout": "IPY_MODEL_d8ae5e6da73542ab82dbfaf87becd8bd",
            "max": 28881,
            "min": 0,
            "orientation": "horizontal",
            "style": "IPY_MODEL_cf05d5998cf0455281ffbe79ef5ba57a",
            "value": 28881
          }
        },
        "98a2d245a57a4f7f8083de792ab70846": {
          "model_module": "@jupyter-widgets/controls",
          "model_name": "HTMLModel",
          "model_module_version": "1.5.0",
          "state": {
            "_dom_classes": [],
            "_model_module": "@jupyter-widgets/controls",
            "_model_module_version": "1.5.0",
            "_model_name": "HTMLModel",
            "_view_count": null,
            "_view_module": "@jupyter-widgets/controls",
            "_view_module_version": "1.5.0",
            "_view_name": "HTMLView",
            "description": "",
            "description_tooltip": null,
            "layout": "IPY_MODEL_895525c89eb1401f85c0e7ed44998862",
            "placeholder": "​",
            "style": "IPY_MODEL_b158cf78a81544dc937d0961cf0ed332",
            "value": " 28881/28881 [00:00&lt;00:00, 598895.97it/s]"
          }
        },
        "cbaa5620c7094b55a340d46b124b2050": {
          "model_module": "@jupyter-widgets/base",
          "model_name": "LayoutModel",
          "model_module_version": "1.2.0",
          "state": {
            "_model_module": "@jupyter-widgets/base",
            "_model_module_version": "1.2.0",
            "_model_name": "LayoutModel",
            "_view_count": null,
            "_view_module": "@jupyter-widgets/base",
            "_view_module_version": "1.2.0",
            "_view_name": "LayoutView",
            "align_content": null,
            "align_items": null,
            "align_self": null,
            "border": null,
            "bottom": null,
            "display": null,
            "flex": null,
            "flex_flow": null,
            "grid_area": null,
            "grid_auto_columns": null,
            "grid_auto_flow": null,
            "grid_auto_rows": null,
            "grid_column": null,
            "grid_gap": null,
            "grid_row": null,
            "grid_template_areas": null,
            "grid_template_columns": null,
            "grid_template_rows": null,
            "height": null,
            "justify_content": null,
            "justify_items": null,
            "left": null,
            "margin": null,
            "max_height": null,
            "max_width": null,
            "min_height": null,
            "min_width": null,
            "object_fit": null,
            "object_position": null,
            "order": null,
            "overflow": null,
            "overflow_x": null,
            "overflow_y": null,
            "padding": null,
            "right": null,
            "top": null,
            "visibility": null,
            "width": null
          }
        },
        "9e79d8329a674b60aa7da5aa78eecb92": {
          "model_module": "@jupyter-widgets/base",
          "model_name": "LayoutModel",
          "model_module_version": "1.2.0",
          "state": {
            "_model_module": "@jupyter-widgets/base",
            "_model_module_version": "1.2.0",
            "_model_name": "LayoutModel",
            "_view_count": null,
            "_view_module": "@jupyter-widgets/base",
            "_view_module_version": "1.2.0",
            "_view_name": "LayoutView",
            "align_content": null,
            "align_items": null,
            "align_self": null,
            "border": null,
            "bottom": null,
            "display": null,
            "flex": null,
            "flex_flow": null,
            "grid_area": null,
            "grid_auto_columns": null,
            "grid_auto_flow": null,
            "grid_auto_rows": null,
            "grid_column": null,
            "grid_gap": null,
            "grid_row": null,
            "grid_template_areas": null,
            "grid_template_columns": null,
            "grid_template_rows": null,
            "height": null,
            "justify_content": null,
            "justify_items": null,
            "left": null,
            "margin": null,
            "max_height": null,
            "max_width": null,
            "min_height": null,
            "min_width": null,
            "object_fit": null,
            "object_position": null,
            "order": null,
            "overflow": null,
            "overflow_x": null,
            "overflow_y": null,
            "padding": null,
            "right": null,
            "top": null,
            "visibility": null,
            "width": null
          }
        },
        "fdd809a029b2410c83d44e460f5a199d": {
          "model_module": "@jupyter-widgets/controls",
          "model_name": "DescriptionStyleModel",
          "model_module_version": "1.5.0",
          "state": {
            "_model_module": "@jupyter-widgets/controls",
            "_model_module_version": "1.5.0",
            "_model_name": "DescriptionStyleModel",
            "_view_count": null,
            "_view_module": "@jupyter-widgets/base",
            "_view_module_version": "1.2.0",
            "_view_name": "StyleView",
            "description_width": ""
          }
        },
        "d8ae5e6da73542ab82dbfaf87becd8bd": {
          "model_module": "@jupyter-widgets/base",
          "model_name": "LayoutModel",
          "model_module_version": "1.2.0",
          "state": {
            "_model_module": "@jupyter-widgets/base",
            "_model_module_version": "1.2.0",
            "_model_name": "LayoutModel",
            "_view_count": null,
            "_view_module": "@jupyter-widgets/base",
            "_view_module_version": "1.2.0",
            "_view_name": "LayoutView",
            "align_content": null,
            "align_items": null,
            "align_self": null,
            "border": null,
            "bottom": null,
            "display": null,
            "flex": null,
            "flex_flow": null,
            "grid_area": null,
            "grid_auto_columns": null,
            "grid_auto_flow": null,
            "grid_auto_rows": null,
            "grid_column": null,
            "grid_gap": null,
            "grid_row": null,
            "grid_template_areas": null,
            "grid_template_columns": null,
            "grid_template_rows": null,
            "height": null,
            "justify_content": null,
            "justify_items": null,
            "left": null,
            "margin": null,
            "max_height": null,
            "max_width": null,
            "min_height": null,
            "min_width": null,
            "object_fit": null,
            "object_position": null,
            "order": null,
            "overflow": null,
            "overflow_x": null,
            "overflow_y": null,
            "padding": null,
            "right": null,
            "top": null,
            "visibility": null,
            "width": null
          }
        },
        "cf05d5998cf0455281ffbe79ef5ba57a": {
          "model_module": "@jupyter-widgets/controls",
          "model_name": "ProgressStyleModel",
          "model_module_version": "1.5.0",
          "state": {
            "_model_module": "@jupyter-widgets/controls",
            "_model_module_version": "1.5.0",
            "_model_name": "ProgressStyleModel",
            "_view_count": null,
            "_view_module": "@jupyter-widgets/base",
            "_view_module_version": "1.2.0",
            "_view_name": "StyleView",
            "bar_color": null,
            "description_width": ""
          }
        },
        "895525c89eb1401f85c0e7ed44998862": {
          "model_module": "@jupyter-widgets/base",
          "model_name": "LayoutModel",
          "model_module_version": "1.2.0",
          "state": {
            "_model_module": "@jupyter-widgets/base",
            "_model_module_version": "1.2.0",
            "_model_name": "LayoutModel",
            "_view_count": null,
            "_view_module": "@jupyter-widgets/base",
            "_view_module_version": "1.2.0",
            "_view_name": "LayoutView",
            "align_content": null,
            "align_items": null,
            "align_self": null,
            "border": null,
            "bottom": null,
            "display": null,
            "flex": null,
            "flex_flow": null,
            "grid_area": null,
            "grid_auto_columns": null,
            "grid_auto_flow": null,
            "grid_auto_rows": null,
            "grid_column": null,
            "grid_gap": null,
            "grid_row": null,
            "grid_template_areas": null,
            "grid_template_columns": null,
            "grid_template_rows": null,
            "height": null,
            "justify_content": null,
            "justify_items": null,
            "left": null,
            "margin": null,
            "max_height": null,
            "max_width": null,
            "min_height": null,
            "min_width": null,
            "object_fit": null,
            "object_position": null,
            "order": null,
            "overflow": null,
            "overflow_x": null,
            "overflow_y": null,
            "padding": null,
            "right": null,
            "top": null,
            "visibility": null,
            "width": null
          }
        },
        "b158cf78a81544dc937d0961cf0ed332": {
          "model_module": "@jupyter-widgets/controls",
          "model_name": "DescriptionStyleModel",
          "model_module_version": "1.5.0",
          "state": {
            "_model_module": "@jupyter-widgets/controls",
            "_model_module_version": "1.5.0",
            "_model_name": "DescriptionStyleModel",
            "_view_count": null,
            "_view_module": "@jupyter-widgets/base",
            "_view_module_version": "1.2.0",
            "_view_name": "StyleView",
            "description_width": ""
          }
        },
        "52a0694fe3274f26b54bd56fb51d0383": {
          "model_module": "@jupyter-widgets/controls",
          "model_name": "HBoxModel",
          "model_module_version": "1.5.0",
          "state": {
            "_dom_classes": [],
            "_model_module": "@jupyter-widgets/controls",
            "_model_module_version": "1.5.0",
            "_model_name": "HBoxModel",
            "_view_count": null,
            "_view_module": "@jupyter-widgets/controls",
            "_view_module_version": "1.5.0",
            "_view_name": "HBoxView",
            "box_style": "",
            "children": [
              "IPY_MODEL_0d23ef916ee94ad1a22f7669f87b7995",
              "IPY_MODEL_5294378acc1e4b11af57699a7fe6e93b",
              "IPY_MODEL_744802fd289a44afb02f5f7ffcd35b2d"
            ],
            "layout": "IPY_MODEL_286e120a931645b29b5c67f5157325e7"
          }
        },
        "0d23ef916ee94ad1a22f7669f87b7995": {
          "model_module": "@jupyter-widgets/controls",
          "model_name": "HTMLModel",
          "model_module_version": "1.5.0",
          "state": {
            "_dom_classes": [],
            "_model_module": "@jupyter-widgets/controls",
            "_model_module_version": "1.5.0",
            "_model_name": "HTMLModel",
            "_view_count": null,
            "_view_module": "@jupyter-widgets/controls",
            "_view_module_version": "1.5.0",
            "_view_name": "HTMLView",
            "description": "",
            "description_tooltip": null,
            "layout": "IPY_MODEL_7996bb48472f49f19d1e26ffa827f9bd",
            "placeholder": "​",
            "style": "IPY_MODEL_f703cf124bd44df5bdd99ed7d1925c77",
            "value": "100%"
          }
        },
        "5294378acc1e4b11af57699a7fe6e93b": {
          "model_module": "@jupyter-widgets/controls",
          "model_name": "FloatProgressModel",
          "model_module_version": "1.5.0",
          "state": {
            "_dom_classes": [],
            "_model_module": "@jupyter-widgets/controls",
            "_model_module_version": "1.5.0",
            "_model_name": "FloatProgressModel",
            "_view_count": null,
            "_view_module": "@jupyter-widgets/controls",
            "_view_module_version": "1.5.0",
            "_view_name": "ProgressView",
            "bar_style": "success",
            "description": "",
            "description_tooltip": null,
            "layout": "IPY_MODEL_95770c39b31148ada11413698afdb2b4",
            "max": 1648877,
            "min": 0,
            "orientation": "horizontal",
            "style": "IPY_MODEL_0c997d75eba449a4a0b5fbbb0e59b527",
            "value": 1648877
          }
        },
        "744802fd289a44afb02f5f7ffcd35b2d": {
          "model_module": "@jupyter-widgets/controls",
          "model_name": "HTMLModel",
          "model_module_version": "1.5.0",
          "state": {
            "_dom_classes": [],
            "_model_module": "@jupyter-widgets/controls",
            "_model_module_version": "1.5.0",
            "_model_name": "HTMLModel",
            "_view_count": null,
            "_view_module": "@jupyter-widgets/controls",
            "_view_module_version": "1.5.0",
            "_view_name": "HTMLView",
            "description": "",
            "description_tooltip": null,
            "layout": "IPY_MODEL_704a1309ff7a4c2883406e4f1f6c074f",
            "placeholder": "​",
            "style": "IPY_MODEL_d024137932d044c8acc31871ea27e466",
            "value": " 1648877/1648877 [00:00&lt;00:00, 12757450.06it/s]"
          }
        },
        "286e120a931645b29b5c67f5157325e7": {
          "model_module": "@jupyter-widgets/base",
          "model_name": "LayoutModel",
          "model_module_version": "1.2.0",
          "state": {
            "_model_module": "@jupyter-widgets/base",
            "_model_module_version": "1.2.0",
            "_model_name": "LayoutModel",
            "_view_count": null,
            "_view_module": "@jupyter-widgets/base",
            "_view_module_version": "1.2.0",
            "_view_name": "LayoutView",
            "align_content": null,
            "align_items": null,
            "align_self": null,
            "border": null,
            "bottom": null,
            "display": null,
            "flex": null,
            "flex_flow": null,
            "grid_area": null,
            "grid_auto_columns": null,
            "grid_auto_flow": null,
            "grid_auto_rows": null,
            "grid_column": null,
            "grid_gap": null,
            "grid_row": null,
            "grid_template_areas": null,
            "grid_template_columns": null,
            "grid_template_rows": null,
            "height": null,
            "justify_content": null,
            "justify_items": null,
            "left": null,
            "margin": null,
            "max_height": null,
            "max_width": null,
            "min_height": null,
            "min_width": null,
            "object_fit": null,
            "object_position": null,
            "order": null,
            "overflow": null,
            "overflow_x": null,
            "overflow_y": null,
            "padding": null,
            "right": null,
            "top": null,
            "visibility": null,
            "width": null
          }
        },
        "7996bb48472f49f19d1e26ffa827f9bd": {
          "model_module": "@jupyter-widgets/base",
          "model_name": "LayoutModel",
          "model_module_version": "1.2.0",
          "state": {
            "_model_module": "@jupyter-widgets/base",
            "_model_module_version": "1.2.0",
            "_model_name": "LayoutModel",
            "_view_count": null,
            "_view_module": "@jupyter-widgets/base",
            "_view_module_version": "1.2.0",
            "_view_name": "LayoutView",
            "align_content": null,
            "align_items": null,
            "align_self": null,
            "border": null,
            "bottom": null,
            "display": null,
            "flex": null,
            "flex_flow": null,
            "grid_area": null,
            "grid_auto_columns": null,
            "grid_auto_flow": null,
            "grid_auto_rows": null,
            "grid_column": null,
            "grid_gap": null,
            "grid_row": null,
            "grid_template_areas": null,
            "grid_template_columns": null,
            "grid_template_rows": null,
            "height": null,
            "justify_content": null,
            "justify_items": null,
            "left": null,
            "margin": null,
            "max_height": null,
            "max_width": null,
            "min_height": null,
            "min_width": null,
            "object_fit": null,
            "object_position": null,
            "order": null,
            "overflow": null,
            "overflow_x": null,
            "overflow_y": null,
            "padding": null,
            "right": null,
            "top": null,
            "visibility": null,
            "width": null
          }
        },
        "f703cf124bd44df5bdd99ed7d1925c77": {
          "model_module": "@jupyter-widgets/controls",
          "model_name": "DescriptionStyleModel",
          "model_module_version": "1.5.0",
          "state": {
            "_model_module": "@jupyter-widgets/controls",
            "_model_module_version": "1.5.0",
            "_model_name": "DescriptionStyleModel",
            "_view_count": null,
            "_view_module": "@jupyter-widgets/base",
            "_view_module_version": "1.2.0",
            "_view_name": "StyleView",
            "description_width": ""
          }
        },
        "95770c39b31148ada11413698afdb2b4": {
          "model_module": "@jupyter-widgets/base",
          "model_name": "LayoutModel",
          "model_module_version": "1.2.0",
          "state": {
            "_model_module": "@jupyter-widgets/base",
            "_model_module_version": "1.2.0",
            "_model_name": "LayoutModel",
            "_view_count": null,
            "_view_module": "@jupyter-widgets/base",
            "_view_module_version": "1.2.0",
            "_view_name": "LayoutView",
            "align_content": null,
            "align_items": null,
            "align_self": null,
            "border": null,
            "bottom": null,
            "display": null,
            "flex": null,
            "flex_flow": null,
            "grid_area": null,
            "grid_auto_columns": null,
            "grid_auto_flow": null,
            "grid_auto_rows": null,
            "grid_column": null,
            "grid_gap": null,
            "grid_row": null,
            "grid_template_areas": null,
            "grid_template_columns": null,
            "grid_template_rows": null,
            "height": null,
            "justify_content": null,
            "justify_items": null,
            "left": null,
            "margin": null,
            "max_height": null,
            "max_width": null,
            "min_height": null,
            "min_width": null,
            "object_fit": null,
            "object_position": null,
            "order": null,
            "overflow": null,
            "overflow_x": null,
            "overflow_y": null,
            "padding": null,
            "right": null,
            "top": null,
            "visibility": null,
            "width": null
          }
        },
        "0c997d75eba449a4a0b5fbbb0e59b527": {
          "model_module": "@jupyter-widgets/controls",
          "model_name": "ProgressStyleModel",
          "model_module_version": "1.5.0",
          "state": {
            "_model_module": "@jupyter-widgets/controls",
            "_model_module_version": "1.5.0",
            "_model_name": "ProgressStyleModel",
            "_view_count": null,
            "_view_module": "@jupyter-widgets/base",
            "_view_module_version": "1.2.0",
            "_view_name": "StyleView",
            "bar_color": null,
            "description_width": ""
          }
        },
        "704a1309ff7a4c2883406e4f1f6c074f": {
          "model_module": "@jupyter-widgets/base",
          "model_name": "LayoutModel",
          "model_module_version": "1.2.0",
          "state": {
            "_model_module": "@jupyter-widgets/base",
            "_model_module_version": "1.2.0",
            "_model_name": "LayoutModel",
            "_view_count": null,
            "_view_module": "@jupyter-widgets/base",
            "_view_module_version": "1.2.0",
            "_view_name": "LayoutView",
            "align_content": null,
            "align_items": null,
            "align_self": null,
            "border": null,
            "bottom": null,
            "display": null,
            "flex": null,
            "flex_flow": null,
            "grid_area": null,
            "grid_auto_columns": null,
            "grid_auto_flow": null,
            "grid_auto_rows": null,
            "grid_column": null,
            "grid_gap": null,
            "grid_row": null,
            "grid_template_areas": null,
            "grid_template_columns": null,
            "grid_template_rows": null,
            "height": null,
            "justify_content": null,
            "justify_items": null,
            "left": null,
            "margin": null,
            "max_height": null,
            "max_width": null,
            "min_height": null,
            "min_width": null,
            "object_fit": null,
            "object_position": null,
            "order": null,
            "overflow": null,
            "overflow_x": null,
            "overflow_y": null,
            "padding": null,
            "right": null,
            "top": null,
            "visibility": null,
            "width": null
          }
        },
        "d024137932d044c8acc31871ea27e466": {
          "model_module": "@jupyter-widgets/controls",
          "model_name": "DescriptionStyleModel",
          "model_module_version": "1.5.0",
          "state": {
            "_model_module": "@jupyter-widgets/controls",
            "_model_module_version": "1.5.0",
            "_model_name": "DescriptionStyleModel",
            "_view_count": null,
            "_view_module": "@jupyter-widgets/base",
            "_view_module_version": "1.2.0",
            "_view_name": "StyleView",
            "description_width": ""
          }
        },
        "b484e631736249acb9900ce05f980afe": {
          "model_module": "@jupyter-widgets/controls",
          "model_name": "HBoxModel",
          "model_module_version": "1.5.0",
          "state": {
            "_dom_classes": [],
            "_model_module": "@jupyter-widgets/controls",
            "_model_module_version": "1.5.0",
            "_model_name": "HBoxModel",
            "_view_count": null,
            "_view_module": "@jupyter-widgets/controls",
            "_view_module_version": "1.5.0",
            "_view_name": "HBoxView",
            "box_style": "",
            "children": [
              "IPY_MODEL_48f6fa1051f54616b5bd4a04ac22efae",
              "IPY_MODEL_b056a157eb994c999ba55f6438a3ab70",
              "IPY_MODEL_0ab73c4f3f09433387082821fc4ebaed"
            ],
            "layout": "IPY_MODEL_9f4e7c0da50c43d3973efe229b925bff"
          }
        },
        "48f6fa1051f54616b5bd4a04ac22efae": {
          "model_module": "@jupyter-widgets/controls",
          "model_name": "HTMLModel",
          "model_module_version": "1.5.0",
          "state": {
            "_dom_classes": [],
            "_model_module": "@jupyter-widgets/controls",
            "_model_module_version": "1.5.0",
            "_model_name": "HTMLModel",
            "_view_count": null,
            "_view_module": "@jupyter-widgets/controls",
            "_view_module_version": "1.5.0",
            "_view_name": "HTMLView",
            "description": "",
            "description_tooltip": null,
            "layout": "IPY_MODEL_552a5789c84c4b689a8331cbb06b9b49",
            "placeholder": "​",
            "style": "IPY_MODEL_fdab887501e24ccb996a0fdd9a728657",
            "value": "100%"
          }
        },
        "b056a157eb994c999ba55f6438a3ab70": {
          "model_module": "@jupyter-widgets/controls",
          "model_name": "FloatProgressModel",
          "model_module_version": "1.5.0",
          "state": {
            "_dom_classes": [],
            "_model_module": "@jupyter-widgets/controls",
            "_model_module_version": "1.5.0",
            "_model_name": "FloatProgressModel",
            "_view_count": null,
            "_view_module": "@jupyter-widgets/controls",
            "_view_module_version": "1.5.0",
            "_view_name": "ProgressView",
            "bar_style": "success",
            "description": "",
            "description_tooltip": null,
            "layout": "IPY_MODEL_27c6bb7d84864904a7224bac76a27059",
            "max": 4542,
            "min": 0,
            "orientation": "horizontal",
            "style": "IPY_MODEL_bc8da376f5c04c3a91f52eeabbecf1ff",
            "value": 4542
          }
        },
        "0ab73c4f3f09433387082821fc4ebaed": {
          "model_module": "@jupyter-widgets/controls",
          "model_name": "HTMLModel",
          "model_module_version": "1.5.0",
          "state": {
            "_dom_classes": [],
            "_model_module": "@jupyter-widgets/controls",
            "_model_module_version": "1.5.0",
            "_model_name": "HTMLModel",
            "_view_count": null,
            "_view_module": "@jupyter-widgets/controls",
            "_view_module_version": "1.5.0",
            "_view_name": "HTMLView",
            "description": "",
            "description_tooltip": null,
            "layout": "IPY_MODEL_a550fd6857f940329e71457a4d3469e5",
            "placeholder": "​",
            "style": "IPY_MODEL_1d796db653dc4131bc93c86af9a13ef2",
            "value": " 4542/4542 [00:00&lt;00:00, 92315.62it/s]"
          }
        },
        "9f4e7c0da50c43d3973efe229b925bff": {
          "model_module": "@jupyter-widgets/base",
          "model_name": "LayoutModel",
          "model_module_version": "1.2.0",
          "state": {
            "_model_module": "@jupyter-widgets/base",
            "_model_module_version": "1.2.0",
            "_model_name": "LayoutModel",
            "_view_count": null,
            "_view_module": "@jupyter-widgets/base",
            "_view_module_version": "1.2.0",
            "_view_name": "LayoutView",
            "align_content": null,
            "align_items": null,
            "align_self": null,
            "border": null,
            "bottom": null,
            "display": null,
            "flex": null,
            "flex_flow": null,
            "grid_area": null,
            "grid_auto_columns": null,
            "grid_auto_flow": null,
            "grid_auto_rows": null,
            "grid_column": null,
            "grid_gap": null,
            "grid_row": null,
            "grid_template_areas": null,
            "grid_template_columns": null,
            "grid_template_rows": null,
            "height": null,
            "justify_content": null,
            "justify_items": null,
            "left": null,
            "margin": null,
            "max_height": null,
            "max_width": null,
            "min_height": null,
            "min_width": null,
            "object_fit": null,
            "object_position": null,
            "order": null,
            "overflow": null,
            "overflow_x": null,
            "overflow_y": null,
            "padding": null,
            "right": null,
            "top": null,
            "visibility": null,
            "width": null
          }
        },
        "552a5789c84c4b689a8331cbb06b9b49": {
          "model_module": "@jupyter-widgets/base",
          "model_name": "LayoutModel",
          "model_module_version": "1.2.0",
          "state": {
            "_model_module": "@jupyter-widgets/base",
            "_model_module_version": "1.2.0",
            "_model_name": "LayoutModel",
            "_view_count": null,
            "_view_module": "@jupyter-widgets/base",
            "_view_module_version": "1.2.0",
            "_view_name": "LayoutView",
            "align_content": null,
            "align_items": null,
            "align_self": null,
            "border": null,
            "bottom": null,
            "display": null,
            "flex": null,
            "flex_flow": null,
            "grid_area": null,
            "grid_auto_columns": null,
            "grid_auto_flow": null,
            "grid_auto_rows": null,
            "grid_column": null,
            "grid_gap": null,
            "grid_row": null,
            "grid_template_areas": null,
            "grid_template_columns": null,
            "grid_template_rows": null,
            "height": null,
            "justify_content": null,
            "justify_items": null,
            "left": null,
            "margin": null,
            "max_height": null,
            "max_width": null,
            "min_height": null,
            "min_width": null,
            "object_fit": null,
            "object_position": null,
            "order": null,
            "overflow": null,
            "overflow_x": null,
            "overflow_y": null,
            "padding": null,
            "right": null,
            "top": null,
            "visibility": null,
            "width": null
          }
        },
        "fdab887501e24ccb996a0fdd9a728657": {
          "model_module": "@jupyter-widgets/controls",
          "model_name": "DescriptionStyleModel",
          "model_module_version": "1.5.0",
          "state": {
            "_model_module": "@jupyter-widgets/controls",
            "_model_module_version": "1.5.0",
            "_model_name": "DescriptionStyleModel",
            "_view_count": null,
            "_view_module": "@jupyter-widgets/base",
            "_view_module_version": "1.2.0",
            "_view_name": "StyleView",
            "description_width": ""
          }
        },
        "27c6bb7d84864904a7224bac76a27059": {
          "model_module": "@jupyter-widgets/base",
          "model_name": "LayoutModel",
          "model_module_version": "1.2.0",
          "state": {
            "_model_module": "@jupyter-widgets/base",
            "_model_module_version": "1.2.0",
            "_model_name": "LayoutModel",
            "_view_count": null,
            "_view_module": "@jupyter-widgets/base",
            "_view_module_version": "1.2.0",
            "_view_name": "LayoutView",
            "align_content": null,
            "align_items": null,
            "align_self": null,
            "border": null,
            "bottom": null,
            "display": null,
            "flex": null,
            "flex_flow": null,
            "grid_area": null,
            "grid_auto_columns": null,
            "grid_auto_flow": null,
            "grid_auto_rows": null,
            "grid_column": null,
            "grid_gap": null,
            "grid_row": null,
            "grid_template_areas": null,
            "grid_template_columns": null,
            "grid_template_rows": null,
            "height": null,
            "justify_content": null,
            "justify_items": null,
            "left": null,
            "margin": null,
            "max_height": null,
            "max_width": null,
            "min_height": null,
            "min_width": null,
            "object_fit": null,
            "object_position": null,
            "order": null,
            "overflow": null,
            "overflow_x": null,
            "overflow_y": null,
            "padding": null,
            "right": null,
            "top": null,
            "visibility": null,
            "width": null
          }
        },
        "bc8da376f5c04c3a91f52eeabbecf1ff": {
          "model_module": "@jupyter-widgets/controls",
          "model_name": "ProgressStyleModel",
          "model_module_version": "1.5.0",
          "state": {
            "_model_module": "@jupyter-widgets/controls",
            "_model_module_version": "1.5.0",
            "_model_name": "ProgressStyleModel",
            "_view_count": null,
            "_view_module": "@jupyter-widgets/base",
            "_view_module_version": "1.2.0",
            "_view_name": "StyleView",
            "bar_color": null,
            "description_width": ""
          }
        },
        "a550fd6857f940329e71457a4d3469e5": {
          "model_module": "@jupyter-widgets/base",
          "model_name": "LayoutModel",
          "model_module_version": "1.2.0",
          "state": {
            "_model_module": "@jupyter-widgets/base",
            "_model_module_version": "1.2.0",
            "_model_name": "LayoutModel",
            "_view_count": null,
            "_view_module": "@jupyter-widgets/base",
            "_view_module_version": "1.2.0",
            "_view_name": "LayoutView",
            "align_content": null,
            "align_items": null,
            "align_self": null,
            "border": null,
            "bottom": null,
            "display": null,
            "flex": null,
            "flex_flow": null,
            "grid_area": null,
            "grid_auto_columns": null,
            "grid_auto_flow": null,
            "grid_auto_rows": null,
            "grid_column": null,
            "grid_gap": null,
            "grid_row": null,
            "grid_template_areas": null,
            "grid_template_columns": null,
            "grid_template_rows": null,
            "height": null,
            "justify_content": null,
            "justify_items": null,
            "left": null,
            "margin": null,
            "max_height": null,
            "max_width": null,
            "min_height": null,
            "min_width": null,
            "object_fit": null,
            "object_position": null,
            "order": null,
            "overflow": null,
            "overflow_x": null,
            "overflow_y": null,
            "padding": null,
            "right": null,
            "top": null,
            "visibility": null,
            "width": null
          }
        },
        "1d796db653dc4131bc93c86af9a13ef2": {
          "model_module": "@jupyter-widgets/controls",
          "model_name": "DescriptionStyleModel",
          "model_module_version": "1.5.0",
          "state": {
            "_model_module": "@jupyter-widgets/controls",
            "_model_module_version": "1.5.0",
            "_model_name": "DescriptionStyleModel",
            "_view_count": null,
            "_view_module": "@jupyter-widgets/base",
            "_view_module_version": "1.2.0",
            "_view_name": "StyleView",
            "description_width": ""
          }
        }
      }
    }
  },
  "cells": [
    {
      "cell_type": "markdown",
      "metadata": {
        "id": "view-in-github",
        "colab_type": "text"
      },
      "source": [
        "<a href=\"https://colab.research.google.com/github/mangoubi/DS595-ST-Machine-Learning-for-Engineering-Science-Applications/blob/main/MNIST_Classifier_Neural_Network.ipynb\" target=\"_parent\"><img src=\"https://colab.research.google.com/assets/colab-badge.svg\" alt=\"Open In Colab\"/></a>"
      ]
    },
    {
      "cell_type": "markdown",
      "source": [
        "This code constructs and trains a neural network which allows the computer to read hand-writting.\n",
        "\n",
        "We are given a dataset of hand-written digits (the so-called \"MNIST\" datset), and the goal is to train a neural network to classify which hand-written digit is in an image."
      ],
      "metadata": {
        "id": "c2LzEb2JrQ1U"
      }
    },
    {
      "cell_type": "code",
      "metadata": {
        "id": "Rr_7dQJOjJW8"
      },
      "source": [
        "import torch\n",
        "import torchvision"
      ],
      "execution_count": 1,
      "outputs": []
    },
    {
      "cell_type": "markdown",
      "source": [
        "Setting the hyperparameters of the optimization algorithm.  We will use the optimization algorithm to train the neural network."
      ],
      "metadata": {
        "id": "_EbIlXTLsRCA"
      }
    },
    {
      "cell_type": "code",
      "metadata": {
        "id": "BKbvTc3OjNNS",
        "outputId": "44a586c5-ad9d-4b24-f436-169660d48985",
        "colab": {
          "base_uri": "https://localhost:8080/"
        }
      },
      "source": [
        "n_epochs = 3\n",
        "batch_size_train = 64\n",
        "batch_size_test = 1000\n",
        "#learning_rate = 0.01\n",
        "#momentum = 0.5\n",
        "log_interval = 10\n",
        "\n",
        "random_seed = 1\n",
        "torch.backends.cudnn.enabled = False\n",
        "torch.manual_seed(random_seed)"
      ],
      "execution_count": 2,
      "outputs": [
        {
          "output_type": "execute_result",
          "data": {
            "text/plain": [
              "<torch._C.Generator at 0x7f563a26c310>"
            ]
          },
          "metadata": {},
          "execution_count": 2
        }
      ]
    },
    {
      "cell_type": "markdown",
      "metadata": {
        "id": "t4PjZFa6xwhW"
      },
      "source": [
        "Loading the MNIST dataset"
      ]
    },
    {
      "cell_type": "code",
      "metadata": {
        "id": "B-R09Dt4jNW0",
        "colab": {
          "base_uri": "https://localhost:8080/",
          "height": 423,
          "referenced_widgets": [
            "74f8fd76f04347bb9d66e339acb8c7e8",
            "678b90b4a6c041c59045752838f203e1",
            "b17197523edb4ec795f7121d36988d6c",
            "3cb922525f4c476da16f3b46de989930",
            "7bd7753b2cb442128459524309de5a4b",
            "f7e5c48143a44d2dbd51e14ddab12ecd",
            "3700244dd1684283bc77e4e333d8b31d",
            "2e04ede320f24302bd33e8aa0fc7459f",
            "0342dd0cdaad464086f55ed8048019a0",
            "5c51d1dda6554c9fbe14ea16e2b4878c",
            "eccfe158fd3742fe9c0a03a1a5e9a5b2",
            "d099b0a4341347da911789474fdf1d06",
            "b27750445870491594f0aba49354dee3",
            "21d6c03e02a1484db1eb2270073a5e15",
            "98a2d245a57a4f7f8083de792ab70846",
            "cbaa5620c7094b55a340d46b124b2050",
            "9e79d8329a674b60aa7da5aa78eecb92",
            "fdd809a029b2410c83d44e460f5a199d",
            "d8ae5e6da73542ab82dbfaf87becd8bd",
            "cf05d5998cf0455281ffbe79ef5ba57a",
            "895525c89eb1401f85c0e7ed44998862",
            "b158cf78a81544dc937d0961cf0ed332",
            "52a0694fe3274f26b54bd56fb51d0383",
            "0d23ef916ee94ad1a22f7669f87b7995",
            "5294378acc1e4b11af57699a7fe6e93b",
            "744802fd289a44afb02f5f7ffcd35b2d",
            "286e120a931645b29b5c67f5157325e7",
            "7996bb48472f49f19d1e26ffa827f9bd",
            "f703cf124bd44df5bdd99ed7d1925c77",
            "95770c39b31148ada11413698afdb2b4",
            "0c997d75eba449a4a0b5fbbb0e59b527",
            "704a1309ff7a4c2883406e4f1f6c074f",
            "d024137932d044c8acc31871ea27e466",
            "b484e631736249acb9900ce05f980afe",
            "48f6fa1051f54616b5bd4a04ac22efae",
            "b056a157eb994c999ba55f6438a3ab70",
            "0ab73c4f3f09433387082821fc4ebaed",
            "9f4e7c0da50c43d3973efe229b925bff",
            "552a5789c84c4b689a8331cbb06b9b49",
            "fdab887501e24ccb996a0fdd9a728657",
            "27c6bb7d84864904a7224bac76a27059",
            "bc8da376f5c04c3a91f52eeabbecf1ff",
            "a550fd6857f940329e71457a4d3469e5",
            "1d796db653dc4131bc93c86af9a13ef2"
          ]
        },
        "outputId": "bd00bdeb-cd9b-4141-9ba4-9d106c405495"
      },
      "source": [
        "train_loader = torch.utils.data.DataLoader(\n",
        "  torchvision.datasets.MNIST('/files/', train=True, download=True,\n",
        "                             transform=torchvision.transforms.Compose([\n",
        "                               torchvision.transforms.ToTensor(),\n",
        "                               torchvision.transforms.Normalize(\n",
        "                                 (0.1307,), (0.3081,))\n",
        "                             ])),\n",
        "  batch_size=batch_size_train, shuffle=True)\n",
        "\n",
        "test_loader = torch.utils.data.DataLoader(\n",
        "  torchvision.datasets.MNIST('/files/', train=False, download=True,\n",
        "                             transform=torchvision.transforms.Compose([\n",
        "                               torchvision.transforms.ToTensor(),\n",
        "                               torchvision.transforms.Normalize(\n",
        "                                 (0.1307,), (0.3081,))\n",
        "                             ])),\n",
        "  batch_size=batch_size_test, shuffle=True)"
      ],
      "execution_count": 3,
      "outputs": [
        {
          "output_type": "stream",
          "name": "stdout",
          "text": [
            "Downloading http://yann.lecun.com/exdb/mnist/train-images-idx3-ubyte.gz\n",
            "Downloading http://yann.lecun.com/exdb/mnist/train-images-idx3-ubyte.gz to /files/MNIST/raw/train-images-idx3-ubyte.gz\n"
          ]
        },
        {
          "output_type": "display_data",
          "data": {
            "text/plain": [
              "  0%|          | 0/9912422 [00:00<?, ?it/s]"
            ],
            "application/vnd.jupyter.widget-view+json": {
              "version_major": 2,
              "version_minor": 0,
              "model_id": "74f8fd76f04347bb9d66e339acb8c7e8"
            }
          },
          "metadata": {}
        },
        {
          "output_type": "stream",
          "name": "stdout",
          "text": [
            "Extracting /files/MNIST/raw/train-images-idx3-ubyte.gz to /files/MNIST/raw\n",
            "\n",
            "Downloading http://yann.lecun.com/exdb/mnist/train-labels-idx1-ubyte.gz\n",
            "Downloading http://yann.lecun.com/exdb/mnist/train-labels-idx1-ubyte.gz to /files/MNIST/raw/train-labels-idx1-ubyte.gz\n"
          ]
        },
        {
          "output_type": "display_data",
          "data": {
            "text/plain": [
              "  0%|          | 0/28881 [00:00<?, ?it/s]"
            ],
            "application/vnd.jupyter.widget-view+json": {
              "version_major": 2,
              "version_minor": 0,
              "model_id": "d099b0a4341347da911789474fdf1d06"
            }
          },
          "metadata": {}
        },
        {
          "output_type": "stream",
          "name": "stdout",
          "text": [
            "Extracting /files/MNIST/raw/train-labels-idx1-ubyte.gz to /files/MNIST/raw\n",
            "\n",
            "Downloading http://yann.lecun.com/exdb/mnist/t10k-images-idx3-ubyte.gz\n",
            "Downloading http://yann.lecun.com/exdb/mnist/t10k-images-idx3-ubyte.gz to /files/MNIST/raw/t10k-images-idx3-ubyte.gz\n"
          ]
        },
        {
          "output_type": "display_data",
          "data": {
            "text/plain": [
              "  0%|          | 0/1648877 [00:00<?, ?it/s]"
            ],
            "application/vnd.jupyter.widget-view+json": {
              "version_major": 2,
              "version_minor": 0,
              "model_id": "52a0694fe3274f26b54bd56fb51d0383"
            }
          },
          "metadata": {}
        },
        {
          "output_type": "stream",
          "name": "stdout",
          "text": [
            "Extracting /files/MNIST/raw/t10k-images-idx3-ubyte.gz to /files/MNIST/raw\n",
            "\n",
            "Downloading http://yann.lecun.com/exdb/mnist/t10k-labels-idx1-ubyte.gz\n",
            "Downloading http://yann.lecun.com/exdb/mnist/t10k-labels-idx1-ubyte.gz to /files/MNIST/raw/t10k-labels-idx1-ubyte.gz\n"
          ]
        },
        {
          "output_type": "display_data",
          "data": {
            "text/plain": [
              "  0%|          | 0/4542 [00:00<?, ?it/s]"
            ],
            "application/vnd.jupyter.widget-view+json": {
              "version_major": 2,
              "version_minor": 0,
              "model_id": "b484e631736249acb9900ce05f980afe"
            }
          },
          "metadata": {}
        },
        {
          "output_type": "stream",
          "name": "stdout",
          "text": [
            "Extracting /files/MNIST/raw/t10k-labels-idx1-ubyte.gz to /files/MNIST/raw\n",
            "\n"
          ]
        }
      ]
    },
    {
      "cell_type": "code",
      "metadata": {
        "id": "v0EMz5O4jNfd"
      },
      "source": [
        "examples = enumerate(test_loader)\n",
        "batch_idx, (example_data, example_targets) = next(examples)"
      ],
      "execution_count": 4,
      "outputs": []
    },
    {
      "cell_type": "code",
      "metadata": {
        "id": "w4wNJPWnjNny",
        "outputId": "2586d09d-4476-439c-ffed-158f1b60a36d",
        "colab": {
          "base_uri": "https://localhost:8080/"
        }
      },
      "source": [
        "example_data.shape"
      ],
      "execution_count": 5,
      "outputs": [
        {
          "output_type": "execute_result",
          "data": {
            "text/plain": [
              "torch.Size([1000, 1, 28, 28])"
            ]
          },
          "metadata": {},
          "execution_count": 5
        }
      ]
    },
    {
      "cell_type": "markdown",
      "source": [
        "Printing some of the images in the dataset"
      ],
      "metadata": {
        "id": "PUaJ9qOOssws"
      }
    },
    {
      "cell_type": "code",
      "metadata": {
        "id": "PoTW2aG5jaPE",
        "outputId": "6998ca20-2bf9-4a9f-f223-6c02737d29c7",
        "colab": {
          "base_uri": "https://localhost:8080/",
          "height": 551
        }
      },
      "source": [
        "import matplotlib.pyplot as plt\n",
        "\n",
        "fig = plt.figure()\n",
        "for i in range(6):\n",
        "  plt.subplot(2,3,i+1)\n",
        "  plt.tight_layout()\n",
        "  plt.imshow(example_data[i][0], cmap='gray', interpolation='none')\n",
        "  plt.title(\"Ground Truth: {}\".format(example_targets[i]))\n",
        "  plt.xticks([])\n",
        "  plt.yticks([])\n",
        "fig"
      ],
      "execution_count": 6,
      "outputs": [
        {
          "output_type": "execute_result",
          "data": {
            "text/plain": [
              "<Figure size 432x288 with 6 Axes>"
            ],
            "image/png": "[encoded data removed]"
          },
          "metadata": {},
          "execution_count": 6
        },
        {
          "output_type": "display_data",
          "data": {
            "text/plain": [
              "<Figure size 432x288 with 6 Axes>"
            ],
            "image/png": "[encoded data removed]"
          },
          "metadata": {}
        }
      ]
    },
    {
      "cell_type": "markdown",
      "metadata": {
        "id": "Tcm_ZG5Px34p"
      },
      "source": [
        "Building the neural network.  The neural network is made up of many layers.  "
      ]
    },
    {
      "cell_type": "code",
      "metadata": {
        "id": "6mGfyQtwjuZC"
      },
      "source": [
        "import torch.nn as nn\n",
        "import torch.nn.functional as F\n",
        "import torch.optim as optim"
      ],
      "execution_count": 7,
      "outputs": []
    },
    {
      "cell_type": "code",
      "metadata": {
        "id": "5kDJ-186jyKY"
      },
      "source": [
        "class Net(nn.Module):\n",
        "    def __init__(self):\n",
        "        super(Net, self).__init__()\n",
        "        self.conv1 = nn.Conv2d(1, 10, kernel_size=5)\n",
        "        self.conv2 = nn.Conv2d(10, 20, kernel_size=5)\n",
        "        self.conv2_drop = nn.Dropout2d()\n",
        "        self.fc1 = nn.Linear(320, 50)\n",
        "        self.fc2 = nn.Linear(50, 10)\n",
        "\n",
        "    def forward(self, x):\n",
        "        x = F.relu(F.max_pool2d(self.conv1(x), 2))\n",
        "        x = F.relu(F.max_pool2d(self.conv2_drop(self.conv2(x)), 2))\n",
        "        x = x.view(-1, 320)\n",
        "        x = F.relu(self.fc1(x))\n",
        "        x = F.dropout(x, training=self.training)\n",
        "        x = self.fc2(x)\n",
        "        return F.log_softmax(x)"
      ],
      "execution_count": 8,
      "outputs": []
    },
    {
      "cell_type": "markdown",
      "source": [
        "Choosing which optimization algorithm to use.  The choices are\n",
        "1) stochastic gradient descent (SGD) with momentum \n",
        "\n",
        "2) ADAM.\n",
        "\n",
        "You also need to set the values of the hyperparameters of the optimization algorithm:  lr (stands for \"learning rate\"),  and momentum (only for SGD)."
      ],
      "metadata": {
        "id": "3qlDXeketxVq"
      }
    },
    {
      "cell_type": "code",
      "metadata": {
        "id": "RMPvj54xj0m9"
      },
      "source": [
        "network = Net()\n",
        "optimizer = optim.SGD(network.parameters(), lr=0.01, momentum=0.5)\n",
        "#optimizer = optim.Adam(network.parameters(), lr=0.0001)"
      ],
      "execution_count": 19,
      "outputs": []
    },
    {
      "cell_type": "code",
      "metadata": {
        "id": "JO04PoaPj2ii"
      },
      "source": [
        "train_losses = []\n",
        "train_counter = []\n",
        "test_losses = []\n",
        "test_counter = [i*len(train_loader.dataset) for i in range(n_epochs + 1)]"
      ],
      "execution_count": 20,
      "outputs": []
    },
    {
      "cell_type": "markdown",
      "source": [
        "Here we define the \"training\" function which we will use to train the neural network."
      ],
      "metadata": {
        "id": "sdQJOVgiu0ME"
      }
    },
    {
      "cell_type": "code",
      "metadata": {
        "id": "PL3xY3nWj6aw"
      },
      "source": [
        "def train(epoch):\n",
        "  network.train()\n",
        "  for batch_idx, (data, target) in enumerate(train_loader):\n",
        "    optimizer.zero_grad()\n",
        "    output = network(data)\n",
        "    loss = F.nll_loss(output, target)\n",
        "    loss.backward()\n",
        "    optimizer.step()\n",
        "    if batch_idx % log_interval == 0:\n",
        "      print('Train Epoch: {} [{}/{} ({:.0f}%)]\\tLoss: {:.6f}'.format(\n",
        "        epoch, batch_idx * len(data), len(train_loader.dataset),\n",
        "        100. * batch_idx / len(train_loader), loss.item()))\n",
        "      train_losses.append(loss.item())\n",
        "      train_counter.append(\n",
        "        (batch_idx*64) + ((epoch-1)*len(train_loader.dataset)))\n",
        "      #torch.save(network.state_dict(), '/results/model.pth')\n",
        "      #torch.save(optimizer.state_dict(), '/results/optimizer.pth')"
      ],
      "execution_count": 21,
      "outputs": []
    },
    {
      "cell_type": "markdown",
      "source": [
        "Here we define the \"test\" function which we will use to test the neural network."
      ],
      "metadata": {
        "id": "gjdI1JIgvJuR"
      }
    },
    {
      "cell_type": "code",
      "metadata": {
        "id": "dS0pYDVUj9Pr"
      },
      "source": [
        "def test():\n",
        "  network.eval()\n",
        "  test_loss = 0\n",
        "  correct = 0\n",
        "  with torch.no_grad():\n",
        "    for data, target in test_loader:\n",
        "      output = network(data)\n",
        "      test_loss += F.nll_loss(output, target, size_average=False).item()\n",
        "      pred = output.data.max(1, keepdim=True)[1]\n",
        "      correct += pred.eq(target.data.view_as(pred)).sum()\n",
        "  test_loss /= len(test_loader.dataset)\n",
        "  test_losses.append(test_loss)\n",
        "  print('\\nTest set: Avg. loss: {:.4f}, Accuracy: {}/{} ({:.0f}%)\\n'.format(\n",
        "    test_loss, correct, len(test_loader.dataset),\n",
        "    100. * correct / len(test_loader.dataset)))"
      ],
      "execution_count": 22,
      "outputs": []
    },
    {
      "cell_type": "markdown",
      "metadata": {
        "id": "Z_me9Bk-xpOO"
      },
      "source": [
        "Training the model.  Here we actually run the optimization algorithm to train the neural network.  This will take some time, since the optimization algorithm takes many, many steps."
      ]
    },
    {
      "cell_type": "code",
      "metadata": {
        "id": "CRpvswW8j_h7",
        "outputId": "50cc62c8-bfa0-484a-f44f-e2d8323cec92",
        "colab": {
          "base_uri": "https://localhost:8080/"
        }
      },
      "source": [
        "train_counter =[]\n",
        "test_counter\n",
        "train_losses=[]\n",
        "test_losses=[]\n",
        "test()\n",
        "for epoch in range(1, n_epochs + 1):\n",
        "  train(epoch)\n",
        "  test()"
      ],
      "execution_count": 23,
      "outputs": [
        {
          "output_type": "stream",
          "name": "stderr",
          "text": [
            "/usr/local/lib/python3.7/dist-packages/ipykernel_launcher.py:17: UserWarning: Implicit dimension choice for log_softmax has been deprecated. Change the call to include dim=X as an argument.\n"
          ]
        },
        {
          "output_type": "stream",
          "name": "stdout",
          "text": [
            "\n",
            "Test set: Avg. loss: 2.3150, Accuracy: 1123/10000 (11%)\n",
            "\n",
            "Train Epoch: 1 [0/60000 (0%)]\tLoss: 2.340430\n",
            "Train Epoch: 1 [640/60000 (1%)]\tLoss: 2.327765\n",
            "Train Epoch: 1 [1280/60000 (2%)]\tLoss: 2.256921\n",
            "Train Epoch: 1 [1920/60000 (3%)]\tLoss: 2.299219\n",
            "Train Epoch: 1 [2560/60000 (4%)]\tLoss: 2.230854\n",
            "Train Epoch: 1 [3200/60000 (5%)]\tLoss: 2.211785\n",
            "Train Epoch: 1 [3840/60000 (6%)]\tLoss: 2.169122\n",
            "Train Epoch: 1 [4480/60000 (7%)]\tLoss: 2.099493\n",
            "Train Epoch: 1 [5120/60000 (9%)]\tLoss: 2.147993\n",
            "Train Epoch: 1 [5760/60000 (10%)]\tLoss: 1.937628\n",
            "Train Epoch: 1 [6400/60000 (11%)]\tLoss: 1.867552\n",
            "Train Epoch: 1 [7040/60000 (12%)]\tLoss: 1.763148\n",
            "Train Epoch: 1 [7680/60000 (13%)]\tLoss: 1.609868\n",
            "Train Epoch: 1 [8320/60000 (14%)]\tLoss: 1.380298\n",
            "Train Epoch: 1 [8960/60000 (15%)]\tLoss: 1.371080\n",
            "Train Epoch: 1 [9600/60000 (16%)]\tLoss: 1.509219\n",
            "Train Epoch: 1 [10240/60000 (17%)]\tLoss: 1.192978\n",
            "Train Epoch: 1 [10880/60000 (18%)]\tLoss: 1.154502\n",
            "Train Epoch: 1 [11520/60000 (19%)]\tLoss: 1.407695\n",
            "Train Epoch: 1 [12160/60000 (20%)]\tLoss: 1.173590\n",
            "Train Epoch: 1 [12800/60000 (21%)]\tLoss: 0.972349\n",
            "Train Epoch: 1 [13440/60000 (22%)]\tLoss: 0.916050\n",
            "Train Epoch: 1 [14080/60000 (23%)]\tLoss: 1.041396\n",
            "Train Epoch: 1 [14720/60000 (25%)]\tLoss: 0.707051\n",
            "Train Epoch: 1 [15360/60000 (26%)]\tLoss: 1.212533\n",
            "Train Epoch: 1 [16000/60000 (27%)]\tLoss: 0.858842\n",
            "Train Epoch: 1 [16640/60000 (28%)]\tLoss: 0.794032\n",
            "Train Epoch: 1 [17280/60000 (29%)]\tLoss: 0.723904\n",
            "Train Epoch: 1 [17920/60000 (30%)]\tLoss: 0.919627\n",
            "Train Epoch: 1 [18560/60000 (31%)]\tLoss: 1.089017\n",
            "Train Epoch: 1 [19200/60000 (32%)]\tLoss: 0.757165\n",
            "Train Epoch: 1 [19840/60000 (33%)]\tLoss: 0.762361\n",
            "Train Epoch: 1 [20480/60000 (34%)]\tLoss: 0.917390\n",
            "Train Epoch: 1 [21120/60000 (35%)]\tLoss: 0.832058\n",
            "Train Epoch: 1 [21760/60000 (36%)]\tLoss: 0.680524\n",
            "Train Epoch: 1 [22400/60000 (37%)]\tLoss: 0.627323\n",
            "Train Epoch: 1 [23040/60000 (38%)]\tLoss: 0.729849\n",
            "Train Epoch: 1 [23680/60000 (39%)]\tLoss: 0.580888\n",
            "Train Epoch: 1 [24320/60000 (41%)]\tLoss: 0.729489\n",
            "Train Epoch: 1 [24960/60000 (42%)]\tLoss: 0.965037\n",
            "Train Epoch: 1 [25600/60000 (43%)]\tLoss: 0.596240\n",
            "Train Epoch: 1 [26240/60000 (44%)]\tLoss: 0.675045\n",
            "Train Epoch: 1 [26880/60000 (45%)]\tLoss: 0.748369\n",
            "Train Epoch: 1 [27520/60000 (46%)]\tLoss: 0.776931\n",
            "Train Epoch: 1 [28160/60000 (47%)]\tLoss: 0.498150\n",
            "Train Epoch: 1 [28800/60000 (48%)]\tLoss: 0.818063\n",
            "Train Epoch: 1 [29440/60000 (49%)]\tLoss: 0.869781\n",
            "Train Epoch: 1 [30080/60000 (50%)]\tLoss: 0.616716\n",
            "Train Epoch: 1 [30720/60000 (51%)]\tLoss: 0.667961\n",
            "Train Epoch: 1 [31360/60000 (52%)]\tLoss: 0.652199\n",
            "Train Epoch: 1 [32000/60000 (53%)]\tLoss: 0.535471\n",
            "Train Epoch: 1 [32640/60000 (54%)]\tLoss: 0.670133\n",
            "Train Epoch: 1 [33280/60000 (55%)]\tLoss: 0.559499\n",
            "Train Epoch: 1 [33920/60000 (57%)]\tLoss: 0.751766\n",
            "Train Epoch: 1 [34560/60000 (58%)]\tLoss: 0.972916\n",
            "Train Epoch: 1 [35200/60000 (59%)]\tLoss: 0.487238\n",
            "Train Epoch: 1 [35840/60000 (60%)]\tLoss: 0.414269\n",
            "Train Epoch: 1 [36480/60000 (61%)]\tLoss: 0.530795\n",
            "Train Epoch: 1 [37120/60000 (62%)]\tLoss: 0.849554\n",
            "Train Epoch: 1 [37760/60000 (63%)]\tLoss: 0.584637\n",
            "Train Epoch: 1 [38400/60000 (64%)]\tLoss: 0.501236\n",
            "Train Epoch: 1 [39040/60000 (65%)]\tLoss: 0.620026\n",
            "Train Epoch: 1 [39680/60000 (66%)]\tLoss: 0.514041\n",
            "Train Epoch: 1 [40320/60000 (67%)]\tLoss: 0.705702\n",
            "Train Epoch: 1 [40960/60000 (68%)]\tLoss: 0.446666\n",
            "Train Epoch: 1 [41600/60000 (69%)]\tLoss: 0.551717\n",
            "Train Epoch: 1 [42240/60000 (70%)]\tLoss: 0.522834\n",
            "Train Epoch: 1 [42880/60000 (71%)]\tLoss: 0.571913\n",
            "Train Epoch: 1 [43520/60000 (72%)]\tLoss: 0.380580\n",
            "Train Epoch: 1 [44160/60000 (74%)]\tLoss: 0.565003\n",
            "Train Epoch: 1 [44800/60000 (75%)]\tLoss: 0.548676\n",
            "Train Epoch: 1 [45440/60000 (76%)]\tLoss: 0.833593\n",
            "Train Epoch: 1 [46080/60000 (77%)]\tLoss: 0.450139\n",
            "Train Epoch: 1 [46720/60000 (78%)]\tLoss: 0.720816\n",
            "Train Epoch: 1 [47360/60000 (79%)]\tLoss: 0.417423\n",
            "Train Epoch: 1 [48000/60000 (80%)]\tLoss: 0.541224\n",
            "Train Epoch: 1 [48640/60000 (81%)]\tLoss: 0.672967\n",
            "Train Epoch: 1 [49280/60000 (82%)]\tLoss: 0.538681\n",
            "Train Epoch: 1 [49920/60000 (83%)]\tLoss: 0.571577\n",
            "Train Epoch: 1 [50560/60000 (84%)]\tLoss: 0.631169\n",
            "Train Epoch: 1 [51200/60000 (85%)]\tLoss: 0.578283\n",
            "Train Epoch: 1 [51840/60000 (86%)]\tLoss: 0.550686\n",
            "Train Epoch: 1 [52480/60000 (87%)]\tLoss: 0.642134\n",
            "Train Epoch: 1 [53120/60000 (88%)]\tLoss: 0.351959\n",
            "Train Epoch: 1 [53760/60000 (90%)]\tLoss: 0.472445\n",
            "Train Epoch: 1 [54400/60000 (91%)]\tLoss: 0.583928\n",
            "Train Epoch: 1 [55040/60000 (92%)]\tLoss: 0.503560\n",
            "Train Epoch: 1 [55680/60000 (93%)]\tLoss: 0.595044\n",
            "Train Epoch: 1 [56320/60000 (94%)]\tLoss: 0.551745\n",
            "Train Epoch: 1 [56960/60000 (95%)]\tLoss: 0.336490\n",
            "Train Epoch: 1 [57600/60000 (96%)]\tLoss: 0.587940\n",
            "Train Epoch: 1 [58240/60000 (97%)]\tLoss: 0.236533\n",
            "Train Epoch: 1 [58880/60000 (98%)]\tLoss: 0.520244\n",
            "Train Epoch: 1 [59520/60000 (99%)]\tLoss: 0.444185\n",
            "\n",
            "Test set: Avg. loss: 0.2003, Accuracy: 9376/10000 (94%)\n",
            "\n",
            "Train Epoch: 2 [0/60000 (0%)]\tLoss: 0.321587\n",
            "Train Epoch: 2 [640/60000 (1%)]\tLoss: 0.508660\n",
            "Train Epoch: 2 [1280/60000 (2%)]\tLoss: 0.279847\n",
            "Train Epoch: 2 [1920/60000 (3%)]\tLoss: 0.386227\n",
            "Train Epoch: 2 [2560/60000 (4%)]\tLoss: 0.346132\n",
            "Train Epoch: 2 [3200/60000 (5%)]\tLoss: 0.596814\n",
            "Train Epoch: 2 [3840/60000 (6%)]\tLoss: 0.533195\n",
            "Train Epoch: 2 [4480/60000 (7%)]\tLoss: 0.537001\n",
            "Train Epoch: 2 [5120/60000 (9%)]\tLoss: 0.469413\n",
            "Train Epoch: 2 [5760/60000 (10%)]\tLoss: 0.296228\n",
            "Train Epoch: 2 [6400/60000 (11%)]\tLoss: 0.452512\n",
            "Train Epoch: 2 [7040/60000 (12%)]\tLoss: 0.347175\n",
            "Train Epoch: 2 [7680/60000 (13%)]\tLoss: 0.265132\n",
            "Train Epoch: 2 [8320/60000 (14%)]\tLoss: 0.598662\n",
            "Train Epoch: 2 [8960/60000 (15%)]\tLoss: 0.388586\n",
            "Train Epoch: 2 [9600/60000 (16%)]\tLoss: 0.407286\n",
            "Train Epoch: 2 [10240/60000 (17%)]\tLoss: 0.441730\n",
            "Train Epoch: 2 [10880/60000 (18%)]\tLoss: 0.375857\n",
            "Train Epoch: 2 [11520/60000 (19%)]\tLoss: 0.432485\n",
            "Train Epoch: 2 [12160/60000 (20%)]\tLoss: 0.694710\n",
            "Train Epoch: 2 [12800/60000 (21%)]\tLoss: 0.293124\n",
            "Train Epoch: 2 [13440/60000 (22%)]\tLoss: 0.471146\n",
            "Train Epoch: 2 [14080/60000 (23%)]\tLoss: 0.466901\n",
            "Train Epoch: 2 [14720/60000 (25%)]\tLoss: 0.666483\n",
            "Train Epoch: 2 [15360/60000 (26%)]\tLoss: 0.422434\n",
            "Train Epoch: 2 [16000/60000 (27%)]\tLoss: 0.531317\n",
            "Train Epoch: 2 [16640/60000 (28%)]\tLoss: 0.400533\n",
            "Train Epoch: 2 [17280/60000 (29%)]\tLoss: 0.371894\n",
            "Train Epoch: 2 [17920/60000 (30%)]\tLoss: 0.303221\n",
            "Train Epoch: 2 [18560/60000 (31%)]\tLoss: 0.525738\n",
            "Train Epoch: 2 [19200/60000 (32%)]\tLoss: 0.408899\n",
            "Train Epoch: 2 [19840/60000 (33%)]\tLoss: 0.325606\n",
            "Train Epoch: 2 [20480/60000 (34%)]\tLoss: 0.382921\n",
            "Train Epoch: 2 [21120/60000 (35%)]\tLoss: 0.697965\n",
            "Train Epoch: 2 [21760/60000 (36%)]\tLoss: 0.300831\n",
            "Train Epoch: 2 [22400/60000 (37%)]\tLoss: 0.544956\n",
            "Train Epoch: 2 [23040/60000 (38%)]\tLoss: 0.357218\n",
            "Train Epoch: 2 [23680/60000 (39%)]\tLoss: 0.443130\n",
            "Train Epoch: 2 [24320/60000 (41%)]\tLoss: 0.428093\n",
            "Train Epoch: 2 [24960/60000 (42%)]\tLoss: 0.491723\n",
            "Train Epoch: 2 [25600/60000 (43%)]\tLoss: 0.409405\n",
            "Train Epoch: 2 [26240/60000 (44%)]\tLoss: 0.366483\n",
            "Train Epoch: 2 [26880/60000 (45%)]\tLoss: 0.533481\n",
            "Train Epoch: 2 [27520/60000 (46%)]\tLoss: 0.462362\n",
            "Train Epoch: 2 [28160/60000 (47%)]\tLoss: 0.407110\n",
            "Train Epoch: 2 [28800/60000 (48%)]\tLoss: 0.273132\n",
            "Train Epoch: 2 [29440/60000 (49%)]\tLoss: 0.307948\n",
            "Train Epoch: 2 [30080/60000 (50%)]\tLoss: 0.285768\n",
            "Train Epoch: 2 [30720/60000 (51%)]\tLoss: 0.513870\n",
            "Train Epoch: 2 [31360/60000 (52%)]\tLoss: 0.386464\n",
            "Train Epoch: 2 [32000/60000 (53%)]\tLoss: 0.221637\n",
            "Train Epoch: 2 [32640/60000 (54%)]\tLoss: 0.279124\n",
            "Train Epoch: 2 [33280/60000 (55%)]\tLoss: 0.480613\n",
            "Train Epoch: 2 [33920/60000 (57%)]\tLoss: 0.407562\n",
            "Train Epoch: 2 [34560/60000 (58%)]\tLoss: 0.512445\n",
            "Train Epoch: 2 [35200/60000 (59%)]\tLoss: 0.396709\n",
            "Train Epoch: 2 [35840/60000 (60%)]\tLoss: 0.436936\n",
            "Train Epoch: 2 [36480/60000 (61%)]\tLoss: 0.357396\n",
            "Train Epoch: 2 [37120/60000 (62%)]\tLoss: 0.442742\n",
            "Train Epoch: 2 [37760/60000 (63%)]\tLoss: 0.496391\n",
            "Train Epoch: 2 [38400/60000 (64%)]\tLoss: 0.396071\n",
            "Train Epoch: 2 [39040/60000 (65%)]\tLoss: 0.491348\n",
            "Train Epoch: 2 [39680/60000 (66%)]\tLoss: 0.355083\n",
            "Train Epoch: 2 [40320/60000 (67%)]\tLoss: 0.448479\n",
            "Train Epoch: 2 [40960/60000 (68%)]\tLoss: 0.363312\n",
            "Train Epoch: 2 [41600/60000 (69%)]\tLoss: 0.331339\n",
            "Train Epoch: 2 [42240/60000 (70%)]\tLoss: 0.523102\n",
            "Train Epoch: 2 [42880/60000 (71%)]\tLoss: 0.208463\n",
            "Train Epoch: 2 [43520/60000 (72%)]\tLoss: 0.366888\n",
            "Train Epoch: 2 [44160/60000 (74%)]\tLoss: 0.401371\n",
            "Train Epoch: 2 [44800/60000 (75%)]\tLoss: 0.392653\n",
            "Train Epoch: 2 [45440/60000 (76%)]\tLoss: 0.560309\n",
            "Train Epoch: 2 [46080/60000 (77%)]\tLoss: 0.326238\n",
            "Train Epoch: 2 [46720/60000 (78%)]\tLoss: 0.281126\n",
            "Train Epoch: 2 [47360/60000 (79%)]\tLoss: 0.245137\n",
            "Train Epoch: 2 [48000/60000 (80%)]\tLoss: 0.371908\n",
            "Train Epoch: 2 [48640/60000 (81%)]\tLoss: 0.382150\n",
            "Train Epoch: 2 [49280/60000 (82%)]\tLoss: 0.285346\n",
            "Train Epoch: 2 [49920/60000 (83%)]\tLoss: 0.175545\n",
            "Train Epoch: 2 [50560/60000 (84%)]\tLoss: 0.338455\n",
            "Train Epoch: 2 [51200/60000 (85%)]\tLoss: 0.478274\n",
            "Train Epoch: 2 [51840/60000 (86%)]\tLoss: 0.369711\n",
            "Train Epoch: 2 [52480/60000 (87%)]\tLoss: 0.252866\n",
            "Train Epoch: 2 [53120/60000 (88%)]\tLoss: 0.403147\n",
            "Train Epoch: 2 [53760/60000 (90%)]\tLoss: 0.308281\n",
            "Train Epoch: 2 [54400/60000 (91%)]\tLoss: 0.468477\n",
            "Train Epoch: 2 [55040/60000 (92%)]\tLoss: 0.603017\n",
            "Train Epoch: 2 [55680/60000 (93%)]\tLoss: 0.417776\n",
            "Train Epoch: 2 [56320/60000 (94%)]\tLoss: 0.336601\n",
            "Train Epoch: 2 [56960/60000 (95%)]\tLoss: 0.493339\n",
            "Train Epoch: 2 [57600/60000 (96%)]\tLoss: 0.405205\n",
            "Train Epoch: 2 [58240/60000 (97%)]\tLoss: 0.329176\n",
            "Train Epoch: 2 [58880/60000 (98%)]\tLoss: 0.481599\n",
            "Train Epoch: 2 [59520/60000 (99%)]\tLoss: 0.495545\n",
            "\n",
            "Test set: Avg. loss: 0.1289, Accuracy: 9597/10000 (96%)\n",
            "\n",
            "Train Epoch: 3 [0/60000 (0%)]\tLoss: 0.301341\n",
            "Train Epoch: 3 [640/60000 (1%)]\tLoss: 0.415585\n",
            "Train Epoch: 3 [1280/60000 (2%)]\tLoss: 0.299440\n",
            "Train Epoch: 3 [1920/60000 (3%)]\tLoss: 0.279920\n",
            "Train Epoch: 3 [2560/60000 (4%)]\tLoss: 0.334265\n",
            "Train Epoch: 3 [3200/60000 (5%)]\tLoss: 0.334194\n",
            "Train Epoch: 3 [3840/60000 (6%)]\tLoss: 0.215994\n",
            "Train Epoch: 3 [4480/60000 (7%)]\tLoss: 0.464052\n",
            "Train Epoch: 3 [5120/60000 (9%)]\tLoss: 0.468663\n",
            "Train Epoch: 3 [5760/60000 (10%)]\tLoss: 0.436041\n",
            "Train Epoch: 3 [6400/60000 (11%)]\tLoss: 0.246224\n",
            "Train Epoch: 3 [7040/60000 (12%)]\tLoss: 0.428915\n",
            "Train Epoch: 3 [7680/60000 (13%)]\tLoss: 0.446250\n",
            "Train Epoch: 3 [8320/60000 (14%)]\tLoss: 0.249963\n",
            "Train Epoch: 3 [8960/60000 (15%)]\tLoss: 0.217471\n",
            "Train Epoch: 3 [9600/60000 (16%)]\tLoss: 0.304260\n",
            "Train Epoch: 3 [10240/60000 (17%)]\tLoss: 0.366712\n",
            "Train Epoch: 3 [10880/60000 (18%)]\tLoss: 0.328961\n",
            "Train Epoch: 3 [11520/60000 (19%)]\tLoss: 0.353062\n",
            "Train Epoch: 3 [12160/60000 (20%)]\tLoss: 0.440506\n",
            "Train Epoch: 3 [12800/60000 (21%)]\tLoss: 0.289264\n",
            "Train Epoch: 3 [13440/60000 (22%)]\tLoss: 0.413592\n",
            "Train Epoch: 3 [14080/60000 (23%)]\tLoss: 0.307929\n",
            "Train Epoch: 3 [14720/60000 (25%)]\tLoss: 0.330086\n",
            "Train Epoch: 3 [15360/60000 (26%)]\tLoss: 0.215787\n",
            "Train Epoch: 3 [16000/60000 (27%)]\tLoss: 0.470748\n",
            "Train Epoch: 3 [16640/60000 (28%)]\tLoss: 0.414117\n",
            "Train Epoch: 3 [17280/60000 (29%)]\tLoss: 0.463517\n",
            "Train Epoch: 3 [17920/60000 (30%)]\tLoss: 0.236690\n",
            "Train Epoch: 3 [18560/60000 (31%)]\tLoss: 0.453611\n",
            "Train Epoch: 3 [19200/60000 (32%)]\tLoss: 0.297987\n",
            "Train Epoch: 3 [19840/60000 (33%)]\tLoss: 0.308253\n",
            "Train Epoch: 3 [20480/60000 (34%)]\tLoss: 0.309007\n",
            "Train Epoch: 3 [21120/60000 (35%)]\tLoss: 0.292547\n",
            "Train Epoch: 3 [21760/60000 (36%)]\tLoss: 0.144496\n",
            "Train Epoch: 3 [22400/60000 (37%)]\tLoss: 0.301648\n",
            "Train Epoch: 3 [23040/60000 (38%)]\tLoss: 0.484023\n",
            "Train Epoch: 3 [23680/60000 (39%)]\tLoss: 0.320166\n",
            "Train Epoch: 3 [24320/60000 (41%)]\tLoss: 0.453078\n",
            "Train Epoch: 3 [24960/60000 (42%)]\tLoss: 0.417265\n",
            "Train Epoch: 3 [25600/60000 (43%)]\tLoss: 0.320339\n",
            "Train Epoch: 3 [26240/60000 (44%)]\tLoss: 0.368241\n",
            "Train Epoch: 3 [26880/60000 (45%)]\tLoss: 0.375632\n",
            "Train Epoch: 3 [27520/60000 (46%)]\tLoss: 0.414605\n",
            "Train Epoch: 3 [28160/60000 (47%)]\tLoss: 0.194757\n",
            "Train Epoch: 3 [28800/60000 (48%)]\tLoss: 0.332290\n",
            "Train Epoch: 3 [29440/60000 (49%)]\tLoss: 0.183177\n",
            "Train Epoch: 3 [30080/60000 (50%)]\tLoss: 0.526091\n",
            "Train Epoch: 3 [30720/60000 (51%)]\tLoss: 0.230240\n",
            "Train Epoch: 3 [31360/60000 (52%)]\tLoss: 0.412051\n",
            "Train Epoch: 3 [32000/60000 (53%)]\tLoss: 0.473968\n",
            "Train Epoch: 3 [32640/60000 (54%)]\tLoss: 0.367256\n",
            "Train Epoch: 3 [33280/60000 (55%)]\tLoss: 0.462584\n",
            "Train Epoch: 3 [33920/60000 (57%)]\tLoss: 0.582389\n",
            "Train Epoch: 3 [34560/60000 (58%)]\tLoss: 0.503847\n",
            "Train Epoch: 3 [35200/60000 (59%)]\tLoss: 0.255176\n",
            "Train Epoch: 3 [35840/60000 (60%)]\tLoss: 0.193321\n",
            "Train Epoch: 3 [36480/60000 (61%)]\tLoss: 0.400953\n",
            "Train Epoch: 3 [37120/60000 (62%)]\tLoss: 0.333142\n",
            "Train Epoch: 3 [37760/60000 (63%)]\tLoss: 0.302654\n",
            "Train Epoch: 3 [38400/60000 (64%)]\tLoss: 0.498846\n",
            "Train Epoch: 3 [39040/60000 (65%)]\tLoss: 0.312775\n",
            "Train Epoch: 3 [39680/60000 (66%)]\tLoss: 0.403732\n",
            "Train Epoch: 3 [40320/60000 (67%)]\tLoss: 0.567899\n",
            "Train Epoch: 3 [40960/60000 (68%)]\tLoss: 0.303493\n",
            "Train Epoch: 3 [41600/60000 (69%)]\tLoss: 0.386396\n",
            "Train Epoch: 3 [42240/60000 (70%)]\tLoss: 0.209405\n",
            "Train Epoch: 3 [42880/60000 (71%)]\tLoss: 0.464592\n",
            "Train Epoch: 3 [43520/60000 (72%)]\tLoss: 0.225014\n",
            "Train Epoch: 3 [44160/60000 (74%)]\tLoss: 0.418669\n",
            "Train Epoch: 3 [44800/60000 (75%)]\tLoss: 0.355322\n",
            "Train Epoch: 3 [45440/60000 (76%)]\tLoss: 0.231787\n",
            "Train Epoch: 3 [46080/60000 (77%)]\tLoss: 0.394190\n",
            "Train Epoch: 3 [46720/60000 (78%)]\tLoss: 0.302305\n",
            "Train Epoch: 3 [47360/60000 (79%)]\tLoss: 0.279699\n",
            "Train Epoch: 3 [48000/60000 (80%)]\tLoss: 0.263833\n",
            "Train Epoch: 3 [48640/60000 (81%)]\tLoss: 0.145458\n",
            "Train Epoch: 3 [49280/60000 (82%)]\tLoss: 0.214157\n",
            "Train Epoch: 3 [49920/60000 (83%)]\tLoss: 0.264639\n",
            "Train Epoch: 3 [50560/60000 (84%)]\tLoss: 0.273638\n",
            "Train Epoch: 3 [51200/60000 (85%)]\tLoss: 0.181119\n",
            "Train Epoch: 3 [51840/60000 (86%)]\tLoss: 0.535329\n",
            "Train Epoch: 3 [52480/60000 (87%)]\tLoss: 0.334760\n",
            "Train Epoch: 3 [53120/60000 (88%)]\tLoss: 0.213624\n",
            "Train Epoch: 3 [53760/60000 (90%)]\tLoss: 0.296671\n",
            "Train Epoch: 3 [54400/60000 (91%)]\tLoss: 0.279046\n",
            "Train Epoch: 3 [55040/60000 (92%)]\tLoss: 0.331804\n",
            "Train Epoch: 3 [55680/60000 (93%)]\tLoss: 0.411300\n",
            "Train Epoch: 3 [56320/60000 (94%)]\tLoss: 0.278952\n",
            "Train Epoch: 3 [56960/60000 (95%)]\tLoss: 0.391293\n",
            "Train Epoch: 3 [57600/60000 (96%)]\tLoss: 0.354770\n",
            "Train Epoch: 3 [58240/60000 (97%)]\tLoss: 0.284255\n",
            "Train Epoch: 3 [58880/60000 (98%)]\tLoss: 0.489678\n",
            "Train Epoch: 3 [59520/60000 (99%)]\tLoss: 0.530097\n",
            "\n",
            "Test set: Avg. loss: 0.1065, Accuracy: 9664/10000 (97%)\n",
            "\n"
          ]
        }
      ]
    },
    {
      "cell_type": "markdown",
      "metadata": {
        "id": "TLtdQ7GOyByT"
      },
      "source": [
        "Evaluating the model's performance"
      ]
    },
    {
      "cell_type": "code",
      "metadata": {
        "id": "bSLtll9MlC1S",
        "outputId": "6262a1e8-0bce-46a1-be7b-afc6f1fe8a23",
        "colab": {
          "base_uri": "https://localhost:8080/",
          "height": 296
        }
      },
      "source": [
        "fig = plt.figure()\n",
        "plt.plot(train_counter, train_losses, color='blue')\n",
        "plt.scatter(test_counter, test_losses, color='red')\n",
        "plt.legend(['Train Loss', 'Test Loss'], loc='upper right')\n",
        "plt.xlabel('number of training examples seen')\n",
        "plt.ylabel('negative log likelihood loss')\n",
        "#fig"
      ],
      "execution_count": 24,
      "outputs": [
        {
          "output_type": "execute_result",
          "data": {
            "text/plain": [
              "Text(0, 0.5, 'negative log likelihood loss')"
            ]
          },
          "metadata": {},
          "execution_count": 24
        },
        {
          "output_type": "display_data",
          "data": {
            "text/plain": [
              "<Figure size 432x288 with 1 Axes>"
            ],
            "image/png": "[encoded data removed]"
          },
          "metadata": {
            "needs_background": "light"
          }
        }
      ]
    },
    {
      "cell_type": "markdown",
      "source": [
        "What?  It looks like the test loss is lower than the training loss.  How is this possible?  Here are some reasons, but the basic idea is that they are comparing slightly different versions of the neural network:  https://towardsdatascience.com/what-your-validation-loss-is-lower-than-your-training-loss-this-is-why-5e92e0b1747e"
      ],
      "metadata": {
        "id": "QQERY6_uqtw_"
      }
    },
    {
      "cell_type": "code",
      "metadata": {
        "id": "C7y2nZD7lvIm",
        "outputId": "1accf231-f458-41a9-d123-28278c495e42",
        "colab": {
          "base_uri": "https://localhost:8080/"
        }
      },
      "source": [
        "with torch.no_grad():\n",
        "  output = network(example_data)\n"
      ],
      "execution_count": 25,
      "outputs": [
        {
          "output_type": "stream",
          "name": "stderr",
          "text": [
            "/usr/local/lib/python3.7/dist-packages/ipykernel_launcher.py:17: UserWarning: Implicit dimension choice for log_softmax has been deprecated. Change the call to include dim=X as an argument.\n"
          ]
        }
      ]
    },
    {
      "cell_type": "code",
      "metadata": {
        "id": "vLzgxDUzncO2",
        "outputId": "5dceb518-8b9a-44a5-8aac-c766c3a83fc5",
        "colab": {
          "base_uri": "https://localhost:8080/",
          "height": 551
        }
      },
      "source": [
        "fig = plt.figure()\n",
        "for i in range(6):\n",
        "  plt.subplot(2,3,i+1)\n",
        "  plt.tight_layout()\n",
        "  plt.imshow(example_data[i][0], cmap='gray', interpolation='none')\n",
        "  plt.title(\"Prediction: {}\".format(\n",
        "    output.data.max(1, keepdim=True)[1][i].item()))\n",
        "  plt.xticks([])\n",
        "  plt.yticks([])\n",
        "fig"
      ],
      "execution_count": 27,
      "outputs": [
        {
          "output_type": "execute_result",
          "data": {
            "text/plain": [
              "<Figure size 432x288 with 6 Axes>"
            ],
            "image/png": "[encoded data removed]"
          },
          "metadata": {},
          "execution_count": 27
        },
        {
          "output_type": "display_data",
          "data": {
            "text/plain": [
              "<Figure size 432x288 with 6 Axes>"
            ],
            "image/png": "[encoded data removed]"
          },
          "metadata": {}
        }
      ]
    },
    {
      "cell_type": "markdown",
      "metadata": {
        "id": "5t0Mhe26xGKl"
      },
      "source": [
        "Note: the above code is from the demo https://nextjournal.com/gkoehler/pytorch-mnist"
      ]
    }
  ]
}