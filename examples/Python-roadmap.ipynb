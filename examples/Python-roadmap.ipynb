{
  "cells": [
    {
      "cell_type": "markdown",
      "source": [
        "# Initial example of Linear Regression"
      ],
      "metadata": {
        "id": "pH1cw4EnbfP2"
      }
    },
    {
      "cell_type": "markdown",
      "source": [
        "## Getting started"
      ],
      "metadata": {
        "id": "W7AHRcaKFQfw"
      }
    },
    {
      "cell_type": "code",
      "execution_count": null,
      "metadata": {
        "code_folding": [
          0
        ],
        "id": "SO4R-IzI7QaI"
      },
      "outputs": [],
      "source": [
        "# Load libraries\n",
        "import numpy as np\n",
        "import matplotlib.pylab as py"
      ]
    },
    {
      "cell_type": "markdown",
      "source": [
        "## Generating data"
      ],
      "metadata": {
        "id": "1NA0Yrh8FUZA"
      }
    },
    {
      "cell_type": "code",
      "execution_count": null,
      "metadata": {
        "code_folding": [
          0
        ],
        "id": "cPf_73V87QaM"
      },
      "outputs": [],
      "source": [
        "# Generate data\n",
        "number_of_points = 10\n",
        "x = np.random.uniform(0, 1, size=number_of_points)\n",
        "\n",
        "true_a = 1.0\n",
        "true_b = 0.5\n",
        "\n",
        "mu = 0.0\n",
        "sigma = 0.1\n",
        "noise = np.random.normal(loc=mu, scale=sigma, size=number_of_points)\n",
        "\n",
        "y = true_a*x + true_b + noise\n"
      ]
    },
    {
      "cell_type": "markdown",
      "source": [
        "Remember, our general model is\n",
        "\n",
        "$$\n",
        "y = f(x) + \\epsilon\n",
        "$$\n",
        "\n",
        "In the case of linear models we have\n",
        "\n",
        "$$\n",
        "f(x) = a x + b\n",
        "$$\n",
        "\n",
        "So, our full data generating process is\n",
        "\n",
        "$$\n",
        "f(x) = a x + b + \\epsilon\n",
        "$$\n"
      ],
      "metadata": {
        "id": "ngDq0u0cCTFH"
      }
    },
    {
      "cell_type": "code",
      "source": [
        "print(x)\n",
        "print(y)"
      ],
      "metadata": {
        "colab": {
          "base_uri": "https://localhost:8080/"
        },
        "id": "TdU6YrKv_T8o",
        "outputId": "ef0e42c8-ab82-4d94-d97a-8479acbc2e94"
      },
      "execution_count": null,
      "outputs": [
        {
          "output_type": "stream",
          "name": "stdout",
          "text": [
            "[0.57944248 0.50360449 0.87003467 0.11040655 0.91744256 0.99576014\n",
            " 0.44792562 0.64491963 0.69720532 0.31532938]\n",
            "[1.05960194 1.09345884 1.42036437 0.60215881 1.36025755 1.46746439\n",
            " 0.95858667 1.15746362 1.15112094 0.84330373]\n"
          ]
        }
      ]
    },
    {
      "cell_type": "markdown",
      "source": [
        "## Our first plot"
      ],
      "metadata": {
        "id": "VbYD7ETUFbAb"
      }
    },
    {
      "cell_type": "code",
      "source": [
        "py.scatter(x, y, color='green')"
      ],
      "metadata": {
        "colab": {
          "base_uri": "https://localhost:8080/",
          "height": 283
        },
        "id": "Fmkoydrf8B13",
        "outputId": "951c195c-1737-4297-e0ca-1cc939db2abf"
      },
      "execution_count": null,
      "outputs": [
        {
          "output_type": "execute_result",
          "data": {
            "text/plain": [
              "<matplotlib.collections.PathCollection at 0x7f8e9f254d50>"
            ]
          },
          "metadata": {},
          "execution_count": 97
        },
        {
          "output_type": "display_data",
          "data": {
            "image/png": "[encoded data removed]",
            "text/plain": [
              "<Figure size 432x288 with 1 Axes>"
            ]
          },
          "metadata": {
            "needs_background": "light"
          }
        }
      ]
    },
    {
      "cell_type": "markdown",
      "source": [
        "## Which I have already messed up :-)"
      ],
      "metadata": {
        "id": "s0REQobzFd2j"
      }
    },
    {
      "cell_type": "markdown",
      "source": [
        "I don't want a dear friend getting mad at me...  So I need to label my axes!\n",
        "\n",
        "![Rick Brown](https://www.wpi.edu/sites/default/files/faculty-image/drb_0.jpg?1641483676061)"
      ],
      "metadata": {
        "id": "lBbALF7EC5oK"
      }
    },
    {
      "cell_type": "code",
      "source": [
        "py.scatter(x, y, color='green')\n",
        "py.xlabel('Height')\n",
        "py.ylabel('Weight');"
      ],
      "metadata": {
        "colab": {
          "base_uri": "https://localhost:8080/",
          "height": 279
        },
        "id": "Q1DvKJhSCoqw",
        "outputId": "7e50cc35-aac6-44ea-a440-bcd64a0fe4a5"
      },
      "execution_count": null,
      "outputs": [
        {
          "output_type": "display_data",
          "data": {
            "image/png": "[encoded data removed]",
            "text/plain": [
              "<Figure size 432x288 with 1 Axes>"
            ]
          },
          "metadata": {
            "needs_background": "light"
          }
        }
      ]
    },
    {
      "cell_type": "markdown",
      "source": [
        "Oh, sorry, wrong class 😀"
      ],
      "metadata": {
        "id": "Yie9DJtsCC-a"
      }
    },
    {
      "cell_type": "code",
      "source": [
        "py.scatter(x, y, color='green')\n",
        "py.xlabel('Presure of the awesome process')\n",
        "py.ylabel('Temperature of the awesome process');"
      ],
      "metadata": {
        "colab": {
          "base_uri": "https://localhost:8080/",
          "height": 279
        },
        "id": "sCNj-z5zB7d2",
        "outputId": "0bff8ba5-3c48-44b1-a019-001a09b01fe1"
      },
      "execution_count": null,
      "outputs": [
        {
          "output_type": "display_data",
          "data": {
            "image/png": "[encoded data removed]",
            "text/plain": [
              "<Figure size 432x288 with 1 Axes>"
            ]
          },
          "metadata": {
            "needs_background": "light"
          }
        }
      ]
    },
    {
      "cell_type": "markdown",
      "source": [
        "## Making a hypothesis  \n",
        "\n",
        "\n"
      ],
      "metadata": {
        "id": "g1_cW9UOFhUS"
      }
    },
    {
      "cell_type": "markdown",
      "source": [
        "Here we do some some **math**!  \n",
        "\n",
        "There is a lot of magic 🧙 that happens here.  We will go into some of it as we go forward, but not too much 😀"
      ],
      "metadata": {
        "id": "6pmV6OrDCmzY"
      }
    },
    {
      "cell_type": "code",
      "execution_count": null,
      "metadata": {
        "code_folding": [
          0
        ],
        "id": "4eHjxaNM7QaM"
      },
      "outputs": [],
      "source": [
        "deg = 1\n",
        "\n",
        "# Lots of math magic in here!\n",
        "z = np.polyfit(x, y, deg=deg)\n",
        "y_hat_function = np.poly1d(z)\n"
      ]
    },
    {
      "cell_type": "markdown",
      "source": [
        "## I can now save lab time"
      ],
      "metadata": {
        "id": "zshlp990Fnm3"
      }
    },
    {
      "cell_type": "code",
      "source": [
        "# What I am really interested in.  I have never done this example and I \n",
        "# want to same time by not doing the experiment!\n",
        "x_interested = 0.9\n",
        "y_hat_interested = y_hat_function(x_interested)\n",
        "print(f'For a pressure of {x_interested} I predict a temperature of {y_hat_interested}')\n"
      ],
      "metadata": {
        "colab": {
          "base_uri": "https://localhost:8080/"
        },
        "id": "hABYy_2h8J65",
        "outputId": "023d6cb8-73d2-47ff-daad-ed3324e0e070"
      },
      "execution_count": null,
      "outputs": [
        {
          "output_type": "stream",
          "name": "stdout",
          "text": [
            "For a pressure of 0.9 I predict a temperature of 1.389000161225932\n"
          ]
        }
      ]
    },
    {
      "cell_type": "markdown",
      "source": [
        "## A nice plot... but am I done?"
      ],
      "metadata": {
        "id": "0UtC8zGgFucl"
      }
    },
    {
      "cell_type": "code",
      "source": [
        "py.scatter(x, y, color='green')\n",
        "py.hlines(y_hat_interested, xmin=min(x), xmax=max(x))\n",
        "py.vlines(x_interested, ymin=np.min(y), ymax=max(y))\n",
        "py.scatter(x_interested, y_hat_interested, color='red')\n",
        "py.xlabel('Presure of the awesome process')\n",
        "py.ylabel('Temperature of the awesome process');"
      ],
      "metadata": {
        "colab": {
          "base_uri": "https://localhost:8080/"
        },
        "id": "M_Ouan2jEXFh",
        "outputId": "e2af9b61-913c-4dce-ed01-e4e9b230edcf"
      },
      "execution_count": null,
      "outputs": [
        {
          "output_type": "display_data",
          "data": {
            "image/png": "[encoded data removed]",
            "text/plain": [
              "<Figure size 432x288 with 1 Axes>"
            ]
          },
          "metadata": {
            "needs_background": "light"
          }
        }
      ]
    },
    {
      "cell_type": "markdown",
      "source": [
        "## No! \n",
        "I don't know if I ***trust*** the answer.  Perhaps I actually need to do the experiment!?"
      ],
      "metadata": {
        "id": "D55hkMfiF2Yv"
      }
    },
    {
      "cell_type": "code",
      "source": [
        "y_from_new_experiment = 1.55\n",
        "\n",
        "py.scatter(x, y, color='green')\n",
        "py.scatter(x_interested, y_hat_interested, color='red')\n",
        "py.scatter(x_interested, y_from_new_experiment, color='blue')\n",
        "py.hlines(y_hat_interested, xmin=min(x), xmax=max(x))\n",
        "py.vlines(x_interested, ymin=np.min(y), ymax=max(y))\n",
        "py.xlabel('Presure of the awesome process')\n",
        "py.ylabel('Temperature of the awesome process');"
      ],
      "metadata": {
        "colab": {
          "base_uri": "https://localhost:8080/"
        },
        "id": "c4_GjdwgEYs9",
        "outputId": "1b29fe56-4c78-4662-9642-fabd45a4c098"
      },
      "execution_count": null,
      "outputs": [
        {
          "output_type": "display_data",
          "data": {
            "image/png": "[encoded data removed]",
            "text/plain": [
              "<Figure size 432x288 with 1 Axes>"
            ]
          },
          "metadata": {
            "needs_background": "light"
          }
        }
      ]
    },
    {
      "cell_type": "code",
      "source": [
        ""
      ],
      "metadata": {
        "id": "upQS8-1IClhY"
      },
      "execution_count": null,
      "outputs": []
    },
    {
      "cell_type": "markdown",
      "source": [
        "## Training versus testing"
      ],
      "metadata": {
        "id": "m5uy90A-I5K4"
      }
    },
    {
      "cell_type": "markdown",
      "source": [
        "![My happy face](https://upload.wikimedia.org/wikipedia/commons/thumb/e/e0/SNice.svg/1024px-SNice.svg.png)"
      ],
      "metadata": {
        "id": "TZ0AZyyrI9OZ"
      }
    },
    {
      "cell_type": "markdown",
      "source": [
        "## Not all errors are created equal"
      ],
      "metadata": {
        "id": "FKw5EYiDKfnZ"
      }
    },
    {
      "cell_type": "code",
      "source": [
        "y_from_new_experiment = 1.55\n",
        "y_training_predictions = y_hat_function(x)\n",
        "\n",
        "py.scatter(x, y, color='green')\n",
        "py.scatter(x, y_training_predictions, color='cyan')\n",
        "\n",
        "py.scatter(x_interested, y_hat_interested, color='red')\n",
        "py.scatter(x_interested, y_from_new_experiment, color='blue')\n",
        "\n",
        "py.xlabel('Presure of the awesome process')\n",
        "py.ylabel('Temperature of the awesome process');"
      ],
      "metadata": {
        "colab": {
          "base_uri": "https://localhost:8080/"
        },
        "id": "ZD-LWyBHGedB",
        "outputId": "48b2ad5f-1f2a-4bae-a354-251ef3c1f80b"
      },
      "execution_count": null,
      "outputs": [
        {
          "output_type": "display_data",
          "data": {
            "image/png": "[encoded data removed]",
            "text/plain": [
              "<Figure size 432x288 with 1 Axes>"
            ]
          },
          "metadata": {
            "needs_background": "light"
          }
        }
      ]
    },
    {
      "cell_type": "markdown",
      "source": [
        "## This is why we call this linear regression"
      ],
      "metadata": {
        "id": "G_fCVzCtKaVI"
      }
    },
    {
      "cell_type": "code",
      "source": [
        "y_from_new_experiment = 1.55\n",
        "\n",
        "#y_training_predictions = y_hat_function(x)\n",
        "x_on_grid = np.arange(0,1,0.01)\n",
        "y_predictions_on_grid = y_hat_function(x_on_grid)\n",
        "\n",
        "py.scatter(x, y, color='green')\n",
        "py.scatter(x_on_grid, y_predictions_on_grid, color='cyan')\n",
        "\n",
        "py.scatter(x_interested, y_hat_interested, color='red')\n",
        "py.scatter(x_interested, y_from_new_experiment, color='blue')\n",
        "\n",
        "py.xlabel('Presure of the awesome process')\n",
        "py.ylabel('Temperature of the awesome process');"
      ],
      "metadata": {
        "colab": {
          "base_uri": "https://localhost:8080/"
        },
        "id": "6xoVph8vJqNi",
        "outputId": "b7c49f43-f073-4f93-ead9-13f6662022b6"
      },
      "execution_count": null,
      "outputs": [
        {
          "output_type": "display_data",
          "data": {
            "image/png": "[encoded data removed]",
            "text/plain": [
              "<Figure size 432x288 with 1 Axes>"
            ]
          },
          "metadata": {
            "needs_background": "light"
          }
        }
      ]
    },
    {
      "cell_type": "markdown",
      "source": [
        "## Better Python code"
      ],
      "metadata": {
        "id": "iq7kLvGHKWcT"
      }
    },
    {
      "cell_type": "markdown",
      "source": [
        "I am tired of typing so much, so let's make a function"
      ],
      "metadata": {
        "id": "H81CnaFEKspd"
      }
    },
    {
      "cell_type": "code",
      "source": [
        "def generate_data(number_of_points = 10, true_a = 1.0, true_b = 0.5, mu = 0.0, sigma = 0.1):\n",
        "  x = np.random.uniform(0, 1, size=number_of_points)\n",
        "\n",
        "  true_a = 1.0\n",
        "  true_b = 0.5\n",
        "\n",
        "  mu = 0.0\n",
        "  sigma = sigma\n",
        "  noise = np.random.normal(loc=mu, scale=sigma, size=number_of_points)\n",
        "\n",
        "  y = true_a*x + true_b + noise\n",
        "  return x,y\n",
        "\n",
        "def create_model(x, y):\n",
        "  deg = 1\n",
        "\n",
        "  # Lots of math magic in here!\n",
        "  z = np.polyfit(x, y, deg=deg)\n",
        "  y_hat_function = np.poly1d(z)\n",
        "  return y_hat_function\n",
        "\n",
        "def evaluate_model(model, x_train, y_train, x_test, y_test):\n",
        "  py.scatter(x_train, y_train, color='green')\n",
        "  py.scatter(x_train, model(x_train), color='cyan')\n",
        "\n",
        "  py.scatter(x_test, y_test, color='red')\n",
        "  py.scatter(x_test, model(x_test), color='blue')\n",
        "\n",
        "  py.xlabel('Presure of the awesome process')\n",
        "  py.ylabel('Temperature of the awesome process');"
      ],
      "metadata": {
        "id": "0zlzSmE_Kw2E"
      },
      "execution_count": null,
      "outputs": []
    },
    {
      "cell_type": "markdown",
      "source": [
        "![image.png](data:image/png;base64,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)"
      ],
      "metadata": {
        "id": "SvXT4cZ9Fzc6"
      }
    },
    {
      "cell_type": "code",
      "source": [
        "x_train, y_train = generate_data(number_of_points = 10, true_a = 1.0, true_b = 0.5, mu = 0.0, sigma = 0.1)\n",
        "model = create_model(x_train, y_train)\n",
        "evaluate_model(model, x_train, y_train, x_test=[0.9], y_test=[1.55])"
      ],
      "metadata": {
        "id": "6qpxbek9MLWI",
        "outputId": "6b12dcab-ec92-4022-d9fb-e9962c660d48",
        "colab": {
          "base_uri": "https://localhost:8080/"
        }
      },
      "execution_count": null,
      "outputs": [
        {
          "output_type": "display_data",
          "data": {
            "image/png": "[encoded data removed]",
            "text/plain": [
              "<Figure size 432x288 with 1 Axes>"
            ]
          },
          "metadata": {
            "needs_background": "light"
          }
        }
      ]
    },
    {
      "cell_type": "markdown",
      "source": [
        "## Things are going to get interesting\n",
        "\n",
        "![joke](https://memegenerator.net/img/instances/14949056.jpg\n",
        ")"
      ],
      "metadata": {
        "id": "VynuRu34cDKq"
      }
    },
    {
      "cell_type": "markdown",
      "source": [
        "## Some *minor* but really **important** modifications to the code 🧙"
      ],
      "metadata": {
        "id": "JWfBSpruHJoo"
      }
    },
    {
      "cell_type": "code",
      "source": [
        "def generate_data(number_of_points = 10, true_a = 1.0, true_b = 0.5, mu = 0.0, sigma = 0.1, degree=1):\n",
        "  x = np.random.uniform(-1, 1, size=number_of_points)\n",
        "\n",
        "  true_a = 1.0\n",
        "  true_b = 0.5\n",
        "\n",
        "  mu = 0.0\n",
        "  sigma = sigma\n",
        "  noise = np.random.normal(loc=mu, scale=sigma, size=number_of_points)\n",
        "\n",
        "  y = true_a*x**degree + true_b + noise\n",
        "\n",
        "  return x,y\n",
        "\n",
        "def create_model(x, y, degree=1):\n",
        "  # Lots of math magic in here!\n",
        "  z = np.polyfit(x, y, deg=degree)\n",
        "  y_hat_function = np.poly1d(z)\n",
        "  return y_hat_function\n",
        "\n",
        "def evaluate_model(model, x_train, y_train, x_test, y_test):\n",
        "  py.scatter(x_train, y_train, color='green')\n",
        "  py.scatter(x_train, model(x_train), color='cyan')\n",
        "\n",
        "  py.scatter(x_test, y_test, color='red')\n",
        "  py.scatter(x_test, model(x_test), color='blue')\n",
        "\n",
        "  x_on_grid = np.arange(min([min(x_train), min(x_test)]), max([max(x_train), max(x_test)]), 0.01)\n",
        "  y_predictions_on_grid = model(x_on_grid)\n",
        "\n",
        "  py.plot(x_on_grid, y_predictions_on_grid)\n",
        "\n",
        "  py.xlabel('Presure of the awesome process')\n",
        "  py.ylabel('Temperature of the awesome process');"
      ],
      "metadata": {
        "id": "ePVjLYpHNXmR"
      },
      "execution_count": null,
      "outputs": []
    },
    {
      "cell_type": "code",
      "source": [
        "np.random.seed(123)\n",
        "number_of_points = 30\n",
        "x, y = generate_data(number_of_points = number_of_points, true_a = 1.0, true_b = 0.5, mu = 0.0, sigma = 0.05, degree=1)\n",
        "\n",
        "test_size = 15\n",
        "x_train = x[:(number_of_points-test_size)]\n",
        "y_train = y[:(number_of_points-test_size)]\n",
        "\n",
        "x_test = x[(number_of_points-test_size):]\n",
        "y_test = y[(number_of_points-test_size):]\n",
        "\n",
        "model = create_model(x_train, y_train, degree=1)\n",
        "evaluate_model(model, x_train, y_train, x_test=x_test, y_test=y_test)"
      ],
      "metadata": {
        "colab": {
          "base_uri": "https://localhost:8080/"
        },
        "id": "c0vB2m6RGTL0",
        "outputId": "3742d392-e2ad-4843-f8aa-a11b2144d8d2"
      },
      "execution_count": null,
      "outputs": [
        {
          "output_type": "display_data",
          "data": {
            "image/png": "[encoded data removed]",
            "text/plain": [
              "<Figure size 432x288 with 1 Axes>"
            ]
          },
          "metadata": {
            "needs_background": "light"
          }
        }
      ]
    },
    {
      "cell_type": "code",
      "source": [
        "np.random.seed(123)\n",
        "number_of_points = 30\n",
        "x, y = generate_data(number_of_points = number_of_points, true_a = 1.0, true_b = 0.5, mu = 0.0, sigma = 0.01, degree=2)\n",
        "\n",
        "test_size = 15\n",
        "x_train = x[:(number_of_points-test_size)]\n",
        "y_train = y[:(number_of_points-test_size)]\n",
        "\n",
        "x_test = x[(number_of_points-test_size):]\n",
        "y_test = y[(number_of_points-test_size):]\n",
        "\n",
        "model = create_model(x_train, y_train, degree=1)\n",
        "evaluate_model(model, x_train, y_train, x_test=x_test, y_test=y_test)"
      ],
      "metadata": {
        "id": "JYJ_o64cNj6V",
        "outputId": "fbbdfe1f-b958-4881-8a5b-574c4f84e975",
        "colab": {
          "base_uri": "https://localhost:8080/"
        }
      },
      "execution_count": null,
      "outputs": [
        {
          "output_type": "display_data",
          "data": {
            "image/png": "[encoded data removed]",
            "text/plain": [
              "<Figure size 432x288 with 1 Axes>"
            ]
          },
          "metadata": {
            "needs_background": "light"
          }
        }
      ]
    },
    {
      "cell_type": "code",
      "source": [
        "np.random.seed(123)\n",
        "number_of_points = 30\n",
        "x, y = generate_data(number_of_points = number_of_points, true_a = 1.0, true_b = 0.5, mu = 0.0, sigma = 0.01, degree=2)\n",
        "\n",
        "test_size = 15\n",
        "x_train = x[:(number_of_points-test_size)]\n",
        "y_train = y[:(number_of_points-test_size)]\n",
        "\n",
        "x_test = x[(number_of_points-test_size):]\n",
        "y_test = y[(number_of_points-test_size):]\n",
        "\n",
        "model = create_model(x_train, y_train, degree=2)\n",
        "evaluate_model(model, x_train, y_train, x_test=x_test, y_test=y_test)"
      ],
      "metadata": {
        "id": "V7y8st-fSGUZ",
        "outputId": "1203b5dd-dda7-4007-b337-4834e00f5eab",
        "colab": {
          "base_uri": "https://localhost:8080/"
        }
      },
      "execution_count": null,
      "outputs": [
        {
          "output_type": "display_data",
          "data": {
            "image/png": "[encoded data removed]",
            "text/plain": [
              "<Figure size 432x288 with 1 Axes>"
            ]
          },
          "metadata": {
            "needs_background": "light"
          }
        }
      ]
    },
    {
      "cell_type": "code",
      "source": [
        "np.random.seed(123)\n",
        "number_of_points = 30\n",
        "x, y = generate_data(number_of_points = number_of_points, true_a = 1.0, true_b = 0.5, mu = 0.0, sigma = 0.05, degree=2)\n",
        "\n",
        "test_size = 15\n",
        "x_train = x[:(number_of_points-test_size)]\n",
        "y_train = y[:(number_of_points-test_size)]\n",
        "\n",
        "x_test = x[(number_of_points-test_size):]\n",
        "y_test = y[(number_of_points-test_size):]\n",
        "\n",
        "model = create_model(x_train, y_train, degree=3)\n",
        "evaluate_model(model, x_train, y_train, x_test=x_test, y_test=y_test)"
      ],
      "metadata": {
        "id": "GiaeKx3ISReX",
        "outputId": "032ceba4-5276-4eb8-a525-75811faf27af",
        "colab": {
          "base_uri": "https://localhost:8080/"
        }
      },
      "execution_count": null,
      "outputs": [
        {
          "output_type": "display_data",
          "data": {
            "image/png": "[encoded data removed]",
            "text/plain": [
              "<Figure size 432x288 with 1 Axes>"
            ]
          },
          "metadata": {
            "needs_background": "light"
          }
        }
      ]
    },
    {
      "cell_type": "code",
      "source": [
        "np.random.seed(123)\n",
        "number_of_points = 30\n",
        "x, y = generate_data(number_of_points = number_of_points, true_a = 1.0, true_b = 0.5, mu = 0.0, sigma = 0.05, degree=2)\n",
        "\n",
        "test_size = 15\n",
        "x_train = x[:(number_of_points-test_size)]\n",
        "y_train = y[:(number_of_points-test_size)]\n",
        "\n",
        "x_test = x[(number_of_points-test_size):]\n",
        "y_test = y[(number_of_points-test_size):]\n",
        "\n",
        "model = create_model(x_train, y_train, degree=8)\n",
        "evaluate_model(model, x_train, y_train, x_test=x_test, y_test=y_test)"
      ],
      "metadata": {
        "id": "X_OjYfFBSTCx",
        "outputId": "620235d9-8956-445e-b350-d5904d734d70",
        "colab": {
          "base_uri": "https://localhost:8080/"
        }
      },
      "execution_count": null,
      "outputs": [
        {
          "output_type": "display_data",
          "data": {
            "image/png": "[encoded data removed]",
            "text/plain": [
              "<Figure size 432x288 with 1 Axes>"
            ]
          },
          "metadata": {
            "needs_background": "light"
          }
        }
      ]
    },
    {
      "cell_type": "markdown",
      "source": [
        "#  Other machine learning libraries and good things to know"
      ],
      "metadata": {
        "id": "RIU2AANd-JE-"
      }
    },
    {
      "cell_type": "markdown",
      "source": [
        "## An overview"
      ],
      "metadata": {
        "id": "ctl37IEwAhbZ"
      }
    },
    {
      "cell_type": "markdown",
      "source": [
        "![map](https://miro.medium.com/max/1400/1*N3oBASDtXTgpGLJkeO9v8w.jpeg)"
      ],
      "metadata": {
        "id": "uryp9wzxAudr"
      }
    },
    {
      "cell_type": "markdown",
      "source": [
        "https://medium.com/@BlueOrangeDigital/essential-python-libraries-for-machine-learning-projects-d5cef004cf60"
      ],
      "metadata": {
        "id": "_r7_PSq9BXZh"
      }
    },
    {
      "cell_type": "markdown",
      "source": [
        "## Markdown:  Not a Python library, but how you make pretty notebooks"
      ],
      "metadata": {
        "id": "MNIjtpbC-9fZ"
      }
    },
    {
      "cell_type": "markdown",
      "source": [
        "https://daringfireball.net/projects/markdown/\n",
        "\n",
        "> Markdown is a text-to-HTML conversion tool for web writers. Markdown allows you to write using an easy-to-read, easy-to-write plain text format, then convert it to structurally valid XHTML (or HTML).\n",
        "\n",
        "> Thus, “Markdown” is two things: (1) a plain text formatting syntax; and (2) a software tool, written in Perl, that converts the plain text formatting to HTML. See the Syntax page for details pertaining to Markdown’s formatting syntax. You can try it out, right now, using the online Dingus."
      ],
      "metadata": {
        "id": "8xgUi9jJ_Cqb"
      }
    },
    {
      "cell_type": "markdown",
      "source": [
        "### Getting started"
      ],
      "metadata": {
        "id": "7z-TAxv8_hxP"
      }
    },
    {
      "cell_type": "markdown",
      "source": [
        "https://wordpress.com/support/markdown-quick-reference/"
      ],
      "metadata": {
        "id": "zIGg9P5j_O3u"
      }
    },
    {
      "cell_type": "markdown",
      "source": [
        "https://docs.github.com/en/get-started/writing-on-github/getting-started-with-writing-and-formatting-on-github/basic-writing-and-formatting-syntax"
      ],
      "metadata": {
        "id": "8eDF1qZf_fdE"
      }
    },
    {
      "cell_type": "markdown",
      "source": [
        "### Latex too!"
      ],
      "metadata": {
        "id": "9Z33gnyJ_vLc"
      }
    },
    {
      "cell_type": "markdown",
      "source": [
        "https://ashki23.github.io/markdown-latex.html\n",
        "\n"
      ],
      "metadata": {
        "id": "fsqJQ9_O_t0V"
      }
    },
    {
      "cell_type": "markdown",
      "source": [
        "$$\n",
        "A_{m,n} = \n",
        "\\begin{pmatrix}\n",
        "a_{1,1} & a_{1,2} & \\cdots & a_{1,n} \\\\\n",
        "a_{2,1} & a_{2,2} & \\cdots & a_{2,n} \\\\\n",
        "\\vdots & \\vdots & \\ddots & \\vdots \\\\\n",
        "a_{m,1} & a_{m,2} & \\cdots & a_{m,n} \n",
        "\\end{pmatrix}\n",
        "$$"
      ],
      "metadata": {
        "id": "bMJuVfRpklvq"
      }
    },
    {
      "cell_type": "markdown",
      "source": [
        "## Numpy:  Making Python look like Matlab.   Matrices, vectors, and linear algebra, oh my!"
      ],
      "metadata": {
        "id": "AFFiOQQhBrLM"
      }
    },
    {
      "cell_type": "markdown",
      "source": [
        "> Using NumPy in Python gives functionality comparable to MATLAB since they are both interpreted,[20] and they both allow the user to write fast programs as long as most operations work on arrays or matrices instead of scalars."
      ],
      "metadata": {
        "id": "hiE3ZeF7IkZi"
      }
    },
    {
      "cell_type": "markdown",
      "source": [
        "https://numpy.org/doc/stable/index.html"
      ],
      "metadata": {
        "id": "R0KiM4x6E97K"
      }
    },
    {
      "cell_type": "markdown",
      "source": [
        "https://numpy.org/doc/stable/user/quickstart.html"
      ],
      "metadata": {
        "id": "-86IWA70FDsd"
      }
    },
    {
      "cell_type": "markdown",
      "source": [
        "What we have seen already"
      ],
      "metadata": {
        "id": "C2D6JE-RkpCc"
      }
    },
    {
      "cell_type": "code",
      "source": [
        "# Generate data\n",
        "number_of_points = 10\n",
        "x = np.random.uniform(0, 1, size=number_of_points)\n",
        "\n",
        "true_a = 1.0\n",
        "true_b = 0.5\n",
        "\n",
        "mu = 0.0\n",
        "sigma = 0.1\n",
        "noise = np.random.normal(loc=mu, scale=sigma, size=number_of_points)\n",
        "\n",
        "y = true_a*x + true_b + noise"
      ],
      "metadata": {
        "id": "WMKS9F8lEtNw"
      },
      "execution_count": null,
      "outputs": []
    },
    {
      "cell_type": "code",
      "source": [
        "deg = 1\n",
        "\n",
        "# Lots of math magic in here!\n",
        "z = np.polyfit(x, y, deg=deg)\n",
        "y_hat_function = np.poly1d(z)"
      ],
      "metadata": {
        "id": "_xavQPTHCHn3"
      },
      "execution_count": null,
      "outputs": []
    },
    {
      "cell_type": "markdown",
      "source": [
        "## Matplotlib:  Plotting"
      ],
      "metadata": {
        "id": "yftOIPaiBv1d"
      }
    },
    {
      "cell_type": "markdown",
      "source": [
        "> Matplotlib is a comprehensive library for creating static, animated, and interactive visualizations in Python. Matplotlib makes easy things easy and hard things possible.\n",
        "\n",
        "> * Create publication quality plots.\n",
        "* Make interactive figures that can zoom, pan, update.\n",
        "* Customize visual style and layout.\n",
        "* Export to many file formats .\n",
        "* Embed in JupyterLab and Graphical  User Interfaces.\n",
        "* Use a rich array of third-party packages built on Matplotlib."
      ],
      "metadata": {
        "id": "THa_FXH1IrLd"
      }
    },
    {
      "cell_type": "markdown",
      "source": [
        "https://matplotlib.org/stable/tutorials/introductory/usage.html"
      ],
      "metadata": {
        "id": "2zqih83-FM66"
      }
    },
    {
      "cell_type": "markdown",
      "source": [
        "https://matplotlib.org/stable/tutorials/index"
      ],
      "metadata": {
        "id": "szehbesKCIiG"
      }
    },
    {
      "cell_type": "markdown",
      "source": [
        "Even better... many, many examples!\n",
        "\n",
        "https://matplotlib.org/stable/gallery/index.html"
      ],
      "metadata": {
        "id": "eW_uejvvlLGK"
      }
    },
    {
      "cell_type": "code",
      "source": [
        "x_on_grid = np.arange(0,1,0.01)\n",
        "y_predictions_on_grid = y_hat_function(x_on_grid)\n",
        "\n",
        "py.scatter(x, y, color='green')\n",
        "py.scatter(x_on_grid, y_predictions_on_grid, color='cyan')\n",
        "\n",
        "py.xlabel('Presure of the awesome process')\n",
        "py.ylabel('Temperature of the awesome process');"
      ],
      "metadata": {
        "colab": {
          "base_uri": "https://localhost:8080/"
        },
        "id": "8lMnBI4CEhLE",
        "outputId": "c1714102-d324-4834-a541-b399d80d910d"
      },
      "execution_count": null,
      "outputs": [
        {
          "output_type": "display_data",
          "data": {
            "image/png": "[encoded data removed]",
            "text/plain": [
              "<Figure size 432x288 with 1 Axes>"
            ]
          },
          "metadata": {
            "needs_background": "light"
          }
        }
      ]
    },
    {
      "cell_type": "markdown",
      "source": [
        "## Pandas:  A great place to store your data.  Think Excel spreadsheet, but in Python"
      ],
      "metadata": {
        "id": "J2JzISROBwA3"
      }
    },
    {
      "cell_type": "markdown",
      "source": [
        "> pandas is a fast, powerful, flexible and easy to use open source data analysis and manipulation tool,\n",
        "built on top of the Python programming language."
      ],
      "metadata": {
        "id": "qC-E3VqrlUtm"
      }
    },
    {
      "cell_type": "markdown",
      "source": [
        "https://pandas.pydata.org/docs/index.html"
      ],
      "metadata": {
        "id": "hWy2MTFnFY73"
      }
    },
    {
      "cell_type": "markdown",
      "source": [
        "https://pandas.pydata.org/docs/getting_started/index.html"
      ],
      "metadata": {
        "id": "nMREBIQQCJR1"
      }
    },
    {
      "cell_type": "code",
      "source": [
        "import numpy as np\n",
        "import matplotlib.pyplot as plt  # To visualize\n",
        "import pandas as pd  # To read data\n",
        "from sklearn.linear_model import LinearRegression"
      ],
      "metadata": {
        "id": "N1KoitaQFkQL"
      },
      "execution_count": null,
      "outputs": []
    },
    {
      "cell_type": "code",
      "source": [
        "data = pd.DataFrame(data={'x':x, 'y':y})\n",
        "data"
      ],
      "metadata": {
        "colab": {
          "base_uri": "https://localhost:8080/"
        },
        "id": "zzeqHT-AFtez",
        "outputId": "87376eed-b92b-4a08-d923-9a860341e117"
      },
      "execution_count": null,
      "outputs": [
        {
          "output_type": "execute_result",
          "data": {
            "text/html": [
              "\n",
              "  <div id=\"df-46f58fc2-710b-4f6e-b1b1-aeb506a35c43\">\n",
              "    <div class=\"colab-df-container\">\n",
              "      <div>\n",
              "<style scoped>\n",
              "    .dataframe tbody tr th:only-of-type {\n",
              "        vertical-align: middle;\n",
              "    }\n",
              "\n",
              "    .dataframe tbody tr th {\n",
              "        vertical-align: top;\n",
              "    }\n",
              "\n",
              "    .dataframe thead th {\n",
              "        text-align: right;\n",
              "    }\n",
              "</style>\n",
              "<table border=\"1\" class=\"dataframe\">\n",
              "  <thead>\n",
              "    <tr style=\"text-align: right;\">\n",
              "      <th></th>\n",
              "      <th>x</th>\n",
              "      <th>y</th>\n",
              "    </tr>\n",
              "  </thead>\n",
              "  <tbody>\n",
              "    <tr>\n",
              "      <th>0</th>\n",
              "      <td>0.624904</td>\n",
              "      <td>1.266633</td>\n",
              "    </tr>\n",
              "    <tr>\n",
              "      <th>1</th>\n",
              "      <td>0.674689</td>\n",
              "      <td>1.255413</td>\n",
              "    </tr>\n",
              "    <tr>\n",
              "      <th>2</th>\n",
              "      <td>0.842342</td>\n",
              "      <td>1.346891</td>\n",
              "    </tr>\n",
              "    <tr>\n",
              "      <th>3</th>\n",
              "      <td>0.083195</td>\n",
              "      <td>0.559886</td>\n",
              "    </tr>\n",
              "    <tr>\n",
              "      <th>4</th>\n",
              "      <td>0.763683</td>\n",
              "      <td>1.143853</td>\n",
              "    </tr>\n",
              "    <tr>\n",
              "      <th>5</th>\n",
              "      <td>0.243666</td>\n",
              "      <td>0.763619</td>\n",
              "    </tr>\n",
              "    <tr>\n",
              "      <th>6</th>\n",
              "      <td>0.194223</td>\n",
              "      <td>0.741067</td>\n",
              "    </tr>\n",
              "    <tr>\n",
              "      <th>7</th>\n",
              "      <td>0.572457</td>\n",
              "      <td>0.989341</td>\n",
              "    </tr>\n",
              "    <tr>\n",
              "      <th>8</th>\n",
              "      <td>0.095713</td>\n",
              "      <td>0.711933</td>\n",
              "    </tr>\n",
              "    <tr>\n",
              "      <th>9</th>\n",
              "      <td>0.885327</td>\n",
              "      <td>1.275607</td>\n",
              "    </tr>\n",
              "  </tbody>\n",
              "</table>\n",
              "</div>\n",
              "      <button class=\"colab-df-convert\" onclick=\"convertToInteractive('df-46f58fc2-710b-4f6e-b1b1-aeb506a35c43')\"\n",
              "              title=\"Convert this dataframe to an interactive table.\"\n",
              "              style=\"display:none;\">\n",
              "        \n",
              "  <svg xmlns=\"http://www.w3.org/2000/svg\" height=\"24px\"viewBox=\"0 0 24 24\"\n",
              "       width=\"24px\">\n",
              "    <path d=\"M0 0h24v24H0V0z\" fill=\"none\"/>\n",
              "    <path d=\"M18.56 5.44l.94 2.06.94-2.06 2.06-.94-2.06-.94-.94-2.06-.94 2.06-2.06.94zm-11 1L8.5 8.5l.94-2.06 2.06-.94-2.06-.94L8.5 2.5l-.94 2.06-2.06.94zm10 10l.94 2.06.94-2.06 2.06-.94-2.06-.94-.94-2.06-.94 2.06-2.06.94z\"/><path d=\"M17.41 7.96l-1.37-1.37c-.4-.4-.92-.59-1.43-.59-.52 0-1.04.2-1.43.59L10.3 9.45l-7.72 7.72c-.78.78-.78 2.05 0 2.83L4 21.41c.39.39.9.59 1.41.59.51 0 1.02-.2 1.41-.59l7.78-7.78 2.81-2.81c.8-.78.8-2.07 0-2.86zM5.41 20L4 18.59l7.72-7.72 1.47 1.35L5.41 20z\"/>\n",
              "  </svg>\n",
              "      </button>\n",
              "      \n",
              "  <style>\n",
              "    .colab-df-container {\n",
              "      display:flex;\n",
              "      flex-wrap:wrap;\n",
              "      gap: 12px;\n",
              "    }\n",
              "\n",
              "    .colab-df-convert {\n",
              "      background-color: #E8F0FE;\n",
              "      border: none;\n",
              "      border-radius: 50%;\n",
              "      cursor: pointer;\n",
              "      display: none;\n",
              "      fill: #1967D2;\n",
              "      height: 32px;\n",
              "      padding: 0 0 0 0;\n",
              "      width: 32px;\n",
              "    }\n",
              "\n",
              "    .colab-df-convert:hover {\n",
              "      background-color: #E2EBFA;\n",
              "      box-shadow: 0px 1px 2px rgba(60, 64, 67, 0.3), 0px 1px 3px 1px rgba(60, 64, 67, 0.15);\n",
              "      fill: #174EA6;\n",
              "    }\n",
              "\n",
              "    [theme=dark] .colab-df-convert {\n",
              "      background-color: #3B4455;\n",
              "      fill: #D2E3FC;\n",
              "    }\n",
              "\n",
              "    [theme=dark] .colab-df-convert:hover {\n",
              "      background-color: #434B5C;\n",
              "      box-shadow: 0px 1px 3px 1px rgba(0, 0, 0, 0.15);\n",
              "      filter: drop-shadow(0px 1px 2px rgba(0, 0, 0, 0.3));\n",
              "      fill: #FFFFFF;\n",
              "    }\n",
              "  </style>\n",
              "\n",
              "      <script>\n",
              "        const buttonEl =\n",
              "          document.querySelector('#df-46f58fc2-710b-4f6e-b1b1-aeb506a35c43 button.colab-df-convert');\n",
              "        buttonEl.style.display =\n",
              "          google.colab.kernel.accessAllowed ? 'block' : 'none';\n",
              "\n",
              "        async function convertToInteractive(key) {\n",
              "          const element = document.querySelector('#df-46f58fc2-710b-4f6e-b1b1-aeb506a35c43');\n",
              "          const dataTable =\n",
              "            await google.colab.kernel.invokeFunction('convertToInteractive',\n",
              "                                                     [key], {});\n",
              "          if (!dataTable) return;\n",
              "\n",
              "          const docLinkHtml = 'Like what you see? Visit the ' +\n",
              "            '<a target=\"_blank\" href=https://colab.research.google.com/notebooks/data_table.ipynb>data table notebook</a>'\n",
              "            + ' to learn more about interactive tables.';\n",
              "          element.innerHTML = '';\n",
              "          dataTable['output_type'] = 'display_data';\n",
              "          await google.colab.output.renderOutput(dataTable, element);\n",
              "          const docLink = document.createElement('div');\n",
              "          docLink.innerHTML = docLinkHtml;\n",
              "          element.appendChild(docLink);\n",
              "        }\n",
              "      </script>\n",
              "    </div>\n",
              "  </div>\n",
              "  "
            ],
            "text/plain": [
              "          x         y\n",
              "0  0.624904  1.266633\n",
              "1  0.674689  1.255413\n",
              "2  0.842342  1.346891\n",
              "3  0.083195  0.559886\n",
              "4  0.763683  1.143853\n",
              "5  0.243666  0.763619\n",
              "6  0.194223  0.741067\n",
              "7  0.572457  0.989341\n",
              "8  0.095713  0.711933\n",
              "9  0.885327  1.275607"
            ]
          },
          "metadata": {},
          "execution_count": 118
        }
      ]
    },
    {
      "cell_type": "code",
      "source": [
        "deg = 1\n",
        "\n",
        "# Lots of math magic in here!\n",
        "z = np.polyfit(data['x'], data['y'], deg=deg)\n",
        "y_hat_function = np.poly1d(z)\n",
        "data['y_hat'] = y_hat_function(data['x'])"
      ],
      "metadata": {
        "id": "uA8kUNNWGPz8"
      },
      "execution_count": null,
      "outputs": []
    },
    {
      "cell_type": "markdown",
      "source": [
        "Pandas makes visualization easy too!\n",
        "\n",
        "https://pandas.pydata.org/pandas-docs/stable/user_guide/visualization.html"
      ],
      "metadata": {
        "id": "wqr0YML4HAnm"
      }
    },
    {
      "cell_type": "code",
      "source": [
        "ax = data.plot(x='x',y='y', kind='scatter')\n",
        "data.plot(x='x',y='y_hat', kind='line', ax=ax)\n"
      ],
      "metadata": {
        "colab": {
          "base_uri": "https://localhost:8080/"
        },
        "id": "3eoZ5JbPG1aW",
        "outputId": "61465774-a8f4-4298-99e2-471f3101e9c1"
      },
      "execution_count": null,
      "outputs": [
        {
          "output_type": "execute_result",
          "data": {
            "text/plain": [
              "<matplotlib.axes._subplots.AxesSubplot at 0x7f8e9efa2c50>"
            ]
          },
          "metadata": {},
          "execution_count": 120
        },
        {
          "output_type": "display_data",
          "data": {
            "image/png": "[encoded data removed]",
            "text/plain": [
              "<Figure size 432x288 with 1 Axes>"
            ]
          },
          "metadata": {
            "needs_background": "light"
          }
        }
      ]
    },
    {
      "cell_type": "markdown",
      "source": [
        "## Stasmodels:  All the math!"
      ],
      "metadata": {
        "id": "i_SWOmnsKv6y"
      }
    },
    {
      "cell_type": "markdown",
      "source": [
        "> statsmodels is a Python module that provides classes and functions for the estimation of many different statistical models, as well as for conducting statistical tests, and statistical data exploration. An extensive list of result statistics are available for each estimator. The results are tested against existing statistical packages to ensure that they are correct. The package is released under the open source Modified BSD (3-clause) license. The online documentation is hosted at statsmodels.org."
      ],
      "metadata": {
        "id": "qh-IupEHLVo1"
      }
    },
    {
      "cell_type": "markdown",
      "source": [
        "https://www.statsmodels.org/stable/index.html"
      ],
      "metadata": {
        "id": "56y2Gx-fLTX0"
      }
    },
    {
      "cell_type": "code",
      "source": [
        "import statsmodels.formula.api as smf"
      ],
      "metadata": {
        "id": "766kLVEyK0mU"
      },
      "execution_count": null,
      "outputs": []
    },
    {
      "cell_type": "code",
      "source": [
        "results = smf.ols('y ~ x', data=data).fit()"
      ],
      "metadata": {
        "id": "VZaG2OD6K50J"
      },
      "execution_count": null,
      "outputs": []
    },
    {
      "cell_type": "markdown",
      "source": [
        "What does all this mean?"
      ],
      "metadata": {
        "id": "YyEIpjSvLGWC"
      }
    },
    {
      "cell_type": "code",
      "source": [
        "print(results.summary())"
      ],
      "metadata": {
        "colab": {
          "base_uri": "https://localhost:8080/"
        },
        "id": "i_VhQFDULDpY",
        "outputId": "54f527fd-9290-42aa-a5c5-3dc5abd8f290"
      },
      "execution_count": null,
      "outputs": [
        {
          "output_type": "stream",
          "name": "stdout",
          "text": [
            "                            OLS Regression Results                            \n",
            "==============================================================================\n",
            "Dep. Variable:                      y   R-squared:                       0.915\n",
            "Model:                            OLS   Adj. R-squared:                  0.904\n",
            "Method:                 Least Squares   F-statistic:                     86.11\n",
            "Date:                Sun, 06 Feb 2022   Prob (F-statistic):           1.48e-05\n",
            "Time:                        19:18:58   Log-Likelihood:                 11.069\n",
            "No. Observations:                  10   AIC:                            -18.14\n",
            "Df Residuals:                       8   BIC:                            -17.53\n",
            "Df Model:                           1                                         \n",
            "Covariance Type:            nonrobust                                         \n",
            "==============================================================================\n",
            "                 coef    std err          t      P>|t|      [0.025      0.975]\n",
            "------------------------------------------------------------------------------\n",
            "Intercept      0.5656      0.055     10.246      0.000       0.438       0.693\n",
            "x              0.8832      0.095      9.280      0.000       0.664       1.103\n",
            "==============================================================================\n",
            "Omnibus:                        1.021   Durbin-Watson:                   1.136\n",
            "Prob(Omnibus):                  0.600   Jarque-Bera (JB):                0.774\n",
            "Skew:                           0.415   Prob(JB):                        0.679\n",
            "Kurtosis:                       1.919   Cond. No.                         4.26\n",
            "==============================================================================\n",
            "\n",
            "Warnings:\n",
            "[1] Standard Errors assume that the covariance matrix of the errors is correctly specified.\n"
          ]
        },
        {
          "output_type": "stream",
          "name": "stderr",
          "text": [
            "/usr/local/lib/python3.7/dist-packages/scipy/stats/stats.py:1535: UserWarning: kurtosistest only valid for n>=20 ... continuing anyway, n=10\n",
            "  \"anyway, n=%i\" % int(n))\n"
          ]
        }
      ]
    },
    {
      "cell_type": "markdown",
      "source": [
        "## Seaborn:  Classic statistical analysis made easy"
      ],
      "metadata": {
        "id": "-TdiYBL7-N2x"
      }
    },
    {
      "cell_type": "markdown",
      "source": [
        "https://seaborn.pydata.org/\n",
        "\n",
        "> Seaborn is a Python data visualization library based on matplotlib. It provides a high-level interface for drawing attractive and informative statistical graphics.\n",
        "\n",
        "> For a brief introduction to the ideas behind the library, you can read the introductory notes or the paper. Visit the installation page to see how you can download the package and get started with it. You can browse the example gallery to see some of the things that you can do with seaborn, and then check out the tutorial or API reference to find out how."
      ],
      "metadata": {
        "id": "lin1Kt6d-TdR"
      }
    },
    {
      "cell_type": "code",
      "source": [
        "import seaborn as sns"
      ],
      "metadata": {
        "id": "2vMUxQsZJKAl"
      },
      "execution_count": null,
      "outputs": []
    },
    {
      "cell_type": "markdown",
      "source": [
        "One command!"
      ],
      "metadata": {
        "id": "_YWSAiKrJPED"
      }
    },
    {
      "cell_type": "markdown",
      "source": [
        "https://seaborn.pydata.org/tutorial/regression.html"
      ],
      "metadata": {
        "id": "NN45nKnvJbJr"
      }
    },
    {
      "cell_type": "code",
      "source": [
        "sns.regplot(x=\"x\", y=\"y\", data=data)"
      ],
      "metadata": {
        "id": "D3wOM8cxIUNn",
        "colab": {
          "base_uri": "https://localhost:8080/"
        },
        "outputId": "777f776e-93f5-41af-c626-c47c9d49a8f8"
      },
      "execution_count": null,
      "outputs": [
        {
          "output_type": "execute_result",
          "data": {
            "text/plain": [
              "<matplotlib.axes._subplots.AxesSubplot at 0x7f8e9f058150>"
            ]
          },
          "metadata": {},
          "execution_count": 125
        },
        {
          "output_type": "display_data",
          "data": {
            "image/png": "[encoded data removed]",
            "text/plain": [
              "<Figure size 432x288 with 1 Axes>"
            ]
          },
          "metadata": {
            "needs_background": "light"
          }
        }
      ]
    },
    {
      "cell_type": "markdown",
      "source": [
        "What is that light blue area!?"
      ],
      "metadata": {
        "id": "1rnfgJgdlz7M"
      }
    },
    {
      "cell_type": "markdown",
      "source": [
        "## Scikit Learn:  Machine Learning made easy.\n",
        "\n"
      ],
      "metadata": {
        "id": "WEzdTYXF-Nme"
      }
    },
    {
      "cell_type": "markdown",
      "source": [
        "> Simple and efficient tools for predictive data analysis\n",
        "Accessible to everybody, and reusable in various contexts\n",
        "Built on NumPy, SciPy, and matplotlib\n",
        "Open source, commercially usable - BSD license"
      ],
      "metadata": {
        "id": "XHpUGAHqCKBk"
      }
    },
    {
      "cell_type": "markdown",
      "source": [
        "![map](https://scikit-learn.org/stable/_static/ml_map.png)"
      ],
      "metadata": {
        "id": "D4VnlPu0MAsM"
      }
    },
    {
      "cell_type": "markdown",
      "source": [
        "https://scikit-learn.org/stable/"
      ],
      "metadata": {
        "id": "4VrlUO7DL0t8"
      }
    },
    {
      "cell_type": "markdown",
      "source": [
        "Again, many, many examples!\n",
        "\n",
        "https://scikit-learn.org/stable/auto_examples/index.html"
      ],
      "metadata": {
        "id": "SgBUqYrFL46p"
      }
    },
    {
      "cell_type": "code",
      "source": [
        "# Generate data\n",
        "number_of_points = 100\n",
        "x = np.random.uniform(0, 1, size=number_of_points)\n",
        "\n",
        "true_a = 1.0\n",
        "true_b = 0.5\n",
        "\n",
        "mu = 0.0\n",
        "sigma = 0.1\n",
        "noise = np.random.normal(loc=mu, scale=sigma, size=number_of_points)\n",
        "\n",
        "y = true_a*x + true_b + noise"
      ],
      "metadata": {
        "id": "7V_1PwRYNMQW"
      },
      "execution_count": null,
      "outputs": []
    },
    {
      "cell_type": "code",
      "source": [
        "from sklearn.linear_model import LinearRegression\n",
        "\n",
        "# Make x into a 2D array\n",
        "X = x.reshape(-1,1)\n",
        "reg = LinearRegression().fit(X, y)\n"
      ],
      "metadata": {
        "id": "yID8kHpAGJ9l"
      },
      "execution_count": null,
      "outputs": []
    },
    {
      "cell_type": "code",
      "source": [
        "reg.coef_\n"
      ],
      "metadata": {
        "colab": {
          "base_uri": "https://localhost:8080/"
        },
        "id": "gdYJ8qA3NEoE",
        "outputId": "53587d41-86de-449e-ec7c-5fe5066bdffa"
      },
      "execution_count": null,
      "outputs": [
        {
          "output_type": "execute_result",
          "data": {
            "text/plain": [
              "array([1.00268433])"
            ]
          },
          "metadata": {},
          "execution_count": 128
        }
      ]
    },
    {
      "cell_type": "code",
      "source": [
        "reg.intercept_\n"
      ],
      "metadata": {
        "colab": {
          "base_uri": "https://localhost:8080/"
        },
        "id": "rFtkZC3mNFVn",
        "outputId": "6df62203-0315-4934-b9f3-0dfbba71bf27"
      },
      "execution_count": null,
      "outputs": [
        {
          "output_type": "execute_result",
          "data": {
            "text/plain": [
              "0.489391209888678"
            ]
          },
          "metadata": {},
          "execution_count": 129
        }
      ]
    },
    {
      "cell_type": "code",
      "source": [
        "y_hat = reg.predict(X)\n",
        "py.scatter(x,y)\n",
        "py.plot(x,y_hat)"
      ],
      "metadata": {
        "colab": {
          "base_uri": "https://localhost:8080/",
          "height": 285
        },
        "id": "gl6CO7oyNFzX",
        "outputId": "e3360fed-0149-4dda-f5d5-c8ba3fcfed81"
      },
      "execution_count": null,
      "outputs": [
        {
          "output_type": "execute_result",
          "data": {
            "text/plain": [
              "[<matplotlib.lines.Line2D at 0x7f8e9f102990>]"
            ]
          },
          "metadata": {},
          "execution_count": 130
        },
        {
          "output_type": "display_data",
          "data": {
            "image/png": "[encoded data removed]",
            "text/plain": [
              "<Figure size 432x288 with 1 Axes>"
            ]
          },
          "metadata": {
            "needs_background": "light"
          }
        }
      ]
    },
    {
      "cell_type": "markdown",
      "source": [
        "### Super important.  How well are we doing?"
      ],
      "metadata": {
        "id": "Ju4HGqQKcxvm"
      }
    },
    {
      "cell_type": "code",
      "source": [
        "# Generate data\n",
        "number_of_points = 20\n",
        "x = np.random.uniform(0, 1, size=number_of_points)\n",
        "\n",
        "true_a = 1.0\n",
        "true_b = 0.5\n",
        "\n",
        "mu = 0.0\n",
        "sigma = 0.1\n",
        "noise = np.random.normal(loc=mu, scale=sigma, size=number_of_points)\n",
        "\n",
        "y = true_a*x + true_b + noise\n",
        "\n",
        "# Make x into a 2D array\n",
        "X = x.reshape(-1,1)"
      ],
      "metadata": {
        "id": "Nq0IQGw7P3RS"
      },
      "execution_count": null,
      "outputs": []
    },
    {
      "cell_type": "code",
      "source": [
        "from sklearn.utils import resample\n",
        "\n",
        "X_new, y_new = resample(X, y)\n",
        "reg = LinearRegression().fit(X_new, y_new)\n",
        "y_hat_new = reg.predict(X_new)\n",
        "py.scatter(X_new[:,0],y_new)\n",
        "py.plot(X_new[:,0],y_hat_new)"
      ],
      "metadata": {
        "colab": {
          "base_uri": "https://localhost:8080/",
          "height": 283
        },
        "id": "yUV3f3AiOMk5",
        "outputId": "0a73037e-7407-40b1-ddd4-93c5fe9dfd6c"
      },
      "execution_count": null,
      "outputs": [
        {
          "output_type": "execute_result",
          "data": {
            "text/plain": [
              "[<matplotlib.lines.Line2D at 0x7f8e9ef09810>]"
            ]
          },
          "metadata": {},
          "execution_count": 132
        },
        {
          "output_type": "display_data",
          "data": {
            "image/png": "[encoded data removed]",
            "text/plain": [
              "<Figure size 432x288 with 1 Axes>"
            ]
          },
          "metadata": {
            "needs_background": "light"
          }
        }
      ]
    },
    {
      "cell_type": "code",
      "source": [
        "for c in ['r', 'g', 'b']:\n",
        "  X_new, y_new = resample(X, y)\n",
        "  reg = LinearRegression().fit(X_new, y_new)\n",
        "  y_hat_new = reg.predict(X_new)\n",
        "  py.scatter(X_new[:,0], y_new, color=c)\n",
        "  py.plot(X_new[:,0], y_hat_new, color=c)"
      ],
      "metadata": {
        "colab": {
          "base_uri": "https://localhost:8080/",
          "height": 265
        },
        "id": "NGccykx8Pmsi",
        "outputId": "2e14ebba-fa92-42de-b53f-bb952b4236c2"
      },
      "execution_count": null,
      "outputs": [
        {
          "output_type": "display_data",
          "data": {
            "image/png": "[encoded data removed]",
            "text/plain": [
              "<Figure size 432x288 with 1 Axes>"
            ]
          },
          "metadata": {
            "needs_background": "light"
          }
        }
      ]
    },
    {
      "cell_type": "code",
      "source": [
        "b0 =[]\n",
        "b1 = []\n",
        "for i in range(1000):\n",
        "  X_new, y_new = resample(X, y)\n",
        "  reg = LinearRegression().fit(X_new, y_new)\n",
        "  b0 += [reg.intercept_]\n",
        "  b1 += [reg.coef_[0]]"
      ],
      "metadata": {
        "id": "RM07ka1tQK4X"
      },
      "execution_count": null,
      "outputs": []
    },
    {
      "cell_type": "code",
      "source": [
        "py.hist(b0)"
      ],
      "metadata": {
        "colab": {
          "base_uri": "https://localhost:8080/",
          "height": 358
        },
        "id": "H1gDVkqaQbtv",
        "outputId": "f177894b-3cbe-4039-95e8-116fdb40d3d3"
      },
      "execution_count": null,
      "outputs": [
        {
          "output_type": "execute_result",
          "data": {
            "text/plain": [
              "(array([  5.,  13.,  45., 136., 218., 254., 198., 101.,  28.,   2.]),\n",
              " array([0.27606335, 0.30759727, 0.33913119, 0.37066511, 0.40219903,\n",
              "        0.43373294, 0.46526686, 0.49680078, 0.5283347 , 0.55986862,\n",
              "        0.59140253]),\n",
              " <a list of 10 Patch objects>)"
            ]
          },
          "metadata": {},
          "execution_count": 135
        },
        {
          "output_type": "display_data",
          "data": {
            "image/png": "[encoded data removed]",
            "text/plain": [
              "<Figure size 432x288 with 1 Axes>"
            ]
          },
          "metadata": {
            "needs_background": "light"
          }
        }
      ]
    },
    {
      "cell_type": "code",
      "source": [
        "py.hist(b1)"
      ],
      "metadata": {
        "colab": {
          "base_uri": "https://localhost:8080/",
          "height": 358
        },
        "id": "U8yqeISMQgoW",
        "outputId": "429e7b3f-51c6-4fe4-a66e-10c881d46bae"
      },
      "execution_count": null,
      "outputs": [
        {
          "output_type": "execute_result",
          "data": {
            "text/plain": [
              "(array([  9.,  51., 115., 202., 256., 184., 120.,  47.,  13.,   3.]),\n",
              " array([0.80279894, 0.8489891 , 0.89517926, 0.94136941, 0.98755957,\n",
              "        1.03374973, 1.07993989, 1.12613005, 1.17232021, 1.21851037,\n",
              "        1.26470053]),\n",
              " <a list of 10 Patch objects>)"
            ]
          },
          "metadata": {},
          "execution_count": 136
        },
        {
          "output_type": "display_data",
          "data": {
            "image/png": "[encoded data removed]",
            "text/plain": [
              "<Figure size 432x288 with 1 Axes>"
            ]
          },
          "metadata": {
            "needs_background": "light"
          }
        }
      ]
    },
    {
      "cell_type": "code",
      "source": [
        "data = pd.DataFrame({'x':x, 'y':y})\n",
        "results = smf.ols('y ~ x', data=data).fit()\n",
        "print(results.summary())"
      ],
      "metadata": {
        "colab": {
          "base_uri": "https://localhost:8080/"
        },
        "id": "zuia5eSeQqVi",
        "outputId": "076d9a7c-3b63-4d37-aa59-cc0300c3ab54"
      },
      "execution_count": null,
      "outputs": [
        {
          "output_type": "stream",
          "name": "stdout",
          "text": [
            "                            OLS Regression Results                            \n",
            "==============================================================================\n",
            "Dep. Variable:                      y   R-squared:                       0.911\n",
            "Model:                            OLS   Adj. R-squared:                  0.906\n",
            "Method:                 Least Squares   F-statistic:                     184.4\n",
            "Date:                Sun, 06 Feb 2022   Prob (F-statistic):           6.72e-11\n",
            "Time:                        19:19:00   Log-Likelihood:                 18.731\n",
            "No. Observations:                  20   AIC:                            -33.46\n",
            "Df Residuals:                      18   BIC:                            -31.47\n",
            "Df Model:                           1                                         \n",
            "Covariance Type:            nonrobust                                         \n",
            "==============================================================================\n",
            "                 coef    std err          t      P>|t|      [0.025      0.975]\n",
            "------------------------------------------------------------------------------\n",
            "Intercept      0.4467      0.045      9.948      0.000       0.352       0.541\n",
            "x              1.0046      0.074     13.581      0.000       0.849       1.160\n",
            "==============================================================================\n",
            "Omnibus:                        3.424   Durbin-Watson:                   2.306\n",
            "Prob(Omnibus):                  0.180   Jarque-Bera (JB):                2.786\n",
            "Skew:                           0.879   Prob(JB):                        0.248\n",
            "Kurtosis:                       2.499   Cond. No.                         4.29\n",
            "==============================================================================\n",
            "\n",
            "Warnings:\n",
            "[1] Standard Errors assume that the covariance matrix of the errors is correctly specified.\n"
          ]
        }
      ]
    },
    {
      "cell_type": "code",
      "source": [
        "print('std err b0: ', np.std(b0))\n",
        "print('std err b1: ', np.std(b1))\n"
      ],
      "metadata": {
        "colab": {
          "base_uri": "https://localhost:8080/"
        },
        "id": "RtRcfZpWRQTf",
        "outputId": "b7201f91-f95a-456d-8902-f4310fa1193e"
      },
      "execution_count": null,
      "outputs": [
        {
          "output_type": "stream",
          "name": "stdout",
          "text": [
            "std err b0:  0.04798073817478637\n",
            "std err b1:  0.07427185132524752\n"
          ]
        }
      ]
    },
    {
      "cell_type": "markdown",
      "source": [
        "**BIG QUESTION:  What happens when we add more data?**"
      ],
      "metadata": {
        "id": "VzGo0bsnmT4M"
      }
    },
    {
      "cell_type": "code",
      "source": [
        "# Generate data\n",
        "number_of_points = 2000\n",
        "x = np.random.uniform(0, 1, size=number_of_points)\n",
        "\n",
        "true_a = 1.0\n",
        "true_b = 0.5\n",
        "\n",
        "mu = 0.0\n",
        "sigma = 0.1\n",
        "noise = np.random.normal(loc=mu, scale=sigma, size=number_of_points)\n",
        "\n",
        "y = true_a*x + true_b + noise\n",
        "\n",
        "# Make x into a 2D array\n",
        "X = x.reshape(-1,1)"
      ],
      "metadata": {
        "id": "J8jATFPodk8m"
      },
      "execution_count": null,
      "outputs": []
    },
    {
      "cell_type": "code",
      "source": [
        "from sklearn.utils import resample\n",
        "\n",
        "X_new, y_new = resample(X, y)\n",
        "reg = LinearRegression().fit(X_new, y_new)\n",
        "y_hat_new = reg.predict(X_new)\n",
        "py.scatter(X_new[:,0],y_new)\n",
        "py.plot(X_new[:,0],y_hat_new)"
      ],
      "metadata": {
        "colab": {
          "base_uri": "https://localhost:8080/",
          "height": 286
        },
        "outputId": "e8b7e651-8964-4e54-9f0d-3cf6f1b429eb",
        "id": "gScm-thPdk8n"
      },
      "execution_count": null,
      "outputs": [
        {
          "output_type": "execute_result",
          "data": {
            "text/plain": [
              "[<matplotlib.lines.Line2D at 0x7f8e9ec96950>]"
            ]
          },
          "metadata": {},
          "execution_count": 140
        },
        {
          "output_type": "display_data",
          "data": {
            "image/png": "[encoded data removed]",
            "text/plain": [
              "<Figure size 432x288 with 1 Axes>"
            ]
          },
          "metadata": {
            "needs_background": "light"
          }
        }
      ]
    },
    {
      "cell_type": "code",
      "source": [
        "for c in ['r', 'g', 'b']:\n",
        "  X_new, y_new = resample(X, y)\n",
        "  reg = LinearRegression().fit(X_new, y_new)\n",
        "  y_hat_new = reg.predict(X_new)\n",
        "  py.scatter(X_new[:,0], y_new, color=c)\n",
        "  py.plot(X_new[:,0], y_hat_new, color=c)"
      ],
      "metadata": {
        "colab": {
          "base_uri": "https://localhost:8080/",
          "height": 267
        },
        "outputId": "fa6c3477-78b6-4861-e8c3-856f7ad218e6",
        "id": "qS9DdAZldk8n"
      },
      "execution_count": null,
      "outputs": [
        {
          "output_type": "display_data",
          "data": {
            "image/png": "[encoded data removed]",
            "text/plain": [
              "<Figure size 432x288 with 1 Axes>"
            ]
          },
          "metadata": {
            "needs_background": "light"
          }
        }
      ]
    },
    {
      "cell_type": "code",
      "source": [
        "b0_new =[]\n",
        "b1_new = []\n",
        "for i in range(1000):\n",
        "  X_new, y_new = resample(X, y)\n",
        "  reg = LinearRegression().fit(X_new, y_new)\n",
        "  b0_new += [reg.intercept_]\n",
        "  b1_new += [reg.coef_[0]]"
      ],
      "metadata": {
        "id": "19CWksundk8n"
      },
      "execution_count": null,
      "outputs": []
    },
    {
      "cell_type": "code",
      "source": [
        "py.hist(b0)\n",
        "py.hist(b0_new)"
      ],
      "metadata": {
        "colab": {
          "base_uri": "https://localhost:8080/",
          "height": 358
        },
        "outputId": "f948114e-ae55-422a-c916-037c528809d2",
        "id": "_-FjHtE5dk8n"
      },
      "execution_count": null,
      "outputs": [
        {
          "output_type": "execute_result",
          "data": {
            "text/plain": [
              "(array([  8.,  19.,  66., 158., 245., 242., 153.,  82.,  20.,   7.]),\n",
              " array([0.4847113 , 0.48745758, 0.49020387, 0.49295015, 0.49569643,\n",
              "        0.49844271, 0.501189  , 0.50393528, 0.50668156, 0.50942784,\n",
              "        0.51217413]),\n",
              " <a list of 10 Patch objects>)"
            ]
          },
          "metadata": {},
          "execution_count": 143
        },
        {
          "output_type": "display_data",
          "data": {
            "image/png": "[encoded data removed]",
            "text/plain": [
              "<Figure size 432x288 with 1 Axes>"
            ]
          },
          "metadata": {
            "needs_background": "light"
          }
        }
      ]
    },
    {
      "cell_type": "code",
      "source": [
        "py.hist(b1)\n",
        "py.hist(b1_new)"
      ],
      "metadata": {
        "colab": {
          "base_uri": "https://localhost:8080/",
          "height": 358
        },
        "outputId": "464e1cfe-f711-4902-8f8e-b5f093ddd3cc",
        "id": "20LpMvPgdk8o"
      },
      "execution_count": null,
      "outputs": [
        {
          "output_type": "execute_result",
          "data": {
            "text/plain": [
              "(array([ 18.,  45.,  98., 170., 248., 202., 143.,  55.,  16.,   5.]),\n",
              " array([0.98438978, 0.98885199, 0.9933142 , 0.9977764 , 1.00223861,\n",
              "        1.00670082, 1.01116303, 1.01562524, 1.02008744, 1.02454965,\n",
              "        1.02901186]),\n",
              " <a list of 10 Patch objects>)"
            ]
          },
          "metadata": {},
          "execution_count": 144
        },
        {
          "output_type": "display_data",
          "data": {
            "image/png": "[encoded data removed]",
            "text/plain": [
              "<Figure size 432x288 with 1 Axes>"
            ]
          },
          "metadata": {
            "needs_background": "light"
          }
        }
      ]
    },
    {
      "cell_type": "code",
      "source": [
        "data = pd.DataFrame({'x':x, 'y':y})\n",
        "results = smf.ols('y ~ x', data=data).fit()\n",
        "print(results.summary())"
      ],
      "metadata": {
        "colab": {
          "base_uri": "https://localhost:8080/"
        },
        "outputId": "f9dff700-375a-4a58-a454-4f7497e8fb6e",
        "id": "mHELMGphdk8o"
      },
      "execution_count": null,
      "outputs": [
        {
          "output_type": "stream",
          "name": "stdout",
          "text": [
            "                            OLS Regression Results                            \n",
            "==============================================================================\n",
            "Dep. Variable:                      y   R-squared:                       0.897\n",
            "Model:                            OLS   Adj. R-squared:                  0.897\n",
            "Method:                 Least Squares   F-statistic:                 1.740e+04\n",
            "Date:                Sun, 06 Feb 2022   Prob (F-statistic):               0.00\n",
            "Time:                        19:19:02   Log-Likelihood:                 1800.7\n",
            "No. Observations:                2000   AIC:                            -3597.\n",
            "Df Residuals:                    1998   BIC:                            -3586.\n",
            "Df Model:                           1                                         \n",
            "Covariance Type:            nonrobust                                         \n",
            "==============================================================================\n",
            "                 coef    std err          t      P>|t|      [0.025      0.975]\n",
            "------------------------------------------------------------------------------\n",
            "Intercept      0.4984      0.004    113.765      0.000       0.490       0.507\n",
            "x              1.0054      0.008    131.912      0.000       0.990       1.020\n",
            "==============================================================================\n",
            "Omnibus:                        1.385   Durbin-Watson:                   1.896\n",
            "Prob(Omnibus):                  0.500   Jarque-Bera (JB):                1.386\n",
            "Skew:                           0.018   Prob(JB):                        0.500\n",
            "Kurtosis:                       2.876   Cond. No.                         4.38\n",
            "==============================================================================\n",
            "\n",
            "Warnings:\n",
            "[1] Standard Errors assume that the covariance matrix of the errors is correctly specified.\n"
          ]
        }
      ]
    },
    {
      "cell_type": "code",
      "source": [
        "print('std err b0: ', np.std(b0_new))\n",
        "print('std err b1: ', np.std(b1_new))\n"
      ],
      "metadata": {
        "colab": {
          "base_uri": "https://localhost:8080/"
        },
        "outputId": "d9a5c6ba-36f1-4f20-c947-f42a0a700f6c",
        "id": "VrpReM5Mdk8o"
      },
      "execution_count": null,
      "outputs": [
        {
          "output_type": "stream",
          "name": "stdout",
          "text": [
            "std err b0:  0.00429423678827682\n",
            "std err b1:  0.007490214960373939\n"
          ]
        }
      ]
    },
    {
      "cell_type": "markdown",
      "source": [
        "**BIG QUESTION:  What happens when our model is wrong?**"
      ],
      "metadata": {
        "id": "EREBP_19fLMg"
      }
    },
    {
      "cell_type": "code",
      "source": [
        "# Generate data\n",
        "number_of_points = 2000\n",
        "x = np.random.uniform(0, 1, size=number_of_points)\n",
        "\n",
        "true_a = 1.0\n",
        "true_b = 0.5\n",
        "\n",
        "mu = 0.0\n",
        "sigma = 0.1\n",
        "noise = np.random.normal(loc=mu, scale=sigma, size=number_of_points)\n",
        "\n",
        "y = true_a*x**2 + true_b + noise\n",
        "\n",
        "# Make x into a 2D array\n",
        "X = x.reshape(-1,1)"
      ],
      "metadata": {
        "id": "sC24ZOsBfLMh"
      },
      "execution_count": null,
      "outputs": []
    },
    {
      "cell_type": "code",
      "source": [
        "from sklearn.utils import resample\n",
        "\n",
        "X_new, y_new = resample(X, y)\n",
        "reg = LinearRegression().fit(X_new, y_new)\n",
        "y_hat_new = reg.predict(X_new)\n",
        "py.scatter(X_new[:,0],y_new)\n",
        "py.plot(X_new[:,0],y_hat_new)"
      ],
      "metadata": {
        "colab": {
          "base_uri": "https://localhost:8080/",
          "height": 283
        },
        "outputId": "8cf234b3-f6c3-4ab2-8449-df7b0a9cf54e",
        "id": "SU8Na7H7fLMh"
      },
      "execution_count": null,
      "outputs": [
        {
          "output_type": "execute_result",
          "data": {
            "text/plain": [
              "[<matplotlib.lines.Line2D at 0x7f8e9ed479d0>]"
            ]
          },
          "metadata": {},
          "execution_count": 158
        },
        {
          "output_type": "display_data",
          "data": {
            "image/png": "[encoded data removed]",
            "text/plain": [
              "<Figure size 432x288 with 1 Axes>"
            ]
          },
          "metadata": {
            "needs_background": "light"
          }
        }
      ]
    },
    {
      "cell_type": "code",
      "source": [
        "for c in ['r', 'g', 'b']:\n",
        "  X_new, y_new = resample(X, y)\n",
        "  reg = LinearRegression().fit(X_new, y_new)\n",
        "  y_hat_new = reg.predict(X_new)\n",
        "  py.scatter(X_new[:,0], y_new, color=c)\n",
        "  py.plot(X_new[:,0], y_hat_new, color=c)"
      ],
      "metadata": {
        "colab": {
          "base_uri": "https://localhost:8080/",
          "height": 265
        },
        "outputId": "01e1301a-91ed-4fd9-96d4-7f39b994e04e",
        "id": "I4J-7AIOfLMh"
      },
      "execution_count": null,
      "outputs": [
        {
          "output_type": "display_data",
          "data": {
            "image/png": "[encoded data removed]",
            "text/plain": [
              "<Figure size 432x288 with 1 Axes>"
            ]
          },
          "metadata": {
            "needs_background": "light"
          }
        }
      ]
    },
    {
      "cell_type": "code",
      "source": [
        "b0_new =[]\n",
        "b1_new = []\n",
        "for i in range(1000):\n",
        "  X_new, y_new = resample(X, y)\n",
        "  reg = LinearRegression().fit(X_new, y_new)\n",
        "  b0_new += [reg.intercept_]\n",
        "  b1_new += [reg.coef_[0]]"
      ],
      "metadata": {
        "id": "6yXpyYEbfLMh"
      },
      "execution_count": null,
      "outputs": []
    },
    {
      "cell_type": "code",
      "source": [
        "py.hist(b0_new)"
      ],
      "metadata": {
        "colab": {
          "base_uri": "https://localhost:8080/",
          "height": 358
        },
        "outputId": "9ab5aaab-b834-4c81-9b43-4bfd8f0cc48d",
        "id": "kmsvGma0fLMh"
      },
      "execution_count": null,
      "outputs": [
        {
          "output_type": "execute_result",
          "data": {
            "text/plain": [
              "(array([  2.,   4.,  19.,  92., 173., 253., 246., 141.,  54.,  16.]),\n",
              " array([0.30715826, 0.31112028, 0.3150823 , 0.31904433, 0.32300635,\n",
              "        0.32696837, 0.33093039, 0.33489241, 0.33885444, 0.34281646,\n",
              "        0.34677848]),\n",
              " <a list of 10 Patch objects>)"
            ]
          },
          "metadata": {},
          "execution_count": 161
        },
        {
          "output_type": "display_data",
          "data": {
            "image/png": "[encoded data removed]",
            "text/plain": [
              "<Figure size 432x288 with 1 Axes>"
            ]
          },
          "metadata": {
            "needs_background": "light"
          }
        }
      ]
    },
    {
      "cell_type": "code",
      "source": [
        "py.hist(b1_new)"
      ],
      "metadata": {
        "colab": {
          "base_uri": "https://localhost:8080/",
          "height": 358
        },
        "outputId": "b6fb9f9d-0b75-478a-ac40-2b99c2f4eac4",
        "id": "dSppC0-JfLMh"
      },
      "execution_count": null,
      "outputs": [
        {
          "output_type": "execute_result",
          "data": {
            "text/plain": [
              "(array([ 15.,  42., 140., 226., 255., 188.,  99.,  31.,   2.,   2.]),\n",
              " array([0.98582155, 0.9927517 , 0.99968186, 1.00661201, 1.01354216,\n",
              "        1.02047232, 1.02740247, 1.03433263, 1.04126278, 1.04819294,\n",
              "        1.05512309]),\n",
              " <a list of 10 Patch objects>)"
            ]
          },
          "metadata": {},
          "execution_count": 162
        },
        {
          "output_type": "display_data",
          "data": {
            "image/png": "[encoded data removed]",
            "text/plain": [
              "<Figure size 432x288 with 1 Axes>"
            ]
          },
          "metadata": {
            "needs_background": "light"
          }
        }
      ]
    },
    {
      "cell_type": "code",
      "source": [
        "data = pd.DataFrame({'x':x, 'y':y})\n",
        "results = smf.ols('y ~ x', data=data).fit()\n",
        "print(results.summary())"
      ],
      "metadata": {
        "colab": {
          "base_uri": "https://localhost:8080/"
        },
        "outputId": "e927798e-acf4-4cf6-acfe-bfa46aaa7580",
        "id": "s3PZEWVFfLMi"
      },
      "execution_count": null,
      "outputs": [
        {
          "output_type": "stream",
          "name": "stdout",
          "text": [
            "                            OLS Regression Results                            \n",
            "==============================================================================\n",
            "Dep. Variable:                      y   R-squared:                       0.851\n",
            "Model:                            OLS   Adj. R-squared:                  0.850\n",
            "Method:                 Least Squares   F-statistic:                 1.137e+04\n",
            "Date:                Sun, 06 Feb 2022   Prob (F-statistic):               0.00\n",
            "Time:                        19:24:01   Log-Likelihood:                 1342.2\n",
            "No. Observations:                2000   AIC:                            -2680.\n",
            "Df Residuals:                    1998   BIC:                            -2669.\n",
            "Df Model:                           1                                         \n",
            "Covariance Type:            nonrobust                                         \n",
            "==============================================================================\n",
            "                 coef    std err          t      P>|t|      [0.025      0.975]\n",
            "------------------------------------------------------------------------------\n",
            "Intercept      0.3299      0.005     60.165      0.000       0.319       0.341\n",
            "x              1.0162      0.010    106.618      0.000       0.998       1.035\n",
            "==============================================================================\n",
            "Omnibus:                       11.635   Durbin-Watson:                   1.988\n",
            "Prob(Omnibus):                  0.003   Jarque-Bera (JB):               11.127\n",
            "Skew:                           0.152   Prob(JB):                      0.00384\n",
            "Kurtosis:                       2.797   Cond. No.                         4.35\n",
            "==============================================================================\n",
            "\n",
            "Warnings:\n",
            "[1] Standard Errors assume that the covariance matrix of the errors is correctly specified.\n"
          ]
        }
      ]
    },
    {
      "cell_type": "code",
      "source": [
        "print('std err b0: ', np.std(b0_new))\n",
        "print('std err b1: ', np.std(b1_new))\n"
      ],
      "metadata": {
        "colab": {
          "base_uri": "https://localhost:8080/"
        },
        "outputId": "d191dce5-18e0-4527-da63-c5a52d9c3572",
        "id": "xVTTz9UnfLMi"
      },
      "execution_count": null,
      "outputs": [
        {
          "output_type": "stream",
          "name": "stdout",
          "text": [
            "std err b0:  0.005852258264359114\n",
            "std err b1:  0.010411859311988996\n"
          ]
        }
      ]
    },
    {
      "cell_type": "markdown",
      "source": [
        "**BIG QUESTION:  What happens when our model is wrong is a different way?**"
      ],
      "metadata": {
        "id": "MnMaCM3FfwkW"
      }
    },
    {
      "cell_type": "code",
      "source": [
        "# Generate data\n",
        "number_of_points = 200\n",
        "x = np.random.uniform(0, 1, size=number_of_points)\n",
        "\n",
        "true_a = 1.0\n",
        "true_b = 0.5\n",
        "\n",
        "mu = 0.0\n",
        "sigma = 0.1\n",
        "noise = np.random.normal(loc=mu, scale=sigma, size=number_of_points)\n",
        "\n",
        "y = true_a*x**2 + true_b + noise*x*5\n",
        "\n",
        "# Make x into a 2D array\n",
        "X = x.reshape(-1,1)"
      ],
      "metadata": {
        "id": "jKAy3Dc-fwkW"
      },
      "execution_count": null,
      "outputs": []
    },
    {
      "cell_type": "code",
      "source": [
        "from sklearn.utils import resample\n",
        "\n",
        "X_new, y_new = resample(X, y)\n",
        "reg = LinearRegression().fit(X_new, y_new)\n",
        "y_hat_new = reg.predict(X_new)\n",
        "py.scatter(X_new[:,0],y_new)\n",
        "py.plot(X_new[:,0],y_hat_new)"
      ],
      "metadata": {
        "colab": {
          "base_uri": "https://localhost:8080/",
          "height": 283
        },
        "outputId": "71ad890a-8b14-4327-87dd-e4280a3e509b",
        "id": "PxiXeV8GfwkW"
      },
      "execution_count": null,
      "outputs": [
        {
          "output_type": "execute_result",
          "data": {
            "text/plain": [
              "[<matplotlib.lines.Line2D at 0x7f8e9e212bd0>]"
            ]
          },
          "metadata": {},
          "execution_count": 210
        },
        {
          "output_type": "display_data",
          "data": {
            "image/png": "[encoded data removed]",
            "text/plain": [
              "<Figure size 432x288 with 1 Axes>"
            ]
          },
          "metadata": {
            "needs_background": "light"
          }
        }
      ]
    },
    {
      "cell_type": "code",
      "source": [
        "for c in ['r', 'g', 'b']:\n",
        "  X_new, y_new = resample(X, y)\n",
        "  reg = LinearRegression().fit(X_new, y_new)\n",
        "  y_hat_new = reg.predict(X_new)\n",
        "  py.scatter(X_new[:,0], y_new, color=c)\n",
        "  py.plot(X_new[:,0], y_hat_new, color=c)"
      ],
      "metadata": {
        "colab": {
          "base_uri": "https://localhost:8080/",
          "height": 265
        },
        "outputId": "08328cd0-786d-449d-8bd2-7aa45f4d9d20",
        "id": "oYMaWjDyfwkW"
      },
      "execution_count": null,
      "outputs": [
        {
          "output_type": "display_data",
          "data": {
            "image/png": "[encoded data removed]",
            "text/plain": [
              "<Figure size 432x288 with 1 Axes>"
            ]
          },
          "metadata": {
            "needs_background": "light"
          }
        }
      ]
    },
    {
      "cell_type": "code",
      "source": [
        "b0_new =[]\n",
        "b1_new = []\n",
        "for i in range(1000):\n",
        "  X_new, y_new = resample(X, y)\n",
        "  reg = LinearRegression().fit(X_new, y_new)\n",
        "  b0_new += [reg.intercept_]\n",
        "  b1_new += [reg.coef_[0]]"
      ],
      "metadata": {
        "id": "RcGQ3dGgfwkW"
      },
      "execution_count": null,
      "outputs": []
    },
    {
      "cell_type": "code",
      "source": [
        "py.hist(b0_new)"
      ],
      "metadata": {
        "colab": {
          "base_uri": "https://localhost:8080/",
          "height": 358
        },
        "outputId": "cf1ae547-9286-4b60-bfd3-eaeeb5d4070a",
        "id": "nXtdIiZkfwkX"
      },
      "execution_count": null,
      "outputs": [
        {
          "output_type": "execute_result",
          "data": {
            "text/plain": [
              "(array([  2.,   6.,  10.,  42., 106., 220., 298., 190., 104.,  22.]),\n",
              " array([0.16194474, 0.18251645, 0.20308815, 0.22365986, 0.24423156,\n",
              "        0.26480327, 0.28537497, 0.30594668, 0.32651839, 0.34709009,\n",
              "        0.3676618 ]),\n",
              " <a list of 10 Patch objects>)"
            ]
          },
          "metadata": {},
          "execution_count": 213
        },
        {
          "output_type": "display_data",
          "data": {
            "image/png": "[encoded data removed]",
            "text/plain": [
              "<Figure size 432x288 with 1 Axes>"
            ]
          },
          "metadata": {
            "needs_background": "light"
          }
        }
      ]
    },
    {
      "cell_type": "code",
      "source": [
        "py.hist(b1_new)"
      ],
      "metadata": {
        "colab": {
          "base_uri": "https://localhost:8080/",
          "height": 361
        },
        "outputId": "9816d94c-5e12-4a4b-d582-56a63e6f7156",
        "id": "-bOdMORsfwkX"
      },
      "execution_count": null,
      "outputs": [
        {
          "output_type": "execute_result",
          "data": {
            "text/plain": [
              "(array([ 17.,  63., 186., 289., 233., 143.,  55.,  10.,   3.,   1.]),\n",
              " array([0.8961545 , 0.95466166, 1.01316881, 1.07167596, 1.13018311,\n",
              "        1.18869027, 1.24719742, 1.30570457, 1.36421172, 1.42271887,\n",
              "        1.48122603]),\n",
              " <a list of 10 Patch objects>)"
            ]
          },
          "metadata": {},
          "execution_count": 214
        },
        {
          "output_type": "display_data",
          "data": {
            "image/png": "[encoded data removed]",
            "text/plain": [
              "<Figure size 432x288 with 1 Axes>"
            ]
          },
          "metadata": {
            "needs_background": "light"
          }
        }
      ]
    },
    {
      "cell_type": "code",
      "source": [
        "data = pd.DataFrame({'x':x, 'y':y})\n",
        "results = smf.ols('y ~ x', data=data).fit()\n",
        "print(results.summary())"
      ],
      "metadata": {
        "colab": {
          "base_uri": "https://localhost:8080/"
        },
        "outputId": "7751f545-6d4f-48ed-d709-e6136e65be00",
        "id": "01849Q0OfwkX"
      },
      "execution_count": null,
      "outputs": [
        {
          "output_type": "stream",
          "name": "stdout",
          "text": [
            "                            OLS Regression Results                            \n",
            "==============================================================================\n",
            "Dep. Variable:                      y   R-squared:                       0.564\n",
            "Model:                            OLS   Adj. R-squared:                  0.561\n",
            "Method:                 Least Squares   F-statistic:                     255.8\n",
            "Date:                Sun, 06 Feb 2022   Prob (F-statistic):           1.66e-37\n",
            "Time:                        19:28:17   Log-Likelihood:                -31.797\n",
            "No. Observations:                 200   AIC:                             67.59\n",
            "Df Residuals:                     198   BIC:                             74.19\n",
            "Df Model:                           1                                         \n",
            "Covariance Type:            nonrobust                                         \n",
            "==============================================================================\n",
            "                 coef    std err          t      P>|t|      [0.025      0.975]\n",
            "------------------------------------------------------------------------------\n",
            "Intercept      0.2921      0.040      7.319      0.000       0.213       0.371\n",
            "x              1.1237      0.070     15.993      0.000       0.985       1.262\n",
            "==============================================================================\n",
            "Omnibus:                       11.010   Durbin-Watson:                   2.026\n",
            "Prob(Omnibus):                  0.004   Jarque-Bera (JB):               14.594\n",
            "Skew:                           0.379   Prob(JB):                     0.000677\n",
            "Kurtosis:                       4.084   Cond. No.                         4.38\n",
            "==============================================================================\n",
            "\n",
            "Warnings:\n",
            "[1] Standard Errors assume that the covariance matrix of the errors is correctly specified.\n"
          ]
        }
      ]
    },
    {
      "cell_type": "code",
      "source": [
        "print('std err b0: ', np.std(b0_new))\n",
        "print('std err b1: ', np.std(b1_new))\n"
      ],
      "metadata": {
        "colab": {
          "base_uri": "https://localhost:8080/"
        },
        "outputId": "fcf2810f-87e9-4028-9196-767bf5fc89d0",
        "id": "dDj7Gp-_fwkX"
      },
      "execution_count": null,
      "outputs": [
        {
          "output_type": "stream",
          "name": "stdout",
          "text": [
            "std err b0:  0.030446313942500497\n",
            "std err b1:  0.08157797412230629\n"
          ]
        }
      ]
    },
    {
      "cell_type": "markdown",
      "source": [
        "## Pytorch:  A special bonus for those who want to do more advanced techniques"
      ],
      "metadata": {
        "id": "LVn5CCmSSUyW"
      }
    },
    {
      "cell_type": "markdown",
      "source": [
        "> PyTorch enables fast, flexible experimentation and efficient production through a user-friendly front-end, distributed training, and ecosystem of tools and libraries."
      ],
      "metadata": {
        "id": "Fh8PWnTKUY-6"
      }
    },
    {
      "cell_type": "markdown",
      "source": [
        "https://pytorch.org/"
      ],
      "metadata": {
        "id": "gOtZ9xkuULku"
      }
    },
    {
      "cell_type": "markdown",
      "source": [
        "https://pytorch.org/tutorials/"
      ],
      "metadata": {
        "id": "16gkc4E_UfYi"
      }
    },
    {
      "cell_type": "markdown",
      "source": [
        "https://towardsdatascience.com/linear-regression-with-pytorch-eb6dedead817"
      ],
      "metadata": {
        "id": "sASCQl98FprV"
      }
    },
    {
      "cell_type": "code",
      "source": [
        "import torch\n",
        "from torch.autograd import Variable\n"
      ],
      "metadata": {
        "id": "IycJBWAvFn3t"
      },
      "execution_count": null,
      "outputs": []
    },
    {
      "cell_type": "code",
      "source": [
        "class linearRegression(torch.nn.Module):\n",
        "    def __init__(self, inputSize, outputSize):\n",
        "        super(linearRegression, self).__init__()\n",
        "        self.linear = torch.nn.Linear(inputSize, outputSize)\n",
        "\n",
        "    def forward(self, x):\n",
        "        out = self.linear(x)\n",
        "        return out"
      ],
      "metadata": {
        "id": "wQAoua4XT7qk"
      },
      "execution_count": null,
      "outputs": []
    },
    {
      "cell_type": "code",
      "source": [
        "# Generate data\n",
        "number_of_points = 100\n",
        "x = np.random.uniform(0, 1, size=number_of_points)\n",
        "\n",
        "true_a = 1.0\n",
        "true_b = 0.5\n",
        "\n",
        "mu = 0.0\n",
        "sigma = 0.1\n",
        "noise = np.random.normal(loc=mu, scale=sigma, size=number_of_points)\n",
        "\n",
        "y = true_a*x + true_b + noise"
      ],
      "metadata": {
        "id": "AN1Mjec5SAmC"
      },
      "execution_count": null,
      "outputs": []
    },
    {
      "cell_type": "code",
      "source": [
        "x_train = x.reshape(-1,1).astype(np.float32)\n",
        "y_train = y.reshape(-1,1).astype(np.float32)"
      ],
      "metadata": {
        "id": "Fxl5sLOSSHFT"
      },
      "execution_count": null,
      "outputs": []
    },
    {
      "cell_type": "code",
      "source": [
        "inputDim = 1        # takes variable 'x' \n",
        "outputDim = 1       # takes variable 'y'\n",
        "learningRate = 0.01 \n",
        "epochs = 1000"
      ],
      "metadata": {
        "id": "vzAjsZKJSQo3"
      },
      "execution_count": null,
      "outputs": []
    },
    {
      "cell_type": "code",
      "source": [
        "model = linearRegression(inputDim, outputDim)\n",
        "##### For GPU #######\n",
        "if torch.cuda.is_available():\n",
        "    model.cuda()"
      ],
      "metadata": {
        "id": "0gGeZIEnSLb7"
      },
      "execution_count": null,
      "outputs": []
    },
    {
      "cell_type": "code",
      "source": [
        "criterion = torch.nn.MSELoss() \n",
        "optimizer = torch.optim.SGD(model.parameters(), lr=learningRate)"
      ],
      "metadata": {
        "id": "WCIOYAh3ST6Z"
      },
      "execution_count": null,
      "outputs": []
    },
    {
      "cell_type": "code",
      "source": [
        "loss_list = []\n",
        "for epoch in range(epochs):\n",
        "    # Converting inputs and labels to Variable\n",
        "    if torch.cuda.is_available():\n",
        "        inputs = Variable(torch.from_numpy(x_train).cuda())\n",
        "        labels = Variable(torch.from_numpy(y_train).cuda())\n",
        "    else:\n",
        "        inputs = Variable(torch.from_numpy(x_train))\n",
        "        labels = Variable(torch.from_numpy(y_train))\n",
        "\n",
        "    # Clear gradient buffers because we don't want any gradient from previous epoch to carry forward, dont want to cummulate gradients\n",
        "    optimizer.zero_grad()\n",
        "\n",
        "    # get output from the model, given the inputs\n",
        "    outputs = model(inputs)\n",
        "\n",
        "    # get loss for the predicted output\n",
        "    loss = criterion(outputs, labels)\n",
        "    # get gradients w.r.t to parameters\n",
        "    loss.backward()\n",
        "\n",
        "    # update parameters\n",
        "    optimizer.step()\n",
        "\n",
        "    loss_list += [loss.item()]"
      ],
      "metadata": {
        "id": "Oxa5Vi83R948"
      },
      "execution_count": null,
      "outputs": []
    },
    {
      "cell_type": "code",
      "source": [
        "py.plot(loss_list)"
      ],
      "metadata": {
        "colab": {
          "base_uri": "https://localhost:8080/"
        },
        "id": "-hsCKyu0T2jK",
        "outputId": "592fa10c-4e21-498d-9a81-e81744a74b2e"
      },
      "execution_count": null,
      "outputs": [
        {
          "output_type": "execute_result",
          "data": {
            "text/plain": [
              "[<matplotlib.lines.Line2D at 0x7f8e9eabded0>]"
            ]
          },
          "metadata": {},
          "execution_count": 155
        },
        {
          "output_type": "display_data",
          "data": {
            "image/png": "[encoded data removed]",
            "text/plain": [
              "<Figure size 432x288 with 1 Axes>"
            ]
          },
          "metadata": {
            "needs_background": "light"
          }
        }
      ]
    },
    {
      "cell_type": "code",
      "source": [
        "with torch.no_grad(): # we don't need gradients in the testing phase\n",
        "    if torch.cuda.is_available():\n",
        "        predicted = model(Variable(torch.from_numpy(x_train).cuda())).cpu().data.numpy()\n",
        "    else:\n",
        "        predicted = model(Variable(torch.from_numpy(x_train))).data.numpy()\n",
        "\n",
        "plt.clf()\n",
        "plt.plot(x_train, y_train, 'go', label='True data', alpha=0.5)\n",
        "plt.plot(x_train, predicted, '--', label='Predictions', alpha=0.5)\n",
        "plt.legend(loc='best')\n",
        "plt.show()"
      ],
      "metadata": {
        "colab": {
          "base_uri": "https://localhost:8080/"
        },
        "id": "ayItS4ZPR-HL",
        "outputId": "7db895f3-5d96-4363-cf10-b07e5e3ecd30"
      },
      "execution_count": null,
      "outputs": [
        {
          "output_type": "display_data",
          "data": {
            "image/png": "[encoded data removed]",
            "text/plain": [
              "<Figure size 432x288 with 1 Axes>"
            ]
          },
          "metadata": {
            "needs_background": "light"
          }
        }
      ]
    },
    {
      "cell_type": "markdown",
      "source": [
        ""
      ],
      "metadata": {
        "id": "dJtAATBUEHQQ"
      }
    }
  ],
  "metadata": {
    "anaconda-cloud": {},
    "kernelspec": {
      "display_name": "Python 3",
      "language": "python",
      "name": "python3"
    },
    "language_info": {
      "codemirror_mode": {
        "name": "ipython",
        "version": 3
      },
      "file_extension": ".py",
      "mimetype": "text/x-python",
      "name": "python",
      "nbconvert_exporter": "python",
      "pygments_lexer": "ipython3",
      "version": "3.6.8"
    },
    "colab": {
      "name": "Bokeh class ideas.ipynb",
      "provenance": [],
      "toc_visible": true
    }
  },
  "nbformat": 4,
  "nbformat_minor": 0
}