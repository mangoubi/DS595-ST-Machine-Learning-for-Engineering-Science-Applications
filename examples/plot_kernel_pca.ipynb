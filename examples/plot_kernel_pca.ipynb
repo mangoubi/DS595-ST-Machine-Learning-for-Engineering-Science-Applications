{
  "cells": [
    {
      "cell_type": "markdown",
      "metadata": {
        "id": "view-in-github",
        "colab_type": "text"
      },
      "source": [
        "<a href=\"https://colab.research.google.com/github/mangoubi/DS595-ST-Machine-Learning-for-Engineering-Science-Applications/blob/main/examples/plot_kernel_pca.ipynb\" target=\"_parent\"><img src=\"https://colab.research.google.com/assets/colab-badge.svg\" alt=\"Open In Colab\"/></a>"
      ]
    },
    {
      "cell_type": "code",
      "execution_count": null,
      "metadata": {
        "id": "n6OqcDVP67Nm"
      },
      "outputs": [],
      "source": [
        "%matplotlib inline"
      ]
    },
    {
      "cell_type": "markdown",
      "metadata": {
        "id": "6Id7BcVF67Nq"
      },
      "source": [
        "\n",
        "# Kernel PCA\n",
        "\n",
        "This example shows the difference between the Principal Components Analysis\n",
        "(:class:`~sklearn.decomposition.PCA`) and its kernalized version\n",
        "(:class:`~sklearn.decomposition.KernelPCA`).\n",
        "\n",
        "On the one hand, we show that :class:`~sklearn.decomposition.KernelPCA` is able\n",
        "to find a projection of the data which linearly separates them while it is not the case\n",
        "with :class:`~sklearn.decomposition.PCA`.\n",
        "\n",
        "Finally, we show that inverting this projection is an approximation with\n",
        ":class:`~sklearn.decomposition.KernelPCA`, while it is exact with\n",
        ":class:`~sklearn.decomposition.PCA`.\n"
      ]
    },
    {
      "cell_type": "code",
      "execution_count": null,
      "metadata": {
        "id": "jWNI4elN67Ns"
      },
      "outputs": [],
      "source": [
        "# Authors: Mathieu Blondel\n",
        "#          Andreas Mueller\n",
        "#          Guillaume Lemaitre\n",
        "# License: BSD 3 clause"
      ]
    },
    {
      "cell_type": "markdown",
      "metadata": {
        "id": "9lPGUPCq67Nt"
      },
      "source": [
        "## Projecting data: `PCA` vs. `KernelPCA`\n",
        "\n",
        "In this section, we show the advantages of using a kernel when\n",
        "projecting data using a Principal Component Analysis (PCA). We create a\n",
        "dataset made of two nested circles.\n",
        "\n"
      ]
    },
    {
      "cell_type": "code",
      "execution_count": null,
      "metadata": {
        "id": "1lwi3Yku67Nu"
      },
      "outputs": [],
      "source": [
        "from sklearn.datasets import make_circles\n",
        "from sklearn.model_selection import train_test_split\n",
        "\n",
        "X, y = make_circles(n_samples=1_000, factor=0.3, noise=0.05, random_state=0)\n",
        "X_train, X_test, y_train, y_test = train_test_split(X, y, stratify=y, random_state=0)"
      ]
    },
    {
      "cell_type": "markdown",
      "metadata": {
        "id": "gSBi-zsH67Nv"
      },
      "source": [
        "Let's have a quick first look at the generated dataset.\n",
        "\n"
      ]
    },
    {
      "cell_type": "code",
      "execution_count": null,
      "metadata": {
        "id": "R2cqlFnZ67Nv"
      },
      "outputs": [],
      "source": [
        "import matplotlib.pyplot as plt\n",
        "\n",
        "_, (train_ax, test_ax) = plt.subplots(ncols=2, sharex=True, sharey=True, figsize=(8, 4))\n",
        "\n",
        "train_ax.scatter(X_train[:, 0], X_train[:, 1], c=y_train)\n",
        "train_ax.set_ylabel(\"Feature #1\")\n",
        "train_ax.set_xlabel(\"Feature #0\")\n",
        "train_ax.set_title(\"Training data\")\n",
        "\n",
        "test_ax.scatter(X_test[:, 0], X_test[:, 1], c=y_test)\n",
        "test_ax.set_xlabel(\"Feature #0\")\n",
        "_ = test_ax.set_title(\"Testing data\")"
      ]
    },
    {
      "cell_type": "markdown",
      "metadata": {
        "id": "_o92FJBu67Nw"
      },
      "source": [
        "The samples from each class cannot be linearly separated: there is no\n",
        "straight line that can split the samples of the inner set from the outer\n",
        "set.\n",
        "\n",
        "Now, we will use PCA with and without a kernel to see what is the effect of\n",
        "using such a kernel. The kernel used here is a radial basis function (RBF)\n",
        "kernel.\n",
        "\n"
      ]
    },
    {
      "cell_type": "code",
      "execution_count": null,
      "metadata": {
        "id": "0rEzzNfZ67Nx"
      },
      "outputs": [],
      "source": [
        "from sklearn.decomposition import PCA, KernelPCA\n",
        "\n",
        "pca = PCA(n_components=2)\n",
        "kernel_pca = KernelPCA(\n",
        "    n_components=None, kernel=\"rbf\", gamma=10, fit_inverse_transform=True, alpha=0.1\n",
        ")\n",
        "\n",
        "X_test_pca = pca.fit(X_train).transform(X_test)\n",
        "X_test_kernel_pca = kernel_pca.fit(X_train).transform(X_test)"
      ]
    },
    {
      "cell_type": "code",
      "execution_count": null,
      "metadata": {
        "id": "C-MCiSxI67Ny"
      },
      "outputs": [],
      "source": [
        "fig, (orig_data_ax, pca_proj_ax, kernel_pca_proj_ax) = plt.subplots(\n",
        "    ncols=3, figsize=(14, 4)\n",
        ")\n",
        "\n",
        "orig_data_ax.scatter(X_test[:, 0], X_test[:, 1], c=y_test)\n",
        "orig_data_ax.set_ylabel(\"Feature #1\")\n",
        "orig_data_ax.set_xlabel(\"Feature #0\")\n",
        "orig_data_ax.set_title(\"Testing data\")\n",
        "\n",
        "pca_proj_ax.scatter(X_test_pca[:, 0], X_test_pca[:, 1], c=y_test)\n",
        "pca_proj_ax.set_ylabel(\"Principal component #1\")\n",
        "pca_proj_ax.set_xlabel(\"Principal component #0\")\n",
        "pca_proj_ax.set_title(\"Projection of testing data\\n using PCA\")\n",
        "\n",
        "kernel_pca_proj_ax.scatter(X_test_kernel_pca[:, 0], X_test_kernel_pca[:, 1], c=y_test)\n",
        "kernel_pca_proj_ax.set_ylabel(\"Principal component #1\")\n",
        "kernel_pca_proj_ax.set_xlabel(\"Principal component #0\")\n",
        "_ = kernel_pca_proj_ax.set_title(\"Projection of testing data\\n using KernelPCA\")"
      ]
    },
    {
      "cell_type": "markdown",
      "metadata": {
        "id": "w7cnokYe67Nz"
      },
      "source": [
        "We recall that PCA transforms the data linearly. Intuitively, it means that\n",
        "the coordinate system will be centered, rescaled on each component\n",
        "with respected to its variance and finally be rotated.\n",
        "The obtained data from this transformation is isotropic and can now be\n",
        "projected on its _principal components_.\n",
        "\n",
        "Thus, looking at the projection made using PCA (i.e. the middle figure), we\n",
        "see that there is no change regarding the scaling; indeed the data being two\n",
        "concentric circles centered in zero, the original data is already isotropic.\n",
        "However, we can see that the data have been rotated. As a\n",
        "conclusion, we see that such a projection would not help if define a linear\n",
        "classifier to distinguish samples from both classes.\n",
        "\n",
        "Using a kernel allows to make a non-linear projection. Here, by using an RBF\n",
        "kernel, we expect that the projection will unfold the dataset while keeping\n",
        "approximately preserving the relative distances of pairs of data points that\n",
        "are close to one another in the original space.\n",
        "\n",
        "We observe such behaviour in the figure on the right: the samples of a given\n",
        "class are closer to each other than the samples from the opposite class,\n",
        "untangling both sample sets. Now, we can use a linear classifier to separate\n",
        "the samples from the two classes.\n",
        "\n",
        "## Projecting into the original feature space\n",
        "\n",
        "One particularity to have in mind when using\n",
        ":class:`~sklearn.decomposition.KernelPCA` is related to the reconstruction\n",
        "(i.e. the back projection in the original feature space). With\n",
        ":class:`~sklearn.decomposition.PCA`, the reconstruction will be exact if\n",
        "`n_components` is the same than the number of original features.\n",
        "This is the case in this example.\n",
        "\n",
        "We can investigate if we get the original dataset when back projecting with\n",
        ":class:`~sklearn.decomposition.KernelPCA`.\n",
        "\n"
      ]
    },
    {
      "cell_type": "code",
      "execution_count": null,
      "metadata": {
        "id": "2UXb6VgP67N1"
      },
      "outputs": [],
      "source": [
        "X_reconstructed_pca = pca.inverse_transform(pca.transform(X_test))\n",
        "X_reconstructed_kernel_pca = kernel_pca.inverse_transform(kernel_pca.transform(X_test))"
      ]
    },
    {
      "cell_type": "code",
      "execution_count": null,
      "metadata": {
        "id": "QbcKIJSb67N2"
      },
      "outputs": [],
      "source": [
        "fig, (orig_data_ax, pca_back_proj_ax, kernel_pca_back_proj_ax) = plt.subplots(\n",
        "    ncols=3, sharex=True, sharey=True, figsize=(13, 4)\n",
        ")\n",
        "\n",
        "orig_data_ax.scatter(X_test[:, 0], X_test[:, 1], c=y_test)\n",
        "orig_data_ax.set_ylabel(\"Feature #1\")\n",
        "orig_data_ax.set_xlabel(\"Feature #0\")\n",
        "orig_data_ax.set_title(\"Original test data\")\n",
        "\n",
        "pca_back_proj_ax.scatter(X_reconstructed_pca[:, 0], X_reconstructed_pca[:, 1], c=y_test)\n",
        "pca_back_proj_ax.set_xlabel(\"Feature #0\")\n",
        "pca_back_proj_ax.set_title(\"Reconstruction via PCA\")\n",
        "\n",
        "kernel_pca_back_proj_ax.scatter(\n",
        "    X_reconstructed_kernel_pca[:, 0], X_reconstructed_kernel_pca[:, 1], c=y_test\n",
        ")\n",
        "kernel_pca_back_proj_ax.set_xlabel(\"Feature #0\")\n",
        "_ = kernel_pca_back_proj_ax.set_title(\"Reconstruction via KernelPCA\")"
      ]
    },
    {
      "cell_type": "markdown",
      "metadata": {
        "id": "svB9aL2Q67N2"
      },
      "source": [
        "While we see a perfect reconstruction with\n",
        ":class:`~sklearn.decomposition.PCA` we observe a different result for\n",
        ":class:`~sklearn.decomposition.KernelPCA`.\n",
        "\n",
        "Indeed, :meth:`~sklearn.decomposition.KernelPCA.inverse_transform` cannot\n",
        "rely on an analytical back-projection and thus an extact reconstruction.\n",
        "Instead, a :class:`~sklearn.kernel_ridge.KernelRidge` is internally trained\n",
        "to learn a mapping from the kernalized PCA basis to the original feature\n",
        "space. This method therefore comes with an approximation introducing small\n",
        "differences when back projecting in the original feature space.\n",
        "\n",
        "To improve the reconstruction using\n",
        ":meth:`~sklearn.decomposition.KernelPCA.inverse_transform`, one can tune\n",
        "`alpha` in :class:`~sklearn.decomposition.KernelPCA`, the regularization term\n",
        "which controls the reliance on the training data during the training of\n",
        "the mapping.\n",
        "\n"
      ]
    }
  ],
  "metadata": {
    "kernelspec": {
      "display_name": "Python 3",
      "language": "python",
      "name": "python3"
    },
    "language_info": {
      "codemirror_mode": {
        "name": "ipython",
        "version": 3
      },
      "file_extension": ".py",
      "mimetype": "text/x-python",
      "name": "python",
      "nbconvert_exporter": "python",
      "pygments_lexer": "ipython3",
      "version": "3.9.12"
    },
    "colab": {
      "provenance": [],
      "include_colab_link": true
    }
  },
  "nbformat": 4,
  "nbformat_minor": 0
}