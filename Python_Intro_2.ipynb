{
  "nbformat": 4,
  "nbformat_minor": 0,
  "metadata": {
    "colab": {
      "name": "Python Intro_2.ipynb",
      "provenance": [],
      "collapsed_sections": [],
      "authorship_tag": "ABX9TyOhZlsh+N1oNKcZb9BH/Mnd",
      "include_colab_link": true
    },
    "kernelspec": {
      "name": "python3",
      "display_name": "Python 3"
    },
    "language_info": {
      "name": "python"
    }
  },
  "cells": [
    {
      "cell_type": "markdown",
      "metadata": {
        "id": "view-in-github",
        "colab_type": "text"
      },
      "source": [
        "<a href=\"https://colab.research.google.com/github/mangoubi/DS595-ST-Machine-Learning-for-Engineering-Science-Applications/blob/main/Python_Intro_2.ipynb\" target=\"_parent\"><img src=\"https://colab.research.google.com/assets/colab-badge.svg\" alt=\"Open In Colab\"/></a>"
      ]
    },
    {
      "cell_type": "code",
      "source": [],
      "metadata": {
        "id": "Ok0my0E4c93d"
      },
      "execution_count": null,
      "outputs": []
    },
    {
      "cell_type": "code",
      "source": [],
      "metadata": {
        "id": "ag73p4CIc_Do"
      },
      "execution_count": null,
      "outputs": []
    },
    {
      "cell_type": "code",
      "source": [],
      "metadata": {
        "id": "29hG1AEGc_My"
      },
      "execution_count": null,
      "outputs": []
    },
    {
      "cell_type": "markdown",
      "source": [
        "# How to write an \"if\" Statement"
      ],
      "metadata": {
        "id": "bQT3oYQGUiLt"
      }
    },
    {
      "cell_type": "code",
      "source": [
        "a = 10\n",
        "\n",
        "if a >5:\n",
        "  print(\"Yeah!\")\n",
        "else:\n",
        "  print(\"Too bad\")"
      ],
      "metadata": {
        "colab": {
          "base_uri": "https://localhost:8080/"
        },
        "id": "HR6uinl7UXSL",
        "outputId": "7515d87e-94df-4217-d284-cb6b247880ff"
      },
      "execution_count": 19,
      "outputs": [
        {
          "output_type": "stream",
          "name": "stdout",
          "text": [
            "Yeah!\n"
          ]
        }
      ]
    },
    {
      "cell_type": "markdown",
      "source": [
        "# How to make a list in Python"
      ],
      "metadata": {
        "id": "_LPIehRxU0i3"
      }
    },
    {
      "cell_type": "code",
      "source": [
        "b=[5,9,-2,22]\n",
        "\n",
        "print(b[0])\n",
        "print(b[3])\n",
        "print(b[-1])"
      ],
      "metadata": {
        "colab": {
          "base_uri": "https://localhost:8080/"
        },
        "id": "9Fy0qLS7U_I2",
        "outputId": "7a159316-6d87-4625-851c-64a3c1f29579"
      },
      "execution_count": 20,
      "outputs": [
        {
          "output_type": "stream",
          "name": "stdout",
          "text": [
            "5\n",
            "22\n",
            "22\n"
          ]
        }
      ]
    },
    {
      "cell_type": "markdown",
      "source": [
        "# How to append a list in Python"
      ],
      "metadata": {
        "id": "XKREPIraVJrl"
      }
    },
    {
      "cell_type": "code",
      "source": [
        "b=[5,9,-2,22]\n",
        "\n",
        "b.append(6)\n",
        "\n",
        "print(b)"
      ],
      "metadata": {
        "colab": {
          "base_uri": "https://localhost:8080/"
        },
        "id": "9w3q_p9xVO5g",
        "outputId": "ea980bf6-bf22-4c8d-a68c-29925cb53fd1"
      },
      "execution_count": 21,
      "outputs": [
        {
          "output_type": "stream",
          "name": "stdout",
          "text": [
            "[5, 9, -2, 22, 6]\n"
          ]
        }
      ]
    },
    {
      "cell_type": "markdown",
      "source": [
        "# How to Make a dictionary in Python"
      ],
      "metadata": {
        "id": "6STMcEWdVhZD"
      }
    },
    {
      "cell_type": "code",
      "source": [
        "k={\"Apple\":6, \"Orange\":2}\n",
        "print(k[\"Apple\"])\n",
        "print(k[\"Orange\"])"
      ],
      "metadata": {
        "colab": {
          "base_uri": "https://localhost:8080/"
        },
        "id": "yn3is4nGVj5r",
        "outputId": "19ac49db-226a-4bf2-ef5f-b9c772e19c3a"
      },
      "execution_count": 22,
      "outputs": [
        {
          "output_type": "stream",
          "name": "stdout",
          "text": [
            "6\n",
            "2\n"
          ]
        }
      ]
    },
    {
      "cell_type": "markdown",
      "source": [
        "# Example: Counting Random Coin Flips"
      ],
      "metadata": {
        "id": "p4LDVpraUJ2j"
      }
    },
    {
      "cell_type": "code",
      "execution_count": 23,
      "metadata": {
        "id": "TU_IysI1Sa0U"
      },
      "outputs": [],
      "source": [
        "import random"
      ]
    },
    {
      "cell_type": "code",
      "source": [
        "outcomes = [0,0]\n",
        "for i in range(1000):\n",
        "      R = random.choice([0,1])\n",
        "      outcomes[R] = outcomes[R] +1\n",
        "\n",
        "print('heads =', outcomes[0])\n",
        "print('tails =', outcomes[1])\n"
      ],
      "metadata": {
        "colab": {
          "base_uri": "https://localhost:8080/"
        },
        "id": "hU2mnPwaSogE",
        "outputId": "55bfebda-b76f-4d43-d9a7-6ca5d7a0bc87"
      },
      "execution_count": 24,
      "outputs": [
        {
          "output_type": "stream",
          "name": "stdout",
          "text": [
            "heads = 498\n",
            "tails = 502\n"
          ]
        }
      ]
    },
    {
      "cell_type": "markdown",
      "source": [
        "We can do the same thing with a dictionary, to make our code more readable!"
      ],
      "metadata": {
        "id": "u398lzQYWAhL"
      }
    },
    {
      "cell_type": "code",
      "source": [
        "import random\n",
        "\n",
        "outcomes = {\"Heads\":0, \"Tails\":0}\n",
        "for i in range(1000):\n",
        "      R = random.choice([\"Heads\",\"Tails\"])\n",
        "      outcomes[R] = outcomes[R] +1\n",
        "\n",
        "print('heads =', outcomes[\"Heads\"])\n",
        "print('tails =', outcomes[\"Tails\"])\n"
      ],
      "metadata": {
        "colab": {
          "base_uri": "https://localhost:8080/"
        },
        "id": "bO97shHJWEwq",
        "outputId": "9d5f0646-308b-42e0-c1e9-06e0a09eaf94"
      },
      "execution_count": 25,
      "outputs": [
        {
          "output_type": "stream",
          "name": "stdout",
          "text": [
            "heads = 512\n",
            "tails = 488\n"
          ]
        }
      ]
    },
    {
      "cell_type": "markdown",
      "source": [
        "# How to make a plot"
      ],
      "metadata": {
        "id": "XMThRo7HbzKt"
      }
    },
    {
      "cell_type": "code",
      "source": [
        "import matplotlib.pyplot as plt\n",
        "import numpy as np"
      ],
      "metadata": {
        "id": "xuVtA3Otb3Jp"
      },
      "execution_count": 26,
      "outputs": []
    },
    {
      "cell_type": "code",
      "source": [
        "x = np.linspace(0, 2*np.pi, 100)\n",
        "y = np.sin(x)"
      ],
      "metadata": {
        "id": "547cUgKCcOby"
      },
      "execution_count": 27,
      "outputs": []
    },
    {
      "cell_type": "code",
      "source": [
        "myPlot = plt.plot(x,y)\n",
        "plt.show()"
      ],
      "metadata": {
        "colab": {
          "base_uri": "https://localhost:8080/",
          "height": 265
        },
        "id": "L6UlUTFmccmq",
        "outputId": "056dc8a9-4966-467e-e6bc-d8d36eb4b487"
      },
      "execution_count": 28,
      "outputs": [
        {
          "output_type": "display_data",
          "data": {
            "text/plain": [
              "<Figure size 432x288 with 1 Axes>"
            ],
            "image/png": "[encoded data removed]"
          },
          "metadata": {
            "needs_background": "light"
          }
        }
      ]
    }
  ]
}